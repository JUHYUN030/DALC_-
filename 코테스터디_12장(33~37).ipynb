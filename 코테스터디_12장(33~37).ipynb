{
  "nbformat": 4,
  "nbformat_minor": 0,
  "metadata": {
    "colab": {
      "name": "코테스터디_12장(33~37).ipynb",
      "provenance": [],
      "collapsed_sections": [],
      "authorship_tag": "ABX9TyPjNNLFFPEQu/Z4ZeFXDNoJ",
      "include_colab_link": true
    },
    "kernelspec": {
      "name": "python3",
      "display_name": "Python 3"
    },
    "language_info": {
      "name": "python"
    }
  },
  "cells": [
    {
      "cell_type": "markdown",
      "metadata": {
        "id": "view-in-github",
        "colab_type": "text"
      },
      "source": [
        "<a href=\"https://colab.research.google.com/github/JUHYUN030/DALC_CODING-TEST/blob/main/%EC%BD%94%ED%85%8C%EC%8A%A4%ED%84%B0%EB%94%94_12%EC%9E%A5(33~37).ipynb\" target=\"_parent\"><img src=\"https://colab.research.google.com/assets/colab-badge.svg\" alt=\"Open In Colab\"/></a>"
      ]
    },
    {
      "cell_type": "markdown",
      "metadata": {
        "id": "PYrxGvFoCUIY"
      },
      "source": [
        "# 전화번호 문자 조합(p.338)\n",
        "2에서 9까지 숫자가 주어졌을 때 전화번호로 조합 가능한 모든 문자를 출력하라."
      ]
    },
    {
      "cell_type": "markdown",
      "metadata": {
        "id": "h5zP68ZbF5zl"
      },
      "source": [
        "**예시**  \n",
        "입력 23  \n",
        "출력 [\"ad\",\"ae\",\"af\",\"bd\",\"be\",\"bf\",\"cd\",\"ce\",\"cf\"]"
      ]
    },
    {
      "cell_type": "code",
      "metadata": {
        "id": "33nfpfqY0Ung"
      },
      "source": [
        "class Solution:\n",
        "    def letterCombinations(self, digits):\n",
        "        def dfs(index, path):\n",
        "            if len(path) == len(digits):\n",
        "                result.append(path)\n",
        "                return\n",
        "\n",
        "            for i in range(index, len(digits)):\n",
        "                for j in dic[digits[i]]:\n",
        "                    dfs(i + 1, path + j)\n",
        "\n",
        "        if not digits:\n",
        "            return []\n",
        "\n",
        "        dic = {\"2\": \"abc\", \"3\": \"def\", \"4\": \"ghi\", \"5\": \"jkl\", \"6\": \"mno\", \"7\": \"pqrs\", \"8\": \"tuv\", \"9\": \"wxyz\"}\n",
        "        result = []\n",
        "        dfs(0, \"\")\n",
        "\n",
        "        return result"
      ],
      "execution_count": 2,
      "outputs": []
    },
    {
      "cell_type": "markdown",
      "metadata": {
        "id": "WRdpjtTrHQuT"
      },
      "source": [
        "# 순열(p.341)\n",
        "서로 다른 정수를 입력받아 가능한 모든 순열을 리턴하라."
      ]
    },
    {
      "cell_type": "markdown",
      "metadata": {
        "id": "n9ay1YGyHbez"
      },
      "source": [
        "**예시**  \n",
        "입력 [1, 2, 3]  \n",
        "출력 [ \n",
        "    [1,2,3],\n",
        "    [1,3,2],\n",
        "    [2,1,3],\n",
        "    [2,3,1],\n",
        "    [3,1,2],\n",
        "    [3,2,1]\n",
        "]"
      ]
    },
    {
      "cell_type": "code",
      "metadata": {
        "id": "eonHfrTtGH02"
      },
      "source": [
        "class Solution:\n",
        "    def permute(self, nums):\n",
        "        results = []\n",
        "        prev_elements = []\n",
        "\n",
        "        def dfs(elements):\n",
        "            if len(elements) == 0:\n",
        "                results.append(prev_elements[:])\n",
        "\n",
        "            for e in elements:\n",
        "                next_elements = elements[:]\n",
        "                next_elements.remove(e)\n",
        "\n",
        "                prev_elements.append(e)\n",
        "                dfs(next_elements)\n",
        "                prev_elements.pop()\n",
        "\n",
        "        dfs(nums)\n",
        "        return results"
      ],
      "execution_count": 3,
      "outputs": []
    },
    {
      "cell_type": "markdown",
      "metadata": {
        "id": "dZBBBK-hICnx"
      },
      "source": [
        "# 조합(p.346)\n",
        "전체 수 n을 입력받아 k개의 조합을 리턴하라."
      ]
    },
    {
      "cell_type": "markdown",
      "metadata": {
        "id": "pgSSnYhkINMW"
      },
      "source": [
        "**예시**  \n",
        "입력 n = 4, k = 2  \n",
        "출력 [\n",
        "    [1,2],\n",
        "    [1,3],\n",
        "    [1,4],\n",
        "    [2,3],\n",
        "    [2,4],\n",
        "    [3,4]\n",
        "]"
      ]
    },
    {
      "cell_type": "code",
      "metadata": {
        "id": "A5EAPUKpIcGm"
      },
      "source": [
        "class Solution:\n",
        "    def combine(self, n, k):\n",
        "        results = []\n",
        "\n",
        "        def dfs(elements, start, k):\n",
        "            if k == 0:\n",
        "                results.append(elements[:])\n",
        "\n",
        "            for i in range(start, n+1):\n",
        "                elements.append(i)\n",
        "                dfs(elements, i+1, k-1)\n",
        "                elements.pop()\n",
        "\n",
        "        dfs([], 1, k)\n",
        "        return results"
      ],
      "execution_count": 9,
      "outputs": []
    }
  ]
}