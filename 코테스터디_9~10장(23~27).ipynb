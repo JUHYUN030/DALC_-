{
  "nbformat": 4,
  "nbformat_minor": 0,
  "metadata": {
    "colab": {
      "name": "코테스터디_9~10장(23~27).ipynb",
      "provenance": [],
      "collapsed_sections": [],
      "authorship_tag": "ABX9TyMDlrR6Pz4bHmwWvpLYeaxI",
      "include_colab_link": true
    },
    "kernelspec": {
      "name": "python3",
      "display_name": "Python 3"
    },
    "language_info": {
      "name": "python"
    }
  },
  "cells": [
    {
      "cell_type": "markdown",
      "metadata": {
        "id": "view-in-github",
        "colab_type": "text"
      },
      "source": [
        "<a href=\"https://colab.research.google.com/github/JUHYUN030/DALC_CODING-TEST/blob/main/%EC%BD%94%ED%85%8C%EC%8A%A4%ED%84%B0%EB%94%94_9~10%EC%9E%A5(23~27).ipynb\" target=\"_parent\"><img src=\"https://colab.research.google.com/assets/colab-badge.svg\" alt=\"Open In Colab\"/></a>"
      ]
    },
    {
      "cell_type": "markdown",
      "metadata": {
        "id": "EKVEbym-KoU-"
      },
      "source": [
        "# 큐를 이용한 스택 구현"
      ]
    },
    {
      "cell_type": "code",
      "metadata": {
        "id": "Tp9ww8XuP1eo"
      },
      "source": [
        "class MyStack:\n",
        "\n",
        "    def __init__(self):\n",
        "        q1 = deque()\n",
        "        q2 = deque()\n",
        "\n",
        "\n",
        "    def push(self, x: int) -> None:\n",
        "        while self.q1:\n",
        "            self.q2.append(self.q1.popleft())\n",
        "        self.q1.append(x)\n",
        "        \n",
        "        while self.q2:\n",
        "            self.q1.append(self.q2.popleft())\n",
        "\n",
        "    def pop(self) -> int:\n",
        "        return self.q1.popleft()\n",
        "\n",
        "    def top(self) -> int:\n",
        "        return self.q1[0]\n",
        "\n",
        "    def empty(self) -> bool:\n",
        "        return len(self.q1)==0"
      ],
      "execution_count": 7,
      "outputs": []
    },
    {
      "cell_type": "code",
      "metadata": {
        "id": "r_bTHiGeLNCU"
      },
      "source": [
        "class MyStack:\n",
        "    def __init__(self):\n",
        "        self.q = collections.deque()\n",
        "\n",
        "    def push(self, x):\n",
        "        self.q.append(x)\n",
        "        # 요소 삽입 후 맨 앞에 두는 상태로 재정렬\n",
        "        for _ in range(len(self.q) - 1):\n",
        "            self.q.append(self.q.popleft())\n",
        "\n",
        "    def pop(self):\n",
        "        return self.q.popleft()\n",
        "\n",
        "    def top(self):\n",
        "        return self.q[0]\n",
        "\n",
        "    def empty(self):\n",
        "        return len(self.q) == 0"
      ],
      "execution_count": 8,
      "outputs": []
    },
    {
      "cell_type": "markdown",
      "metadata": {
        "id": "YIGkONhtLvt-"
      },
      "source": [
        "# 스택을 이용한 큐 구현"
      ]
    },
    {
      "cell_type": "code",
      "metadata": {
        "id": "hPrLqkTeLx2Q"
      },
      "source": [
        "class MyQueue:\n",
        "    def __init__(self):\n",
        "        self.input = []\n",
        "        self.output = []\n",
        "\n",
        "    def push(self, x):\n",
        "        self.input.append(x)\n",
        "\n",
        "    def pop(self):\n",
        "        self.peek()\n",
        "        return self.output.pop()\n",
        "\n",
        "    def peek(self):\n",
        "        # output이 없으면 모두 재입력\n",
        "        if not self.output:\n",
        "            while self.input:\n",
        "                self.output.append(self.input.pop())\n",
        "        return self.output[-1]\n",
        "\n",
        "    def empty(self):\n",
        "        return self.input == [] and self.output == []"
      ],
      "execution_count": 9,
      "outputs": []
    },
    {
      "cell_type": "markdown",
      "metadata": {
        "id": "zFrGxr5IMRac"
      },
      "source": [
        "# k개 정렬 리스트 병합"
      ]
    },
    {
      "cell_type": "code",
      "metadata": {
        "id": "y8L5TYIPQxf7"
      },
      "source": [
        "def mergeKLists(self, lists):\n",
        "    root = result = ListNode(None)\n",
        "    heap = []\n",
        "\n",
        "    # 각 연결 리스트의 루트를 힙에 저장\n",
        "    for i in range(len(lists)):\n",
        "        if lists[i]:\n",
        "            heapq.heappush(heap, (lists[i].val, i, lists[i]))\n",
        "\n",
        "\n",
        "    # 힙 추출 이후 다음 노드는 다시 저장\n",
        "    while heap:\n",
        "        node = heapq.heappop(heap)\n",
        "        idx = node[1]\n",
        "        result.next = node[2]\n",
        "\n",
        "        result = result.next\n",
        "        if result.next:\n",
        "            heapq.heappush(heap, (result.next.val, idx, result.next))\n",
        "\n",
        "    return root.next"
      ],
      "execution_count": null,
      "outputs": []
    }
  ]
}