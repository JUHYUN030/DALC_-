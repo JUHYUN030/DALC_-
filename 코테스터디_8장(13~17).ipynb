{
  "nbformat": 4,
  "nbformat_minor": 0,
  "metadata": {
    "colab": {
      "name": "코테스터디_8장(13~17).ipynb",
      "provenance": [],
      "collapsed_sections": [],
      "authorship_tag": "ABX9TyMY6fuoGki9jihOtJkMHOCC",
      "include_colab_link": true
    },
    "kernelspec": {
      "name": "python3",
      "display_name": "Python 3"
    },
    "language_info": {
      "name": "python"
    }
  },
  "cells": [
    {
      "cell_type": "markdown",
      "metadata": {
        "id": "view-in-github",
        "colab_type": "text"
      },
      "source": [
        "<a href=\"https://colab.research.google.com/github/JUHYUN030/DALC_CODING-TEST/blob/main/%EC%BD%94%ED%85%8C%EC%8A%A4%ED%84%B0%EB%94%94_8%EC%9E%A5(13~17).ipynb\" target=\"_parent\"><img src=\"https://colab.research.google.com/assets/colab-badge.svg\" alt=\"Open In Colab\"/></a>"
      ]
    },
    {
      "cell_type": "markdown",
      "metadata": {
        "id": "FDTHQrNlMR4D"
      },
      "source": [
        "# 두 정렬 리스트의 병합(p.213)\n",
        "정렬되어 있는 두 연결 리스트를 합쳐라\n"
      ]
    },
    {
      "cell_type": "markdown",
      "metadata": {
        "id": "fVicBTeZRo6X"
      },
      "source": [
        "**예제**  \n",
        "입력 1->2->4, 1->3->4  \n",
        "출력 1->1->2->3->4->4"
      ]
    },
    {
      "cell_type": "code",
      "metadata": {
        "id": "c54bT4w0Md4l"
      },
      "source": [
        "def mergeTwoLists(self, l1, l2):\n",
        "    result = ListNode()\n",
        "    current = result\n",
        "\n",
        "    while l1 and l2:\n",
        "        if l1.val<l2.val:\n",
        "          current.next = l1\n",
        "          l1 = l1.next\n",
        "        else:\n",
        "            current.next = l2\n",
        "            l2 =l2.next\n",
        "        current = current.next\n",
        "    \n",
        "    if l1:\n",
        "        current.next = l1\n",
        "\n",
        "    elif l2:\n",
        "        current.next = l2\n",
        "\n",
        "    return result.next"
      ],
      "execution_count": 13,
      "outputs": []
    },
    {
      "cell_type": "code",
      "metadata": {
        "id": "vkJ3y8SoZawe"
      },
      "source": [
        "def mergeTwoLists(self, l1, l2):\n",
        "    if (not l1) or (l2 and l1.val>l2.val):\n",
        "        l1, l2 = l2, l1\n",
        "    if l1:\n",
        "        l1.next = self.mergeTwoLists(l1.next, l2)\n",
        "    return l1"
      ],
      "execution_count": 14,
      "outputs": []
    },
    {
      "cell_type": "markdown",
      "metadata": {
        "id": "RYBuMA0oaofj"
      },
      "source": [
        "# 역순연결리스트(p.219)\n",
        "연결리스트를 뒤집어라"
      ]
    },
    {
      "cell_type": "markdown",
      "metadata": {
        "id": "KrNQd3dFa3k9"
      },
      "source": [
        "**예제**  \n",
        "입력 1->2->3->4->5->NULL  \n",
        "출력 5->4->3->2->1->NULL"
      ]
    },
    {
      "cell_type": "code",
      "metadata": {
        "id": "7OiTERKOan4g"
      },
      "source": [
        "def reverseList(hea):\n",
        "    node, prev = head, None\n",
        "\n",
        "    while node:\n",
        "      next, node.next = node.next, prev\n",
        "      prev, node = node, next\n",
        "\n",
        "#1) next 변수에 현재 node가 가르키는 다음 노드를 저장\n",
        "#2) 현재 node가 가르키는 다음 노드를 prev로 변경\n",
        "#3) prev 변수에 현재 노드를 저장\n",
        "#4) node 변수에 next (현재 node가 가르키는 다음 노드)를 저장"
      ],
      "execution_count": 15,
      "outputs": []
    },
    {
      "cell_type": "code",
      "metadata": {
        "id": "dFAmRmn9gFpR"
      },
      "source": [
        "def reverseList(head):\n",
        "    def reverse(node: ListNode, prev: ListNode = None):\n",
        "        if not node:\n",
        "            return prev\n",
        "        next, node.next = node.next, prev\n",
        "        return reverse(next, node)\n",
        "\n",
        "    return reverse(head)"
      ],
      "execution_count": 16,
      "outputs": []
    },
    {
      "cell_type": "markdown",
      "metadata": {
        "id": "7HAbw15Bg8dd"
      },
      "source": [
        "# 페어의 노드스왑(p.229)\n",
        "연결 리스트를 입력받아 페어단위로 스왑하라"
      ]
    },
    {
      "cell_type": "markdown",
      "metadata": {
        "id": "asQlzf_UiUNt"
      },
      "source": [
        "**예제**  \n",
        "입력 1->2->3->4  \n",
        "출력 2->1->4->3"
      ]
    },
    {
      "cell_type": "code",
      "metadata": {
        "id": "OnoTYvAriThm"
      },
      "source": [
        "def swapPairs(self, head):\n",
        "\n",
        "    if not (head and head.next):\n",
        "        return head\n",
        "\n",
        "    node = head\n",
        "    while node and node.next:\n",
        "        node.val, node.next.val = node.next.val, node.val\n",
        "        node = node.next.next\n",
        "    return head"
      ],
      "execution_count": 17,
      "outputs": []
    },
    {
      "cell_type": "code",
      "metadata": {
        "id": "eJunA3xKjMGH"
      },
      "source": [
        "def swapPairs(self, head):\n",
        "    root = prev = LisitNode(None)\n",
        "    prev.next = head\n",
        "\n",
        "    #b가 a(head)를 가리키도록 할당\n",
        "    while head and head.next:\n",
        "        b = head.next\n",
        "        head.next = b.next\n",
        "        b.next = head\n",
        "        \n",
        "        #prev가 b를 가리키도록 할당\n",
        "        prev.next = b\n",
        "        \n",
        "        #다음번 비교를 위해 이동\n",
        "        head = head.next\n",
        "        prev = prev.next.next\n",
        "    return root.next"
      ],
      "execution_count": 18,
      "outputs": []
    },
    {
      "cell_type": "code",
      "metadata": {
        "id": "W2FoS8mUjDuS"
      },
      "source": [
        "def swapPairs(self, head):\n",
        "    if head and head.next:\n",
        "        p=head.next\n",
        "\n",
        "        #스왑된 값 리턴 받음\n",
        "        head.next = self.swapPairs(p.next)\n",
        "        p.next = head\n",
        "        return p\n",
        "    return head"
      ],
      "execution_count": 19,
      "outputs": []
    }
  ]
}