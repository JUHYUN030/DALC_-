{
  "nbformat": 4,
  "nbformat_minor": 0,
  "metadata": {
    "colab": {
      "name": "코테스터디_5장~7장.ipynb",
      "provenance": [],
      "collapsed_sections": [],
      "toc_visible": true,
      "authorship_tag": "ABX9TyPt0UlYLu1UvjzeofjZ5UT/",
      "include_colab_link": true
    },
    "kernelspec": {
      "name": "python3",
      "display_name": "Python 3"
    },
    "language_info": {
      "name": "python"
    }
  },
  "cells": [
    {
      "cell_type": "markdown",
      "metadata": {
        "id": "view-in-github",
        "colab_type": "text"
      },
      "source": [
        "<a href=\"https://colab.research.google.com/github/JUHYUN030/DALC_CODING-TEST/blob/main/%EC%BD%94%ED%85%8C%EC%8A%A4%ED%84%B0%EB%94%94_5%EC%9E%A5~7%EC%9E%A5.ipynb\" target=\"_parent\"><img src=\"https://colab.research.google.com/assets/colab-badge.svg\" alt=\"Open In Colab\"/></a>"
      ]
    },
    {
      "cell_type": "markdown",
      "metadata": {
        "id": "N_3YjzKFps-w"
      },
      "source": [
        "#리스트\n",
        "- 순서대로 저장하는 시퀀스\n",
        "- 변경 가능한 목록\n",
        "- 스택, 큐에서 사용 가능한 모든 연산을 함께 제공함\n",
        "- 리스트의 주요 연산 시간 복잡도(p.122~123)\n",
        "\n"
      ]
    },
    {
      "cell_type": "markdown",
      "metadata": {
        "id": "Ps8sIz-PpudK"
      },
      "source": [
        "## 리스트의 활용 방법 (p.123~126)"
      ]
    },
    {
      "cell_type": "code",
      "metadata": {
        "id": "V-bLxtC5N5da"
      },
      "source": [
        "a = list() #중괄호\n",
        "a = [] #대괄호로 좀 더 간단하게"
      ],
      "execution_count": null,
      "outputs": []
    },
    {
      "cell_type": "code",
      "metadata": {
        "colab": {
          "base_uri": "https://localhost:8080/"
        },
        "id": "l6lQODpqsKyJ",
        "outputId": "f6aa801a-2610-409e-f90f-4295294219af"
      },
      "source": [
        "a = [1,2,3]\n",
        "a"
      ],
      "execution_count": 6,
      "outputs": [
        {
          "output_type": "execute_result",
          "data": {
            "text/plain": [
              "[1, 2, 3]"
            ]
          },
          "metadata": {
            "tags": []
          },
          "execution_count": 6
        }
      ]
    },
    {
      "cell_type": "code",
      "metadata": {
        "colab": {
          "base_uri": "https://localhost:8080/"
        },
        "id": "VigUJYNfsK0r",
        "outputId": "fdacaea8-2258-4eab-d686-4b03baaa99f3"
      },
      "source": [
        "a.append(4)\n",
        "a"
      ],
      "execution_count": 7,
      "outputs": [
        {
          "output_type": "execute_result",
          "data": {
            "text/plain": [
              "[1, 2, 3, 4]"
            ]
          },
          "metadata": {
            "tags": []
          },
          "execution_count": 7
        }
      ]
    },
    {
      "cell_type": "code",
      "metadata": {
        "colab": {
          "base_uri": "https://localhost:8080/"
        },
        "id": "0VUtBI4IsK3p",
        "outputId": "563328bd-3faa-497b-9838-38a99964bdc9"
      },
      "source": [
        "a.insert(3, 5)\n",
        "a\n",
        "#insert() 함수 사용하면 특정 위치의 인덱스 지정해 요소를 추가할 수 있음"
      ],
      "execution_count": 8,
      "outputs": [
        {
          "output_type": "execute_result",
          "data": {
            "text/plain": [
              "[1, 2, 3, 5, 4]"
            ]
          },
          "metadata": {
            "tags": []
          },
          "execution_count": 8
        }
      ]
    },
    {
      "cell_type": "code",
      "metadata": {
        "colab": {
          "base_uri": "https://localhost:8080/"
        },
        "id": "IECW1em6sK_A",
        "outputId": "b094bc2e-06cd-4e8e-839a-14b0e1579fa1"
      },
      "source": [
        "a.append('안녕')\n",
        "a.append(True)\n",
        "a\n",
        "#숫자 외에도 다양한 자료형을 단일 리스트에 삽입할 수 있음"
      ],
      "execution_count": 31,
      "outputs": [
        {
          "output_type": "execute_result",
          "data": {
            "text/plain": [
              "[1, 5, 4, '안녕', True]"
            ]
          },
          "metadata": {
            "tags": []
          },
          "execution_count": 31
        }
      ]
    },
    {
      "cell_type": "code",
      "metadata": {
        "colab": {
          "base_uri": "https://localhost:8080/"
        },
        "id": "225ZLEiGsLCL",
        "outputId": "9737cd11-ec4a-49e4-8505-450d77b4d3fc"
      },
      "source": [
        "a[3]\n",
        "#파이썬 리스트에는 슬라이싱 기능이 있어 특정 범위 내의 값을 가져올 수 있음"
      ],
      "execution_count": 11,
      "outputs": [
        {
          "output_type": "execute_result",
          "data": {
            "text/plain": [
              "5"
            ]
          },
          "metadata": {
            "tags": []
          },
          "execution_count": 11
        }
      ]
    },
    {
      "cell_type": "code",
      "metadata": {
        "colab": {
          "base_uri": "https://localhost:8080/"
        },
        "id": "cts7bimUsLEk",
        "outputId": "a3ab3fee-b90a-4c13-888f-8f6977b6814a"
      },
      "source": [
        "a[1:3]"
      ],
      "execution_count": 12,
      "outputs": [
        {
          "output_type": "execute_result",
          "data": {
            "text/plain": [
              "[2, 3]"
            ]
          },
          "metadata": {
            "tags": []
          },
          "execution_count": 12
        }
      ]
    },
    {
      "cell_type": "code",
      "metadata": {
        "colab": {
          "base_uri": "https://localhost:8080/"
        },
        "id": "FNALn7LXsLG7",
        "outputId": "5dd59d2b-3024-4595-9458-2f8d7732ad52"
      },
      "source": [
        "a[:3]"
      ],
      "execution_count": 13,
      "outputs": [
        {
          "output_type": "execute_result",
          "data": {
            "text/plain": [
              "[1, 2, 3]"
            ]
          },
          "metadata": {
            "tags": []
          },
          "execution_count": 13
        }
      ]
    },
    {
      "cell_type": "code",
      "metadata": {
        "colab": {
          "base_uri": "https://localhost:8080/"
        },
        "id": "61bq3Jnltzk-",
        "outputId": "04fc8a30-36ad-4be4-87f5-96e718ce30ff"
      },
      "source": [
        "a[4:]"
      ],
      "execution_count": 14,
      "outputs": [
        {
          "output_type": "execute_result",
          "data": {
            "text/plain": [
              "[4, '안녕', True]"
            ]
          },
          "metadata": {
            "tags": []
          },
          "execution_count": 14
        }
      ]
    },
    {
      "cell_type": "code",
      "metadata": {
        "colab": {
          "base_uri": "https://localhost:8080/"
        },
        "id": "oLH8atghtznr",
        "outputId": "a177d487-2413-40f5-bc32-827a9a9497d7"
      },
      "source": [
        "a[1:4]"
      ],
      "execution_count": 15,
      "outputs": [
        {
          "output_type": "execute_result",
          "data": {
            "text/plain": [
              "[2, 3, 5]"
            ]
          },
          "metadata": {
            "tags": []
          },
          "execution_count": 15
        }
      ]
    },
    {
      "cell_type": "code",
      "metadata": {
        "colab": {
          "base_uri": "https://localhost:8080/"
        },
        "id": "jVn7Cd22tzqM",
        "outputId": "ded5a140-56ec-4e4d-f7c0-335b811c11e6"
      },
      "source": [
        "a[1:4:2] # 인덱스 1,3의 값"
      ],
      "execution_count": 16,
      "outputs": [
        {
          "output_type": "execute_result",
          "data": {
            "text/plain": [
              "[2, 5]"
            ]
          },
          "metadata": {
            "tags": []
          },
          "execution_count": 16
        }
      ]
    },
    {
      "cell_type": "code",
      "metadata": {
        "colab": {
          "base_uri": "https://localhost:8080/",
          "height": 169
        },
        "id": "0Mg3d4O4tzve",
        "outputId": "21952dd0-3769-4690-f8d8-c92c597f1899"
      },
      "source": [
        "a[9] #존재하지 않는 인덱스 조회할 경우, IndexError"
      ],
      "execution_count": 17,
      "outputs": [
        {
          "output_type": "error",
          "ename": "IndexError",
          "evalue": "ignored",
          "traceback": [
            "\u001b[0;31m---------------------------------------------------------------------------\u001b[0m",
            "\u001b[0;31mIndexError\u001b[0m                                Traceback (most recent call last)",
            "\u001b[0;32m<ipython-input-17-044f1ccc0778>\u001b[0m in \u001b[0;36m<module>\u001b[0;34m()\u001b[0m\n\u001b[0;32m----> 1\u001b[0;31m \u001b[0ma\u001b[0m\u001b[0;34m[\u001b[0m\u001b[0;36m9\u001b[0m\u001b[0;34m]\u001b[0m\u001b[0;34m\u001b[0m\u001b[0;34m\u001b[0m\u001b[0m\n\u001b[0m",
            "\u001b[0;31mIndexError\u001b[0m: list index out of range"
          ]
        }
      ]
    },
    {
      "cell_type": "code",
      "metadata": {
        "colab": {
          "base_uri": "https://localhost:8080/"
        },
        "id": "fLU_3SvPuhA5",
        "outputId": "47782453-4d3d-4272-f458-ccd1a9ecfb0e"
      },
      "source": [
        "try:\n",
        "    print(a[9])\n",
        "except IndexError:\n",
        "    print('존재하지 않는 인덱스')\n",
        "    \n",
        "#IndexError는 인덱스가 리스트의 길이를 넘어설 때 발생\n",
        "#try구문으로 에러에 대한 예외처리 할 수 있음"
      ],
      "execution_count": 19,
      "outputs": [
        {
          "output_type": "stream",
          "text": [
            "존재하지 않는 인덱스\n"
          ],
          "name": "stdout"
        }
      ]
    },
    {
      "cell_type": "code",
      "metadata": {
        "colab": {
          "base_uri": "https://localhost:8080/"
        },
        "id": "gJETT4WnuhDx",
        "outputId": "2ce0d63c-6a4c-40e4-c48a-318be10ef82f"
      },
      "source": [
        "a"
      ],
      "execution_count": 20,
      "outputs": [
        {
          "output_type": "execute_result",
          "data": {
            "text/plain": [
              "[1, 2, 3, 5, 4, '안녕', True]"
            ]
          },
          "metadata": {
            "tags": []
          },
          "execution_count": 20
        }
      ]
    },
    {
      "cell_type": "code",
      "metadata": {
        "colab": {
          "base_uri": "https://localhost:8080/"
        },
        "id": "VsjIZMgluhI-",
        "outputId": "ff93f733-7cf6-40ee-cb31-e3ea90401909"
      },
      "source": [
        "del a[1]\n",
        "a\n",
        "#인덱스로 삭제"
      ],
      "execution_count": 22,
      "outputs": [
        {
          "output_type": "execute_result",
          "data": {
            "text/plain": [
              "[1, 5, 4, '안녕', True]"
            ]
          },
          "metadata": {
            "tags": []
          },
          "execution_count": 22
        }
      ]
    },
    {
      "cell_type": "code",
      "metadata": {
        "colab": {
          "base_uri": "https://localhost:8080/"
        },
        "id": "IGYHIYX3vqAl",
        "outputId": "5ab04943-65b6-4508-d90e-a3d280e31d6b"
      },
      "source": [
        "a"
      ],
      "execution_count": 25,
      "outputs": [
        {
          "output_type": "execute_result",
          "data": {
            "text/plain": [
              "[1, 5, 4, '안녕', True]"
            ]
          },
          "metadata": {
            "tags": []
          },
          "execution_count": 25
        }
      ]
    },
    {
      "cell_type": "code",
      "metadata": {
        "id": "83zVyDuTuhSr"
      },
      "source": [
        "a.remove(3)\n",
        "a\n",
        "#값으로 삭제\n",
        "#[1, 5, 4, '안녕', True]"
      ],
      "execution_count": null,
      "outputs": []
    },
    {
      "cell_type": "code",
      "metadata": {
        "colab": {
          "base_uri": "https://localhost:8080/"
        },
        "id": "PMgtqEOCuhWY",
        "outputId": "65c5e317-b625-4b4a-da06-9740e3b0d5be"
      },
      "source": [
        "a"
      ],
      "execution_count": 33,
      "outputs": [
        {
          "output_type": "execute_result",
          "data": {
            "text/plain": [
              "[1, 5, 4, '안녕', True]"
            ]
          },
          "metadata": {
            "tags": []
          },
          "execution_count": 33
        }
      ]
    },
    {
      "cell_type": "code",
      "metadata": {
        "colab": {
          "base_uri": "https://localhost:8080/"
        },
        "id": "6j_-p6uRuhZD",
        "outputId": "3c089647-eef3-4de1-e023-684e444d31a8"
      },
      "source": [
        "a.pop(3)\n",
        "a\n",
        "##pop() 함수를 사용하면 삭제될 값을 리턴하고 삭제가 진행됨"
      ],
      "execution_count": 34,
      "outputs": [
        {
          "output_type": "execute_result",
          "data": {
            "text/plain": [
              "[1, 5, 4, True]"
            ]
          },
          "metadata": {
            "tags": []
          },
          "execution_count": 34
        }
      ]
    },
    {
      "cell_type": "markdown",
      "metadata": {
        "id": "7li_PRuDxoH5"
      },
      "source": [
        "## 리스트의 특징\n",
        "- 배열의 장점과 연결 리스트의 장점을 모두 취한 형태\n",
        "- 정수, 문자, 불리언 등 다양한 타입을 동시에 관리 가능함\n",
        "- but, 연속된 메모리 공간에 할당 x, 포인터 위치 찾아가야함. -> 속도 느림"
      ]
    },
    {
      "cell_type": "markdown",
      "metadata": {
        "id": "ze0YO7lT1QEL"
      },
      "source": [
        "# 딕셔너리\n",
        "- 키/값 구조\n",
        "- 인덱스 지정 -> 리스트: 숫자 vs 딕셔너리: 숫자, 문자, 집합\n",
        "- 딕셔너리의 주요 연산 시간 복잡도(p.129)\n",
        "- 입력순서가 유지x (파이썬 3.6 이하)/ 입력순서가 유지o (파이썬 3.7 이상)\n"
      ]
    },
    {
      "cell_type": "markdown",
      "metadata": {
        "id": "cxNOVXt_3Y23"
      },
      "source": [
        "## 딕셔너리의 활용 방법(p.130~132)"
      ]
    },
    {
      "cell_type": "code",
      "metadata": {
        "colab": {
          "base_uri": "https://localhost:8080/"
        },
        "id": "zIXjpqis1uId",
        "outputId": "89a95693-8db4-43fa-f5a0-93609ccbf81d"
      },
      "source": [
        "a = {'key1':'value1', 'key2':'value2'}\n",
        "a"
      ],
      "execution_count": 35,
      "outputs": [
        {
          "output_type": "execute_result",
          "data": {
            "text/plain": [
              "{'key1': 'value1', 'key2': 'value2'}"
            ]
          },
          "metadata": {
            "tags": []
          },
          "execution_count": 35
        }
      ]
    },
    {
      "cell_type": "code",
      "metadata": {
        "colab": {
          "base_uri": "https://localhost:8080/"
        },
        "id": "QvH62BDg1uPu",
        "outputId": "e977246c-c335-41e1-d5e6-5c42f4818c9f"
      },
      "source": [
        "a['key3'] = 'value3'\n",
        "a"
      ],
      "execution_count": 37,
      "outputs": [
        {
          "output_type": "execute_result",
          "data": {
            "text/plain": [
              "{'key1': 'value1', 'key2': 'value2', 'key3': 'value3'}"
            ]
          },
          "metadata": {
            "tags": []
          },
          "execution_count": 37
        }
      ]
    },
    {
      "cell_type": "code",
      "metadata": {
        "colab": {
          "base_uri": "https://localhost:8080/",
          "height": 35
        },
        "id": "xIl7itp41uSi",
        "outputId": "7fa69f29-88f5-42f9-e271-10396dacf4da"
      },
      "source": [
        "a['key1']"
      ],
      "execution_count": 38,
      "outputs": [
        {
          "output_type": "execute_result",
          "data": {
            "application/vnd.google.colaboratory.intrinsic+json": {
              "type": "string"
            },
            "text/plain": [
              "'value1'"
            ]
          },
          "metadata": {
            "tags": []
          },
          "execution_count": 38
        }
      ]
    },
    {
      "cell_type": "code",
      "metadata": {
        "colab": {
          "base_uri": "https://localhost:8080/",
          "height": 169
        },
        "id": "0dbWpZoP1uX8",
        "outputId": "a1008bd8-8f83-4838-ac37-e1b07f6ba485"
      },
      "source": [
        "a['key4']\n",
        "#존재하지 않는 인덱스 조회할 경우, KeyError"
      ],
      "execution_count": 39,
      "outputs": [
        {
          "output_type": "error",
          "ename": "KeyError",
          "evalue": "ignored",
          "traceback": [
            "\u001b[0;31m---------------------------------------------------------------------------\u001b[0m",
            "\u001b[0;31mKeyError\u001b[0m                                  Traceback (most recent call last)",
            "\u001b[0;32m<ipython-input-39-91c1e5997b2c>\u001b[0m in \u001b[0;36m<module>\u001b[0;34m()\u001b[0m\n\u001b[0;32m----> 1\u001b[0;31m \u001b[0ma\u001b[0m\u001b[0;34m[\u001b[0m\u001b[0;34m'key4'\u001b[0m\u001b[0;34m]\u001b[0m\u001b[0;34m\u001b[0m\u001b[0;34m\u001b[0m\u001b[0m\n\u001b[0m",
            "\u001b[0;31mKeyError\u001b[0m: 'key4'"
          ]
        }
      ]
    },
    {
      "cell_type": "code",
      "metadata": {
        "colab": {
          "base_uri": "https://localhost:8080/"
        },
        "id": "qvfTT64J4ayr",
        "outputId": "e220320f-3c44-4f98-a025-91c5722d6e64"
      },
      "source": [
        "try:\n",
        "    print(a['key4'])\n",
        "except KeyError:\n",
        "    print('존재하지 않는 키')\n",
        "\n",
        "#try구문으로 에러에 대한 예외처리 할 수 있음\n",
        "#예외처리할 경우 십입하는 등 별도로 추가작업을 할 수 있어 유용"
      ],
      "execution_count": 40,
      "outputs": [
        {
          "output_type": "stream",
          "text": [
            "존재하지 않는 키\n"
          ],
          "name": "stdout"
        }
      ]
    },
    {
      "cell_type": "code",
      "metadata": {
        "colab": {
          "base_uri": "https://localhost:8080/",
          "height": 169
        },
        "id": "5ie8ffm24a1S",
        "outputId": "f772b5f9-5f75-431d-d0b0-1c18a3ec150d"
      },
      "source": [
        "del a['key4']\n",
        "# 없는 키를 삭제할 때도 KeyError 발생"
      ],
      "execution_count": 41,
      "outputs": [
        {
          "output_type": "error",
          "ename": "KeyError",
          "evalue": "ignored",
          "traceback": [
            "\u001b[0;31m---------------------------------------------------------------------------\u001b[0m",
            "\u001b[0;31mKeyError\u001b[0m                                  Traceback (most recent call last)",
            "\u001b[0;32m<ipython-input-41-11c368e79f18>\u001b[0m in \u001b[0;36m<module>\u001b[0;34m()\u001b[0m\n\u001b[0;32m----> 1\u001b[0;31m \u001b[0;32mdel\u001b[0m \u001b[0ma\u001b[0m\u001b[0;34m[\u001b[0m\u001b[0;34m'key4'\u001b[0m\u001b[0;34m]\u001b[0m\u001b[0;34m\u001b[0m\u001b[0;34m\u001b[0m\u001b[0m\n\u001b[0m",
            "\u001b[0;31mKeyError\u001b[0m: 'key4'"
          ]
        }
      ]
    },
    {
      "cell_type": "code",
      "metadata": {
        "colab": {
          "base_uri": "https://localhost:8080/"
        },
        "id": "dols-4JO4a31",
        "outputId": "4282c6cf-28ad-4193-d534-4c303af4d0f9"
      },
      "source": [
        "'key4' in a"
      ],
      "execution_count": 42,
      "outputs": [
        {
          "output_type": "execute_result",
          "data": {
            "text/plain": [
              "False"
            ]
          },
          "metadata": {
            "tags": []
          },
          "execution_count": 42
        }
      ]
    },
    {
      "cell_type": "code",
      "metadata": {
        "colab": {
          "base_uri": "https://localhost:8080/"
        },
        "id": "CTXKJJjH4a6T",
        "outputId": "dc10212b-4722-47e9-f876-47c577518162"
      },
      "source": [
        "if 'key4' in a:\n",
        "    print('존재하는 키')\n",
        "else:\n",
        "    print('존재하지 않는 키')\n",
        "\n",
        "#키 존재하는지 확인 후 작업 진행할 수 있음"
      ],
      "execution_count": 43,
      "outputs": [
        {
          "output_type": "stream",
          "text": [
            "존재하지 않는 키\n"
          ],
          "name": "stdout"
        }
      ]
    },
    {
      "cell_type": "code",
      "metadata": {
        "colab": {
          "base_uri": "https://localhost:8080/"
        },
        "id": "b38Euhoo4a9B",
        "outputId": "3adc61ed-8283-419f-bd16-5f7d9c1eca38"
      },
      "source": [
        "for k, v in a.items():\n",
        "    print(k, v)\n",
        "\n",
        "#for반복문 사용으로 조회 가능"
      ],
      "execution_count": 44,
      "outputs": [
        {
          "output_type": "stream",
          "text": [
            "key1 value1\n",
            "key2 value2\n",
            "key3 value3\n"
          ],
          "name": "stdout"
        }
      ]
    },
    {
      "cell_type": "code",
      "metadata": {
        "colab": {
          "base_uri": "https://localhost:8080/"
        },
        "id": "FrlSWbuW6rfH",
        "outputId": "d3e697f9-debe-4a7e-9dfc-aaf6f06b05e4"
      },
      "source": [
        "del a['key1']\n",
        "a"
      ],
      "execution_count": 45,
      "outputs": [
        {
          "output_type": "execute_result",
          "data": {
            "text/plain": [
              "{'key2': 'value2', 'key3': 'value3'}"
            ]
          },
          "metadata": {
            "tags": []
          },
          "execution_count": 45
        }
      ]
    },
    {
      "cell_type": "markdown",
      "metadata": {
        "id": "C4zmn6xI1suc"
      },
      "source": [
        "## 딕셔너리 모듈(p.132~134)"
      ]
    },
    {
      "cell_type": "code",
      "metadata": {
        "colab": {
          "base_uri": "https://localhost:8080/"
        },
        "id": "Gj2rbXmC6riV",
        "outputId": "e319b421-cb9f-425a-e1b8-094d9ef37e89"
      },
      "source": [
        "import collections\n",
        "a = collections.defaultdict(int)\n",
        "a['A'] = 5\n",
        "a['B'] = 4\n",
        "a\n",
        "\n",
        "#defaultdict객체는 존재하지 않는 키를 조회할 경우, 해당 키에 대한 딕셔너리 아이템을 생성함"
      ],
      "execution_count": 48,
      "outputs": [
        {
          "output_type": "execute_result",
          "data": {
            "text/plain": [
              "defaultdict(int, {'A': 5, 'B': 4})"
            ]
          },
          "metadata": {
            "tags": []
          },
          "execution_count": 48
        }
      ]
    },
    {
      "cell_type": "code",
      "metadata": {
        "colab": {
          "base_uri": "https://localhost:8080/"
        },
        "id": "XcGqjrXe79yN",
        "outputId": "70a39f8e-e1f4-4a6c-9616-b6b2e76f7028"
      },
      "source": [
        "a['C'] += 1\n",
        "a\n",
        "\n",
        "# 'C'는 존재하지 않는 키\n",
        "# 에러 없이 바로 +1 연산 가능\n",
        "# 디폴트인 0을 기준으로 자동으로 생성 후 1을 더함"
      ],
      "execution_count": 49,
      "outputs": [
        {
          "output_type": "execute_result",
          "data": {
            "text/plain": [
              "defaultdict(int, {'A': 5, 'B': 4, 'C': 1})"
            ]
          },
          "metadata": {
            "tags": []
          },
          "execution_count": 49
        }
      ]
    },
    {
      "cell_type": "code",
      "metadata": {
        "colab": {
          "base_uri": "https://localhost:8080/"
        },
        "id": "4pgLomOB9geo",
        "outputId": "d0e5cbb4-363b-4a2b-f322-4fa2c3a0db34"
      },
      "source": [
        "a = [1,2,3,4,5,5,5,6,6]\n",
        "b = collections.Counter(a)\n",
        "b \n",
        "# Counter객체는 키 = 아이템 값, 값 = 해당 이이템의 개수"
      ],
      "execution_count": 52,
      "outputs": [
        {
          "output_type": "execute_result",
          "data": {
            "text/plain": [
              "Counter({1: 1, 2: 1, 3: 1, 4: 1, 5: 3, 6: 2})"
            ]
          },
          "metadata": {
            "tags": []
          },
          "execution_count": 52
        }
      ]
    },
    {
      "cell_type": "code",
      "metadata": {
        "colab": {
          "base_uri": "https://localhost:8080/"
        },
        "id": "kx_NT-IF9hJC",
        "outputId": "8f77886a-0d49-4cb7-a6eb-e292be749f17"
      },
      "source": [
        "type(b)"
      ],
      "execution_count": 53,
      "outputs": [
        {
          "output_type": "execute_result",
          "data": {
            "text/plain": [
              "collections.Counter"
            ]
          },
          "metadata": {
            "tags": []
          },
          "execution_count": 53
        }
      ]
    },
    {
      "cell_type": "code",
      "metadata": {
        "colab": {
          "base_uri": "https://localhost:8080/"
        },
        "id": "smQO3PJM9hMj",
        "outputId": "f8ead0df-8ecc-4ee8-e0de-ce77f74aeacc"
      },
      "source": [
        "b.most_common(2)\n",
        "# 가장 빈도수가 높은 요소 추출"
      ],
      "execution_count": 54,
      "outputs": [
        {
          "output_type": "execute_result",
          "data": {
            "text/plain": [
              "[(5, 3), (6, 2)]"
            ]
          },
          "metadata": {
            "tags": []
          },
          "execution_count": 54
        }
      ]
    },
    {
      "cell_type": "code",
      "metadata": {
        "colab": {
          "base_uri": "https://localhost:8080/"
        },
        "id": "6EXEjQAz9hRz",
        "outputId": "7c469965-7278-446e-deaf-05ea00eeee84"
      },
      "source": [
        "collections.OrderedDict({'banana':3, 'apple':4, 'pear':1, 'orange':2})\n",
        "# OrderedDict객체는 입력 그대로 순서가 유지 (파이썬3.6이하일 경우 사용함)"
      ],
      "execution_count": 56,
      "outputs": [
        {
          "output_type": "execute_result",
          "data": {
            "text/plain": [
              "OrderedDict([('banana', 3), ('apple', 4), ('pear', 1), ('orange', 2)])"
            ]
          },
          "metadata": {
            "tags": []
          },
          "execution_count": 56
        }
      ]
    },
    {
      "cell_type": "markdown",
      "metadata": {
        "id": "SvWDlEPp_3TI"
      },
      "source": [
        "## 타입 선언(p.135)"
      ]
    },
    {
      "cell_type": "code",
      "metadata": {
        "colab": {
          "base_uri": "https://localhost:8080/"
        },
        "id": "lD4mVT7Q9hXc",
        "outputId": "c8e948e1-5684-42a8-8c89-6f661d21562a"
      },
      "source": [
        "a = list()\n",
        "type(a)"
      ],
      "execution_count": 57,
      "outputs": [
        {
          "output_type": "execute_result",
          "data": {
            "text/plain": [
              "list"
            ]
          },
          "metadata": {
            "tags": []
          },
          "execution_count": 57
        }
      ]
    },
    {
      "cell_type": "code",
      "metadata": {
        "colab": {
          "base_uri": "https://localhost:8080/"
        },
        "id": "xDmbRjxKACtP",
        "outputId": "96f4f665-31d8-4f5a-9e5d-7586815b0e17"
      },
      "source": [
        "type([]) "
      ],
      "execution_count": 58,
      "outputs": [
        {
          "output_type": "execute_result",
          "data": {
            "text/plain": [
              "list"
            ]
          },
          "metadata": {
            "tags": []
          },
          "execution_count": 58
        }
      ]
    },
    {
      "cell_type": "code",
      "metadata": {
        "colab": {
          "base_uri": "https://localhost:8080/"
        },
        "id": "3OXump6tACv3",
        "outputId": "c581da04-53a8-4184-c824-c4477a6b68a5"
      },
      "source": [
        "type(())"
      ],
      "execution_count": 59,
      "outputs": [
        {
          "output_type": "execute_result",
          "data": {
            "text/plain": [
              "tuple"
            ]
          },
          "metadata": {
            "tags": []
          },
          "execution_count": 59
        }
      ]
    },
    {
      "cell_type": "code",
      "metadata": {
        "colab": {
          "base_uri": "https://localhost:8080/"
        },
        "id": "guvbdd1hACyi",
        "outputId": "dabf458d-a1bd-4565-cd39-adc4541d3909"
      },
      "source": [
        "type({})"
      ],
      "execution_count": 60,
      "outputs": [
        {
          "output_type": "execute_result",
          "data": {
            "text/plain": [
              "dict"
            ]
          },
          "metadata": {
            "tags": []
          },
          "execution_count": 60
        }
      ]
    },
    {
      "cell_type": "code",
      "metadata": {
        "colab": {
          "base_uri": "https://localhost:8080/"
        },
        "id": "zDhRlzJkANJA",
        "outputId": "37a3d28d-a391-4843-f525-8005e7d18fcf"
      },
      "source": [
        "type({1}) #키 없이 값만 있을 경우, 집합 자료형"
      ],
      "execution_count": 61,
      "outputs": [
        {
          "output_type": "execute_result",
          "data": {
            "text/plain": [
              "set"
            ]
          },
          "metadata": {
            "tags": []
          },
          "execution_count": 61
        }
      ]
    },
    {
      "cell_type": "markdown",
      "metadata": {
        "id": "YfAzruMZAx4G"
      },
      "source": [
        "# 문자열 조작\n",
        "- 문자열을 변경 or 분리 등의 여러 과정\n",
        "- 코딩테스트에 빈번히 출제\n",
        "\n",
        "1. 정보처리 분야\n",
        "2. 통신 시스쳄 분야\n",
        "3. 프로그래밍 시스템 분야"
      ]
    },
    {
      "cell_type": "markdown",
      "metadata": {
        "id": "iPSjV7rnCXss"
      },
      "source": [
        "## 유효한 팰린드롬\n",
        "- 주어진 문자열이 팰린드롬인지 확인하라\n",
        "- 대소문자를 구분하지 않으며, 영문자와 숫자만을 대상으로 한다.\n",
        "- 팰리드롬: 앞뒤가 똑같은 단어나 문장, 뒤집어도 같은 말이 되는 단어 또는 문장"
      ]
    },
    {
      "cell_type": "markdown",
      "metadata": {
        "id": "NNXb0qDfI1T-"
      },
      "source": [
        "**예제 1**  \n",
        "입력 \"A man is i nama\"  \n",
        "\n",
        "출력 true  \n",
        "\n",
        "**예제 2**  \n",
        "입력 \"race a caras\"\n",
        "\n",
        "출력 false"
      ]
    },
    {
      "cell_type": "markdown",
      "metadata": {
        "id": "kayfgI2NDYw9"
      },
      "source": [
        "### 1.리스트로 변환(p.139)"
      ]
    },
    {
      "cell_type": "code",
      "metadata": {
        "id": "3dIXIk3MCOzv"
      },
      "source": [
        "def isPalindrome(self, s: str) -> bool:\n",
        "    strs = []\n",
        "\n",
        "    #전처리\n",
        "    for char in s:\n",
        "        if char.isalnum():   # 영문자, 숫자 여부 판별 # 해당하는 문자만 추가함\n",
        "            strs.append(char.lower())  # 모두 소문자로 변환\n",
        "    # -> strs = ['a', 'm', 'a', 'n', 'a', 'p', 'l', 'a', 'n', 'a', \n",
        "    #            'c', 'a', 'n', 'a', 'l', 'p', 'a', 'n', 'a', 'm', 'a']\n",
        "    \n",
        "\n",
        "    #펠린드롬 여부 판별:        \n",
        "    while len(strs) > 1:   # 리스트의 모든 원소 비교\n",
        "        if strs.pop(0) != strs.pop():  # pop() 함수는 인덱스 지정이 가능하여 이처럼 맨앞과 맨뒤를 비교\n",
        "            return False  # 값이 서로 다르면 팰린드롬이 아니기 때문에 False 리턴\n",
        "    return True  # 모든 값이 같으면 팰린드롬으로 판단하여 True 리턴"
      ],
      "execution_count": 84,
      "outputs": []
    },
    {
      "cell_type": "markdown",
      "metadata": {
        "id": "M3caZ8a5KUCO"
      },
      "source": [
        "### 2.데크 자료형을 이용한 최적화(p.140)"
      ]
    },
    {
      "cell_type": "code",
      "metadata": {
        "id": "_wmuvz2CKauR"
      },
      "source": [
        "def isPalindrome(self, s: str) -> bool:\n",
        "\t# 데크 자료형으로 선언\n",
        "    strs: Deque = collections.deque()\n",
        "    \n",
        "    for char in s:\n",
        "    \tif char.isalnum():\n",
        "        \tstrs.append(char.lower())\n",
        "            \n",
        "    # 리스트의 pop(0)은 O(n)인 데 반해, 데크의 popleft는 O(1)이기 때문에 이전 풀이와\n",
        "    # 성능을 비교했을 때 속도를 훨씬 높일 수 있다.\n",
        "    while len(strs) > 1:\n",
        "    \tif strs.popleft() != strs.pop():\n",
        "        \treturn False\n",
        "   \n",
        "    return True"
      ],
      "execution_count": 85,
      "outputs": []
    },
    {
      "cell_type": "markdown",
      "metadata": {
        "id": "Z65NS1UAKrEp"
      },
      "source": [
        "### 3.슬라이싱 사용(p.141)"
      ]
    },
    {
      "cell_type": "code",
      "metadata": {
        "id": "0DVdwi8CKrN7"
      },
      "source": [
        "def isPalindrome(self, s: str) -> bool:\n",
        "\ts = s.lower()\n",
        "\ts = re.sub('[^a-z0-0]', '', s) # 문자, 숫자가 아닌 데이터를 찾아서 '' 로 대체해라 # 정규식으로 불필요 문자 필터링\n",
        "    \n",
        "\t# 슬라이싱으로 s[::-1]으로 문자열 리스트를 뒤집을 수 있기 때문에 아래와 같이\n",
        "\t# 간편하게 비교가 가능하다. (슬라이싱은 C로 빠르게 구현되어 훨씬 더 빠르다)\n",
        "\treturn s == s[::-1]"
      ],
      "execution_count": null,
      "outputs": []
    },
    {
      "cell_type": "markdown",
      "metadata": {
        "id": "qmMcFHpEMZUD"
      },
      "source": [
        "#### 문자열 슬라이싱\n",
        "- 내부적으로 매우 빠르게 동작함\n",
        "- 문자열을 조작할 때 항상 슬라이싱을 우선 -> 속도 개선\n",
        "- 슬라이싱을 기준으로 한 파이썬 문자열 처리 실행 시간(p.143)\n"
      ]
    },
    {
      "cell_type": "markdown",
      "metadata": {
        "id": "YThKzYYvNcQ3"
      },
      "source": [
        "## 문자열 뒤집기\n",
        "- 문자열을 뒤집는 함수를 작성해라\n",
        "- 입력값은 문자 배열이며, 리턴 없이 리스트 내부를 직접 조작하라"
      ]
    },
    {
      "cell_type": "markdown",
      "metadata": {
        "id": "Iu4U2fVNNh3L"
      },
      "source": [
        "**예제 1**  \n",
        "입력 [\"h\", \"e\", \"l\", \"l\", \"o\"]  \n",
        "\n",
        "출력 [\"o\", \"l\", \"l\", \"e\", \"h\"]\n",
        "\n",
        "**예제 2**  \n",
        "입력 [\"H\", \"a\", \"n\", \"n\", \"a\", \"h\"]\n",
        "\n",
        "출력 [\"h\", \"a\", \"n\", \"n\", \"a\", \"H\"]"
      ]
    },
    {
      "cell_type": "markdown",
      "metadata": {
        "id": "5QYR6uJBPLI4"
      },
      "source": [
        "### 1.투 포인터를 이용한 스왑(p.146)"
      ]
    },
    {
      "cell_type": "code",
      "metadata": {
        "id": "BcWQiwmsPAtR"
      },
      "source": [
        "def reverseString(self, s: List[str]) -> None:\n",
        "    left, right = 0, lens(s) - 1\n",
        "    while left < right:\n",
        "        s[left], s[right] = s[right], s[left]\n",
        "        left += 1\n",
        "        right -= 1\n",
        "\n",
        "# 단어그대로 2개의 포인터를 이용해 범위를 조정해가며 풀이하는 방식\n",
        "# '리턴없이 리스트 내부를 직접 조작하라'는 제약사항때문에\n",
        "# s내부를 스왑하는 형태로 풀이ㅐ"
      ],
      "execution_count": null,
      "outputs": []
    },
    {
      "cell_type": "markdown",
      "metadata": {
        "id": "77v_cRpsQtyH"
      },
      "source": [
        "### 2.파이썬다운 방식(p.146)"
      ]
    },
    {
      "cell_type": "code",
      "metadata": {
        "id": "qVI4n2q0Qs7z"
      },
      "source": [
        "def reverseString(self, s: List[str]) -> None:\n",
        "    s.reverse()\n",
        "# 파이썬의 기본 기능을 이용\n",
        "# 리트코드에서는 오류"
      ],
      "execution_count": null,
      "outputs": []
    },
    {
      "cell_type": "markdown",
      "metadata": {
        "id": "K3D6BuPwTzHr"
      },
      "source": [
        "## 로그파일 재정렬\n",
        "1. 로그의 가장 앞 부분은 식별자다.\n",
        "2. 문자로 구성된 로그가 숫자 로그보다 앞에 온다.\n",
        "3. 식별자는 순서에 영향을 끼치지 않지만, 문자가 동일할 경우 식별자 순으로 한다.\n",
        "4. 숫자 로그는 입력 순서대로 한다."
      ]
    },
    {
      "cell_type": "markdown",
      "metadata": {
        "id": "Xp9KWhTCUNyg"
      },
      "source": [
        "**예제**  \n",
        "입력  \n",
        "logs = [\"dig1 8 1 5 1\", \"let1 art can\", \"dig2 3 6\", \"let2 own kit dig\", \"let3 art zero\"]\n",
        "\n",
        "출력  \n",
        "[\"let1 art can\", \"let3 art zero\", \"let2 own kit dig\", \"dig1 8 1 5 1\", \"dig2 3 6\"]"
      ]
    },
    {
      "cell_type": "markdown",
      "metadata": {
        "id": "AwemB-X9UIeb"
      },
      "source": [
        "### 1.람다와 +연산자를 이용"
      ]
    },
    {
      "cell_type": "code",
      "metadata": {
        "id": "oFXW37dsUlDU"
      },
      "source": [
        "def reorderLogFiles(self, logs: List[str]) -> List[str]:\n",
        "    letters, digits = [], []\n",
        "    \n",
        "    for log in logs:\n",
        "        if log.split()[1].isdigit(): \n",
        "           digits.append(log) # 숫자\n",
        "        else:\n",
        "          letters.append(log) # 문자\n",
        "    # isdigit()는 숫자 또는 문자인지 구분\n",
        "    # 따로 리스트에 저장\n",
        "\n",
        "    letters.sort(key=lambda x: (x.split()[1:], x.split()[0])) \n",
        "    return letters + digits\n",
        "    # 문자 로그만 람다 표현식을 사용하여 정렬\n",
        "    # 문자 로그 + 숫자 로그로 리턴한다."
      ],
      "execution_count": null,
      "outputs": []
    },
    {
      "cell_type": "markdown",
      "metadata": {
        "id": "G93C-TusYuT4"
      },
      "source": [
        "#### 람다 표현식\n",
        "- 식별자 없이 실행 가능한 함수\n",
        "- 함수 선언 없이도 하나의 식르호 함수를 표현할 수 있음\n",
        "- '리스트 컴프리헨션'이 더 가독성 높음"
      ]
    },
    {
      "cell_type": "code",
      "metadata": {
        "colab": {
          "base_uri": "https://localhost:8080/"
        },
        "id": "D_vllo3qUlPT",
        "outputId": "910d05fe-5fce-4410-d8f9-41f691bf9c67"
      },
      "source": [
        "s = ['2 A', '1 B', '4 C', '1 A']\n",
        "sorted(s)\n",
        "# 숫자순으로 정렬"
      ],
      "execution_count": 91,
      "outputs": [
        {
          "output_type": "execute_result",
          "data": {
            "text/plain": [
              "['1 A', '1 B', '2 A', '4 C']"
            ]
          },
          "metadata": {
            "tags": []
          },
          "execution_count": 91
        }
      ]
    },
    {
      "cell_type": "code",
      "metadata": {
        "colab": {
          "base_uri": "https://localhost:8080/"
        },
        "id": "YvEQqHd1ZoZw",
        "outputId": "4723ba81-4dac-4381-80e1-f80e41b5c36f"
      },
      "source": [
        "def func(x):\n",
        "    return x.split()[1], x.split()[0]\n",
        "           # 공백기준으로 인덱스1, 공백기준으로 인덱스0\n",
        "           \n",
        "s.sort(key=func)\n",
        "s\n",
        "# 문자순으로 정렬"
      ],
      "execution_count": 92,
      "outputs": [
        {
          "output_type": "execute_result",
          "data": {
            "text/plain": [
              "['1 A', '2 A', '1 B', '4 C']"
            ]
          },
          "metadata": {
            "tags": []
          },
          "execution_count": 92
        }
      ]
    },
    {
      "cell_type": "code",
      "metadata": {
        "colab": {
          "base_uri": "https://localhost:8080/"
        },
        "id": "On0MWOt8aI7R",
        "outputId": "ab9b77fe-ced6-4011-f0a6-11cae954ee1f"
      },
      "source": [
        "s.sort(key=lambda x: (x.split()[1], x.split()[0]))\n",
        "s\n",
        "# 람다 표현식을 사용해서 문자순으로 정렬\n",
        "#lambda 인자 : 표현식"
      ],
      "execution_count": 93,
      "outputs": [
        {
          "output_type": "execute_result",
          "data": {
            "text/plain": [
              "['1 A', '2 A', '1 B', '4 C']"
            ]
          },
          "metadata": {
            "tags": []
          },
          "execution_count": 93
        }
      ]
    },
    {
      "cell_type": "markdown",
      "metadata": {
        "id": "uwhdMWB4CRSz"
      },
      "source": [
        "## 가장 흔한 단어\n",
        "- 금지된 단어를 제외한 가장 흔하게 등장하는 단어를 출력하라\n",
        "-대소문자 구분을 하지 않으며, 구두점(마침표, 쉼표 등) 또한 무시한다."
      ]
    },
    {
      "cell_type": "markdown",
      "metadata": {
        "id": "91z_8TLUCk6c"
      },
      "source": [
        " **예제**  \n",
        "입력  \n",
        "paragraph = 'Bob hit a ball, the hit BALL flew far after it was hit.'\n",
        "banned = [\"hit\"]\n",
        "\n",
        "출력  \n",
        "\"ball\""
      ]
    },
    {
      "cell_type": "markdown",
      "metadata": {
        "id": "mN-2h2wSEFvv"
      },
      "source": [
        "### 1.리스트 컴프리헨션, counter 객체 사용(p.152)"
      ]
    },
    {
      "cell_type": "code",
      "metadata": {
        "id": "opGgfFDIDkx_"
      },
      "source": [
        "def mostCommonWord(self, paragraph: str, banned: List[str]) -> str:\n",
        "    words = [word for word in re.sub(r'[^\\w]', ' ', paragraph).lower().split()\n",
        "             if word not in banned]\n",
        "    # 정규식을 사용한 전처리\n",
        "    # \\w는 단어 문자(word character를 뜻하며, ^는 not을 의미 \n",
        "    # 따라서 paragraph의 모든 단어 문자가 아닌 문자를 공백으로 치환\n",
        "    # 소문자로 모두 바꿈\n",
        "    \n",
        "    counts = collections.Counter(words)\n",
        "    return counts.most_common(1)[0][0]\n",
        "    #  가장 흔하게 등장하는 단어의 첫번째 인데스 리턴\n",
        "    # 리스트의 모든 값들의 등장 수를 (값, 등장 수)로 반환하는 Counter를 사용\n",
        "    # most_common(1)의 값은 [('ball', 2)]가 됨으로 [0][0]을 추출하여 리턴."
      ],
      "execution_count": null,
      "outputs": []
    },
    {
      "cell_type": "markdown",
      "metadata": {
        "id": "7FBOWuaPHeNc"
      },
      "source": [
        "## 그룹 애너그램\n",
        "- 문자열 배열을 받아 애너그램 단위로 그룹핑하라\n",
        "- 애너그램: 문자를 재배열하여 다른 뜻을 가진 단어로 바꾸는 것 (언어유희)\n"
      ]
    },
    {
      "cell_type": "markdown",
      "metadata": {
        "id": "g3zf5Y91IxxZ"
      },
      "source": [
        "**예시**  \n",
        "입력   \n",
        "[\"eat\", \"tea\", \"tan\", \"ate\", \"nat\", \"bat\"]\n",
        "\n",
        "출력   \n",
        "[  \n",
        "  [\"ate\", \"eat\", \"tea\"],  \n",
        "  [\"nat\", \"tan\"],  \n",
        "  [\"bat\"]  \n",
        "]"
      ]
    },
    {
      "cell_type": "markdown",
      "metadata": {
        "id": "TtXTF4oUHxrn"
      },
      "source": [
        "### 1.정렬하여 딕셔너리에 추가(p.154)"
      ]
    },
    {
      "cell_type": "code",
      "metadata": {
        "id": "dJHZqedhIrf2"
      },
      "source": [
        "def groupAnagrams(self, strs: List[str]) -> List[List[str]]:\n",
        "    anagrams = collections.defaultdict(list)\n",
        "    # defaultdict를 사용하면 항상 디폴트 키를 생성해주기 때문에 KetError를 피할 수 있음\n",
        "    \n",
        "    for word in strs:\n",
        "        anagrams[''.join(sorted(word))].append(word)\n",
        "        # sorted로 정렬한 문자열을 키값으로 사용하기 위해 join을 사용하여 합쳐준다.\n",
        "        # sorted(\"eat\") = ['a', 'e', 't']\n",
        "        # ''.join(sorted(\"eat\")) = ['aet']\n",
        "    \n",
        "    return anagrams.values()"
      ],
      "execution_count": null,
      "outputs": []
    },
    {
      "cell_type": "markdown",
      "metadata": {
        "id": "UF3Jc-9jKXq2"
      },
      "source": [
        "### 여러가지 정렬 방법(p.154~156)"
      ]
    },
    {
      "cell_type": "code",
      "metadata": {
        "colab": {
          "base_uri": "https://localhost:8080/"
        },
        "id": "rEmQIPA5Kk6a",
        "outputId": "b9a340be-37e3-4231-e353-ffd6add06987"
      },
      "source": [
        "a = [2, 5, 1, 9, 7]\n",
        "sorted(a)"
      ],
      "execution_count": 1,
      "outputs": [
        {
          "output_type": "execute_result",
          "data": {
            "text/plain": [
              "[1, 2, 5, 7, 9]"
            ]
          },
          "metadata": {
            "tags": []
          },
          "execution_count": 1
        }
      ]
    },
    {
      "cell_type": "code",
      "metadata": {
        "colab": {
          "base_uri": "https://localhost:8080/"
        },
        "id": "OtEDVrjYzN67",
        "outputId": "371d6055-08ea-4838-cbfc-00c6c26a51b4"
      },
      "source": [
        " b = 'zbdaf'\n",
        " sorted(b)"
      ],
      "execution_count": 2,
      "outputs": [
        {
          "output_type": "execute_result",
          "data": {
            "text/plain": [
              "['a', 'b', 'd', 'f', 'z']"
            ]
          },
          "metadata": {
            "tags": []
          },
          "execution_count": 2
        }
      ]
    },
    {
      "cell_type": "code",
      "metadata": {
        "colab": {
          "base_uri": "https://localhost:8080/",
          "height": 35
        },
        "id": "xbigiceOzN_A",
        "outputId": "88b1b0ad-27af-4210-e0de-b8aaa3600ce8"
      },
      "source": [
        "b = 'zbdaf'\n",
        "\"\".join(sorted(b))"
      ],
      "execution_count": 4,
      "outputs": [
        {
          "output_type": "execute_result",
          "data": {
            "application/vnd.google.colaboratory.intrinsic+json": {
              "type": "string"
            },
            "text/plain": [
              "'abdfz'"
            ]
          },
          "metadata": {
            "tags": []
          },
          "execution_count": 4
        }
      ]
    },
    {
      "cell_type": "code",
      "metadata": {
        "colab": {
          "base_uri": "https://localhost:8080/",
          "height": 239
        },
        "id": "j82s_JuHz2ww",
        "outputId": "4176609a-af95-4893-8db4-f3fdb7f06658"
      },
      "source": [
        "alist.sorted()\n",
        "alist = blist.sort()\n",
        "\n",
        "# sort()는 리스트 자체를 제자리 정렬\n",
        "# 잘못된 구문\n",
        "# sort()함수는 None을 리턴하므로 주의 필요"
      ],
      "execution_count": 6,
      "outputs": [
        {
          "output_type": "error",
          "ename": "NameError",
          "evalue": "ignored",
          "traceback": [
            "\u001b[0;31m---------------------------------------------------------------------------\u001b[0m",
            "\u001b[0;31mNameError\u001b[0m                                 Traceback (most recent call last)",
            "\u001b[0;32m<ipython-input-6-68068bbb8e57>\u001b[0m in \u001b[0;36m<module>\u001b[0;34m()\u001b[0m\n\u001b[0;32m----> 1\u001b[0;31m \u001b[0malist\u001b[0m\u001b[0;34m.\u001b[0m\u001b[0msorted\u001b[0m\u001b[0;34m(\u001b[0m\u001b[0;34m)\u001b[0m\u001b[0;34m\u001b[0m\u001b[0;34m\u001b[0m\u001b[0m\n\u001b[0m\u001b[1;32m      2\u001b[0m \u001b[0malist\u001b[0m \u001b[0;34m=\u001b[0m \u001b[0mblist\u001b[0m\u001b[0;34m.\u001b[0m\u001b[0msort\u001b[0m\u001b[0;34m(\u001b[0m\u001b[0;34m)\u001b[0m\u001b[0;34m\u001b[0m\u001b[0;34m\u001b[0m\u001b[0m\n\u001b[1;32m      3\u001b[0m \u001b[0;34m\u001b[0m\u001b[0m\n\u001b[1;32m      4\u001b[0m \u001b[0;31m# sort()는 리스트 자체를 제자리 정렬\u001b[0m\u001b[0;34m\u001b[0m\u001b[0;34m\u001b[0m\u001b[0;34m\u001b[0m\u001b[0m\n\u001b[1;32m      5\u001b[0m \u001b[0;31m# 잘못된 구문\u001b[0m\u001b[0;34m\u001b[0m\u001b[0;34m\u001b[0m\u001b[0;34m\u001b[0m\u001b[0m\n",
            "\u001b[0;31mNameError\u001b[0m: name 'alist' is not defined"
          ]
        }
      ]
    },
    {
      "cell_type": "code",
      "metadata": {
        "colab": {
          "base_uri": "https://localhost:8080/"
        },
        "id": "Y2y542VVz2zq",
        "outputId": "e7b1542c-1694-460f-f0dc-b0d2ddc88d4d"
      },
      "source": [
        "c = ['ccc', 'aaaa', 'd', 'bb']\n",
        "sorted(c, key=len)"
      ],
      "execution_count": 7,
      "outputs": [
        {
          "output_type": "execute_result",
          "data": {
            "text/plain": [
              "['d', 'bb', 'ccc', 'aaaa']"
            ]
          },
          "metadata": {
            "tags": []
          },
          "execution_count": 7
        }
      ]
    },
    {
      "cell_type": "code",
      "metadata": {
        "colab": {
          "base_uri": "https://localhost:8080/"
        },
        "id": "Pq0mHI8sz23R",
        "outputId": "3fc33a92-1fa6-4e89-9fbf-58f7d8ee39ee"
      },
      "source": [
        "a = ['cde', 'cfc', 'abc']\n",
        "\n",
        "def fn(s):\n",
        "    return s[0], s[-1]\n",
        "# 함수 fn을 이용해 첫 문자열(s[0])과 마지막 문자열(s[-1]) 순으로 정렬하도록 지정\n",
        "\n",
        "print(sorted(a, key=fn))"
      ],
      "execution_count": 9,
      "outputs": [
        {
          "output_type": "stream",
          "text": [
            "['abc', 'cfc', 'cde']\n"
          ],
          "name": "stdout"
        }
      ]
    },
    {
      "cell_type": "code",
      "metadata": {
        "colab": {
          "base_uri": "https://localhost:8080/"
        },
        "id": "GU35KshazOCg",
        "outputId": "34003d12-2eea-4dd3-8acb-990c8a8eac1c"
      },
      "source": [
        "a = ['cde', 'cfc', 'abc']\n",
        "sorted(a, key=lambda s: (s[0], s[-1]))\n",
        "# # lambda 표현식으로 한줄로 표현 가능"
      ],
      "execution_count": 10,
      "outputs": [
        {
          "output_type": "execute_result",
          "data": {
            "text/plain": [
              "['abc', 'cfc', 'cde']"
            ]
          },
          "metadata": {
            "tags": []
          },
          "execution_count": 10
        }
      ]
    },
    {
      "cell_type": "markdown",
      "metadata": {
        "id": "tOZquZVPQo3a"
      },
      "source": [
        "## 가장 긴 팰린드롬 부분 문자열\n",
        "- 가장 긴 팰린드롬 부분 문자열을 출력하라"
      ]
    },
    {
      "cell_type": "markdown",
      "metadata": {
        "id": "eAjq1b1dQ4Ol"
      },
      "source": [
        "**예시1**  \n",
        "입력 \"babad\"  \n",
        "출력 \"bab\"\n",
        "\n",
        "**예시2**  \n",
        "입력 \"cbbd\"  \n",
        "출력 \"bb\""
      ]
    },
    {
      "cell_type": "markdown",
      "metadata": {
        "id": "JS9Fwy4LRTIl"
      },
      "source": [
        "### 1.중앙을 중심으로 확장하는 풀이(p.160~162)"
      ]
    },
    {
      "cell_type": "code",
      "metadata": {
        "id": "zdGaZ5IoRbvl"
      },
      "source": [
        "def longestPalindrome(self, s: str) -> str:\n",
        "   def expand(left: int, right: int) -> str:\n",
        "       while left >= 0 and right <= len(s) and s[left] == s[right - 1]:\n",
        "           left -= 1\n",
        "           right += 1\n",
        "       return s[left + 1:right - 1]\n",
        "   \n",
        "   if len(s) < 2 or s == s[::1]:\n",
        "       return s \n",
        "    \n",
        "    result = ''\n",
        "    \n",
        "    for i in range(len(s) - 1):\n",
        "        result = max(result, \n",
        "                     expand(i, i+1),\n",
        "                     expand(i, i+2),\n",
        "                     key=len)\n",
        "        # 팰린드롬은 짝수, 홀수 경우 모두 나타나기 때문에 2가지 형태의 포인터 사용\n",
        "        # 슬라이딩 우측으로 이동\n",
        "        \n",
        "    return result"
      ],
      "execution_count": null,
      "outputs": []
    },
    {
      "cell_type": "markdown",
      "metadata": {
        "id": "Y5DvrIXIXJU-"
      },
      "source": [
        "# 배열\n",
        "- 연속 방식의 가장 기본이 되는 자료형\n",
        "- 크기를 지정하지 않고 자동으로 리사이징 하는 동적배열이 대표적\n",
        "- 파이썬에서 정적 배열은 따로 제공하지 않음\n",
        "- 동적배열은 더블링(미리 초깃값을 작게 장아 배열 생성 -> 데이터가 추가되면서 꽉 채워지면 늘려주고 모두 복사하는 방식) 원리"
      ]
    },
    {
      "cell_type": "markdown",
      "metadata": {
        "id": "w7avNtCPXSeh"
      },
      "source": [
        "## 두 수의 합\n",
        "- 덧셈하여 타겟을 만들 수 있는 배열의 두 숫자 인덱스를 리턴하라"
      ]
    },
    {
      "cell_type": "markdown",
      "metadata": {
        "id": "Jxd5dKheZyQE"
      },
      "source": [
        "**예시**  \n",
        "입력 num = [2, 7, 11, 15], target = 9  \n",
        "출력 [0, 1]"
      ]
    },
    {
      "cell_type": "markdown",
      "metadata": {
        "id": "hulFnKnNZq8u"
      },
      "source": [
        "### 1.브루트 포스로 계산(p.174)"
      ]
    },
    {
      "cell_type": "code",
      "metadata": {
        "id": "odht--rtZcJq"
      },
      "source": [
        "def twoSum(self, nums: List[int], target: int) -> List[int]:\n",
        "    for i in range(len(nums)):\n",
        "        for j in range(i + 1, len(nums)):\n",
        "            if nums[i] + nums[j] == target:\n",
        "                return [i, j]\n",
        "\n",
        "# 모든 경우의 수 계산"
      ],
      "execution_count": null,
      "outputs": []
    },
    {
      "cell_type": "markdown",
      "metadata": {
        "id": "4RlpSkhMbcfa"
      },
      "source": [
        "### 2.in을 이용한 탐색(p.174)"
      ]
    },
    {
      "cell_type": "code",
      "metadata": {
        "id": "Cmd2C8nebppY"
      },
      "source": [
        "def twoSum(self, nums: List[int], target: int) -> List[int]:\n",
        "    for in n in enumerate(nums):\n",
        "        complement = target - next\n",
        "\n",
        "        if complement in nums[i + 1]:\n",
        "            return nums.index(n), nums[i+1:].index(complement) + (i+1) \n",
        "\n",
        "# 첫번째 풀이와 동일한 시간 복잡도 O(n^2)이지만 상수항이 이전에 비해 작아서 더욱 빠름"
      ],
      "execution_count": null,
      "outputs": []
    },
    {
      "cell_type": "markdown",
      "metadata": {
        "id": "xqfe9kr1bcpr"
      },
      "source": [
        "### 3.첫 번째 수를 뺀 결과 키 조회(p.175)"
      ]
    },
    {
      "cell_type": "code",
      "metadata": {
        "id": "BZxriIDabqBE"
      },
      "source": [
        "def twoSum(self, nums: List[int], target: int) -> List[int]:\n",
        "    nums_map = {}\n",
        "    for i, num in enumerate(nums):\n",
        "        nums_map[num] = i\n",
        "    # 키와 값을 바꿔서 딕셔너리로 저장\n",
        "    # 딕셔너리는 해시 테이블로 구현되어 평균적으로 O(1)에 가능\n",
        "    # 따라서 전체 시간 복잡도는 O(n)이 됨됨\n",
        "\n",
        "    for i, num in enumerate(nums):\n",
        "        if target - num in nums_map and i != nums_map[target - num]:\n",
        "            return nums.index(num), nums_map[target - num]\n",
        "    # 타겟에서 첫 번째 수를 뺀 결과를 키로 조회"
      ],
      "execution_count": null,
      "outputs": []
    },
    {
      "cell_type": "markdown",
      "metadata": {
        "id": "C5nSHheifprX"
      },
      "source": [
        "### 4.조회 구조 개선(p.176)"
      ]
    },
    {
      "cell_type": "code",
      "metadata": {
        "id": "Ga6JHdwDfydS"
      },
      "source": [
        "def twoSum(self, nums: List[int], target: int) -> List[int]:\n",
        "    num_map = {}\n",
        "\n",
        "    for i, num in enumerate(nums):\n",
        "        if target - num in nums_map:\n",
        "            return [nums_map[target - nem], i]\n",
        "        nums_map[num] = i\n",
        "     # 하나의 for문으로 통합합"
      ],
      "execution_count": null,
      "outputs": []
    },
    {
      "cell_type": "markdown",
      "metadata": {
        "id": "T3n9aYl2fweP"
      },
      "source": [
        "### 5.투 포인터 이용(p.177)"
      ]
    },
    {
      "cell_type": "code",
      "metadata": {
        "id": "L_ZksmMigmH2"
      },
      "source": [
        "def twoSum(self, nums: List[int], target: int) -> List[int]:\n",
        "    left, right= 0, len(nums) - 1\n",
        "    while not left == right:\n",
        "        if nums[left] + nums[right] < target:\n",
        "            left += 1\n",
        "        # 합이 타겟보다 크면 오른쪽 초인터를 왼쪽으로\n",
        "\n",
        "        elif nums[left] + nums[right] > target:\n",
        "            right -= 1\n",
        "        \n",
        "        else:\n",
        "            return left, right"
      ],
      "execution_count": null,
      "outputs": []
    },
    {
      "cell_type": "markdown",
      "metadata": {
        "id": "uIcEHUxxhgj7"
      },
      "source": [
        "## 빗물 트래핑\n",
        "- 높이를 입력받아 비 온 후 얼마나 맣은 물이 샇일 수 있는지 계산하라"
      ]
    },
    {
      "cell_type": "markdown",
      "metadata": {
        "id": "Dv5kYdTJh9YY"
      },
      "source": [
        "**예시**  \n",
        "입력 [0,1,0,2,1,0,1,3,2,1,2,1]  \n",
        "출력 6"
      ]
    },
    {
      "cell_type": "markdown",
      "metadata": {
        "id": "m4NRTUwUiUyG"
      },
      "source": [
        "### 1.투 포인터를 최대로 이동(p.181)"
      ]
    },
    {
      "cell_type": "code",
      "metadata": {
        "id": "r38uV6Vtiah7"
      },
      "source": [
        "def trap(height: List[int]) -> int:\n",
        "    if not height:\n",
        "        return 0\n",
        "        \n",
        "    volume = 0\n",
        "    left, right = 0, len(height) - 1\n",
        "    left_max, right_max = height[left], height[right]\n",
        "    \n",
        "    while left < right:\n",
        "        left_max, right_max = max(height[left], left_max),\n",
        "                              max(height[right], right_max)\n",
        "        \n",
        "        if left_max <= right_max:\n",
        "            volume += left_max - height[left]\n",
        "            left += 1\n",
        "        else:\n",
        "            volume += right_max - height[right]\n",
        "            right -= 1\n",
        "        # 더 높은 쪽을 향해 투 포인터 이동\n",
        "            \n",
        "    return volume"
      ],
      "execution_count": null,
      "outputs": []
    },
    {
      "cell_type": "markdown",
      "metadata": {
        "id": "uASHWmEWinRK"
      },
      "source": [
        "### 3.스택 쌓기(p.182)"
      ]
    },
    {
      "cell_type": "code",
      "metadata": {
        "id": "XEegfXZAir5W"
      },
      "source": [
        "def trap(height: List[int]) -> int:\n",
        "    stack = []\n",
        "    volume = 0\n",
        "    \n",
        "    for i in range(len(height)):\n",
        "        while stack and height[i] > height[stack[-1]]:\n",
        "            top = stack.pop()\n",
        "            if not len(stack):\n",
        "                break\n",
        "                \n",
        "            distance = i - stack[-1] - 1\n",
        "            water = min(height[i], height[stack[-1]]) - height[top]\n",
        "            # 이전과의 차이만큼 물 높이 처리\n",
        "            \n",
        "            volume += distance * water\n",
        "        stack.append(i)\n",
        "        \n",
        "    return volume"
      ],
      "execution_count": null,
      "outputs": []
    },
    {
      "cell_type": "markdown",
      "metadata": {
        "id": "sXe7cfCLfqET"
      },
      "source": [
        "## 세 수의 합\n",
        "- 배열을 입력받아 합으로 0을 만들 수 있는 3개의 엘리먼트를 출력하라"
      ]
    },
    {
      "cell_type": "markdown",
      "metadata": {
        "id": "qPqIoSRIjOBJ"
      },
      "source": [
        "**예시**  \n",
        "입력   \n",
        "nums = [-1, 0, 1, 2, -1, -4]  \n",
        "출력   \n",
        "[\n",
        "  [-1, 0, 1],\n",
        "  [-1, -1, 2]\n",
        "]"
      ]
    },
    {
      "cell_type": "markdown",
      "metadata": {
        "id": "eYUzWPi6j1nR"
      },
      "source": [
        "### 1.브루트 포스로 계산(p.185)"
      ]
    },
    {
      "cell_type": "code",
      "metadata": {
        "id": "gaHOQswIjzm8"
      },
      "source": [
        "# 3개의 포인터를 이용하여 모두 더해서 0이 되는 값들을 찾기\n",
        "def threeSum(nums: List[int]) -> List[List[int]]:\n",
        "    results = []\n",
        "    nums.sort()\n",
        "    \n",
        "    \n",
        "    for i in range(len(nums) - 2):\n",
        "    # 브루트 포스 n^3 반복  \n",
        "        if i > 0 and nums[i] == nums[i - 1]:\n",
        "            continue\n",
        "        # 중복값 제거\n",
        "\n",
        "        for j in range(i + 1, len(nums) - 1):\n",
        "            if j > i + 1 and nums[j] == nums[j - 1]:\n",
        "                continue\n",
        "\n",
        "            for k in range(i + 2, len(nums)):\n",
        "                if k > j + 1 and nums[k] == nums[k - 1]:\n",
        "                    continue\n",
        "                    \n",
        "                if nums[i] + nums[j] + nums[k] == 0:\n",
        "                    results.append((nums[i], nums[j], nums[k]))\n",
        "                    \n",
        "    result results"
      ],
      "execution_count": null,
      "outputs": []
    },
    {
      "cell_type": "markdown",
      "metadata": {
        "id": "GUvQ9Qdhkm36"
      },
      "source": [
        "### 2.투 포인터로 합 계산(p.187~188)"
      ]
    },
    {
      "cell_type": "code",
      "metadata": {
        "id": "cUSh0XZ2kuU1"
      },
      "source": [
        "# i를 축으로 사용하여 for문을 반복하고 나머지를 투 포인터로 계산하는 풀이법\n",
        "\n",
        "def threeSum(nums: List[int]) -> List[List[int]]:\n",
        "    results = []\n",
        "    nums.sort()\n",
        "    \n",
        "    for i in range(len(nums) - 2):\n",
        "        # 중복 제거\n",
        "        if i > 0 and nums[i] == nums[i - 1]:\n",
        "            continue\n",
        "        \n",
        "        # 투 포인터로 간격을 좁혀가며 합 계산\n",
        "        left, right = i + 1, len(nums) - 1\n",
        "        \n",
        "        while left < right:\n",
        "            sum = nums[i] + nums[left] + nums[right]\n",
        "            \n",
        "            if sum < 0: # 합 값이 0보다 작으면 왼쪽 포인터를 오른쪽으로 옮겨 값을 증가시켜야함\n",
        "                left += 1\n",
        "            elif sum > 0: # 반대로 합 값이 0보다 크면 오른쪽 포인터를 왼쪽으로 옮겨 값을 감소시킴\n",
        "                right -= 1\n",
        "            else: # 합이 0인 경우는 정답이므로 결과를 저장.\n",
        "                result.append((nums[i], nums[left], nums[right]))\n",
        "                \n",
        "                # left, right 포인터가 가리키는 값들의 중복을 스킵하기 위해서 아래 과정을 추가.\n",
        "                while left < right and nums[left] == nums[left + 1]:\n",
        "                    left += 1\n",
        "                while left < right and nums[right] == nums[right - 1]:\n",
        "                    right -= 1\n",
        "                \n",
        "                # 중복값들을 모두 스킵한 후 다름 합 계산을 위해 left, right를 한 칸씩 이동.\n",
        "                left += 1\n",
        "                right -= 1\n",
        "\n",
        "    return results"
      ],
      "execution_count": null,
      "outputs": []
    },
    {
      "cell_type": "markdown",
      "metadata": {
        "id": "BzWAtnx1fqZD"
      },
      "source": [
        "## 배열 파티션1\n",
        "- n개의 페어를 이용한 min(a, b)의 합으로 만들 수 있는 가장 큰 수를 출력하라"
      ]
    },
    {
      "cell_type": "markdown",
      "metadata": {
        "id": "UaoJyG67lXA_"
      },
      "source": [
        "**예시**  \n",
        "입력 [1, 4, 3, 2]  \n",
        "출력 4"
      ]
    },
    {
      "cell_type": "markdown",
      "metadata": {
        "id": "63zd8gQ6lf6T"
      },
      "source": [
        "### 1.오름차순 풀이(p.191)"
      ]
    },
    {
      "cell_type": "code",
      "metadata": {
        "id": "d4AeR8j7lfLZ"
      },
      "source": [
        "def arrayPairSum(self, nums: List[int]) -> int:\n",
        "    sum = 0\n",
        "    pair = []\n",
        "    nums.sort()\n",
        "\n",
        "    for n in nums:\n",
        "        pair.append(n)\n",
        "        if len(pair) == 2:\n",
        "            sum += min(pair)\n",
        "            pair = []\n",
        "\n",
        "    return sum\n",
        "\n",
        "# 배열 입력값은 2n개일 것이기 때문에 오름차순으로도 같은 결과가 나옴"
      ],
      "execution_count": null,
      "outputs": []
    },
    {
      "cell_type": "markdown",
      "metadata": {
        "id": "oPARv6XdmXjJ"
      },
      "source": [
        "### 2.짝수 번째 값 계산(p.192)"
      ]
    },
    {
      "cell_type": "code",
      "metadata": {
        "id": "Nx4PtP2tmdMz"
      },
      "source": [
        "def arrayPairSum(self, nums: List[int]) -> int:\n",
        "    sum = 0\n",
        "    nums.sort()\n",
        "\n",
        "    for i, n in enumerate(nums):\n",
        "        if i%2 == 0:\n",
        "            sum += next\n",
        "        # 짝수 번째 값의 합 계산\n",
        "\n",
        "    return sum"
      ],
      "execution_count": null,
      "outputs": []
    },
    {
      "cell_type": "markdown",
      "metadata": {
        "id": "L1uKeZrtnRVa"
      },
      "source": [
        "### 3.파이썬다운 방식(p.192)"
      ]
    },
    {
      "cell_type": "code",
      "metadata": {
        "id": "6YqrId7XnV2p"
      },
      "source": [
        "def arrayPairSum(self, nums: List[int]) -> int:\n",
        "    return sum(sorted(nums)[::2])\n",
        "# 슬라이싱을 활용하면 파이썬다운 1줄짜리 코드로 해결 가능"
      ],
      "execution_count": null,
      "outputs": []
    },
    {
      "cell_type": "markdown",
      "metadata": {
        "id": "ZRPefNgGh0CI"
      },
      "source": [
        "## 자신을 제외한 배열의 곱\n",
        "- 배열을 입력받아 output[i]가 자신을 제외한 나머지 모든 요소의 곱셈 결과가 되도록 출력하라"
      ]
    },
    {
      "cell_type": "markdown",
      "metadata": {
        "id": "pl8Swremnzot"
      },
      "source": [
        "**예시**  \n",
        "입력 [1,2,3,4]  \n",
        "출력 [24,12,8,6]\n",
        "\n",
        "*주의 나눗셈을 하지 않고 O(n)에 풀이하라*"
      ]
    },
    {
      "cell_type": "markdown",
      "metadata": {
        "id": "HH-2c9f9npYH"
      },
      "source": [
        "### 1.왼쪽 곱셈 결과에 오른쪽 값을 차례대로 곱셈(p.194)"
      ]
    },
    {
      "cell_type": "code",
      "metadata": {
        "id": "QL-Y903Xno-Q"
      },
      "source": [
        "# 자신을 제외한 왼쪽 곱셈 결과\n",
        "# [1, 1, 2, 6]\n",
        "\n",
        "# 자신을 제외한 오른쪽 곱셈 결과\n",
        "# [24, 12, 4, 1]\n",
        "\n",
        "# 이 둘을 곱하면\n",
        "# [ 1,  1, 2, 6]\n",
        "# [24, 12, 4, 1]\n",
        "\n",
        "# [24, 12, 8, 6] -> 답\n",
        "\n",
        "def productExceptSelf(nums: List[int]) -> List[int]:\n",
        "    out = []\n",
        "    p = 1\n",
        "    \n",
        "    # 자신을 제외한 왼쪽 곱셈\n",
        "    for i in range(0, len(nums)):\n",
        "        out.append(p)\n",
        "        p = p * nums[i]\n",
        "        \n",
        "    p = 1\n",
        "    # 왼쪽 곱셈 결과에 오른쪽 값을 차례대로 곱셈\n",
        "    for i in range(len(nums) - 1, 0 - 1, -1):\n",
        "        out[i] = out[i] * p\n",
        "        p = p * nums[i]\n",
        "    \n",
        "    return out"
      ],
      "execution_count": null,
      "outputs": []
    },
    {
      "cell_type": "markdown",
      "metadata": {
        "id": "kGrU_1OIhz3C"
      },
      "source": [
        "## 주식을 사고팔기 가장 좋은 시점\n",
        "- 한 번의 거래로 낼 수 있는 최대 이익을 산출하라"
      ]
    },
    {
      "cell_type": "markdown",
      "metadata": {
        "id": "Q-38SsBDpvLI"
      },
      "source": [
        "**예시**  \n",
        "입력 [7,1,5,3,6,4]  \n",
        "출력 5  \n",
        "(1일 때 사서 6일 때 팔면 이익을 얻는다)"
      ]
    },
    {
      "cell_type": "markdown",
      "metadata": {
        "id": "eTCk6V3fpv0m"
      },
      "source": [
        "### 1. 브루트 포스로 계산(p.195)"
      ]
    },
    {
      "cell_type": "code",
      "metadata": {
        "id": "6xFpYsKeqTrh"
      },
      "source": [
        "# O(n^2)로 사고 팔고를 반복하여 최대 이익을 구한다.\n",
        "\n",
        "def maxProfit(prices: List[int]) -> int:\n",
        "    max_price = 0\n",
        "    \n",
        "    for i, price in enumerate(prices):\n",
        "       for j in range(i, len(prices)):\n",
        "           max_price = max(prices[j] - price, max_price)\n",
        "    \n",
        "    return max_price"
      ],
      "execution_count": null,
      "outputs": []
    },
    {
      "cell_type": "markdown",
      "metadata": {
        "id": "5qU3kZPOrHNd"
      },
      "source": [
        "### 2.저점과 현재 값과의 차이 계산(p.197)"
      ]
    },
    {
      "cell_type": "code",
      "metadata": {
        "id": "uO8X9eWxpQpW"
      },
      "source": [
        "def maxProfit(prices: List[int]) -> int:\n",
        "    profit = 0\n",
        "    min_price = sys.maxSize\n",
        "    \n",
        "    for price in prices:  # 최솟값과 최댓값 계속 갱신\n",
        "        min_price = min(min_price, price) # 현재값이 최솟값보다 작으면 최솟값을 갱신\n",
        "        profit = max(profit, profit - min_price) # 갱신된 최솟값으로 이익 최댓값 갱신\n",
        "        \n",
        "    return profit"
      ],
      "execution_count": null,
      "outputs": []
    }
  ]
}