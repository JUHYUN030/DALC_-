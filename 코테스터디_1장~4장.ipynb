{
 "cells": [
  {
   "cell_type": "code",
   "execution_count": null,
   "metadata": {},
   "outputs": [],
   "source": [
    "#수도코드(Pseudocode) 예제(p.53)\n",
    "\n",
    "fizzbuzz()\n",
    "for i = 1 to 100\n",
    "    print_number = True\n",
    "\n",
    "    if i is 3으로 나울 수 있다면\n",
    "        print \"Fizz\"\n",
    "        print_number = False\n",
    "\n",
    "    if i is 5로 나눌 수 있다면\n",
    "        print \"Buzz\"\n",
    "        print_number = False\n",
    "\n",
    "    if print_number = True\n",
    "        print 빈줄"
   ]
  },
  {
   "cell_type": "code",
   "execution_count": 2,
   "metadata": {},
   "outputs": [
    {
     "name": "stdout",
     "output_type": "stream",
     "text": [
      "55\n"
     ]
    }
   ],
   "source": [
    "#1부터 10까지의 합을 구하는 간단한 루프 구조(p.56)\n",
    "\n",
    "#예시 #1 \n",
    "#변수명이 예약어와 같기 때문에 sum2,sum3,sum4로 지정\n",
    "sum2 = 0\n",
    "for i in range(1,10 + 1):\n",
    "  sum2 += i\n",
    "print(sum2)"
   ]
  },
  {
   "cell_type": "code",
   "execution_count": 3,
   "metadata": {},
   "outputs": [
    {
     "name": "stdout",
     "output_type": "stream",
     "text": [
      "55\n"
     ]
    }
   ],
   "source": [
    "#예시 #2\n",
    "sum3 = sum(i for i in range(1, 10 + 1))\n",
    "print(sum3)"
   ]
  },
  {
   "cell_type": "code",
   "execution_count": 4,
   "metadata": {},
   "outputs": [
    {
     "name": "stdout",
     "output_type": "stream",
     "text": [
      "55\n"
     ]
    }
   ],
   "source": [
    "#예시 #3\n",
    "sum4 = sum(range(1,10+1))\n",
    "print(sum4)"
   ]
  },
  {
   "cell_type": "code",
   "execution_count": 5,
   "metadata": {},
   "outputs": [
    {
     "data": {
      "text/plain": [
       "True"
      ]
     },
     "execution_count": 5,
     "metadata": {},
     "output_type": "execute_result"
    }
   ],
   "source": [
    "#제네릭 프로그래밍(p.58)\n",
    "\n",
    "def are_equal(a,b):\n",
    "  return a == b\n",
    "\n",
    "are_equal(10,10.0)"
   ]
  },
  {
   "cell_type": "code",
   "execution_count": 6,
   "metadata": {},
   "outputs": [
    {
     "data": {
      "text/plain": [
       "True"
      ]
     },
     "execution_count": 6,
     "metadata": {},
     "output_type": "execute_result"
    }
   ],
   "source": [
    "from typing import TypeVar\n",
    "\n",
    "T = TypeVar('T')\n",
    "U = TypeVar('U')\n",
    "\n",
    "def are_equal(a: T, b: U) -> bool:\n",
    "   return a == b\n",
    "\n",
    "are_equal(10,10.0)"
   ]
  },
  {
   "cell_type": "code",
   "execution_count": 7,
   "metadata": {},
   "outputs": [
    {
     "name": "stdout",
     "output_type": "stream",
     "text": [
      "A\n",
      "B\n",
      "C\n"
     ]
    }
   ],
   "source": [
    "#배열반복(p.60)*이탤릭체 텍스트*\n",
    "\n",
    "foo = ['A', 'B', 'C']\n",
    "for f in foo:\n",
    "   print(f)"
   ]
  },
  {
   "cell_type": "code",
   "execution_count": 8,
   "metadata": {},
   "outputs": [],
   "source": [
    "#구조체(p.61~62)\n",
    "\n",
    "from collections import namedtuple\n",
    "MyStruct = namedtuple(\"MyStruct\", \"field1 field2 field3\")\n",
    "m = MyStruct(\"foo\", \"bar\", \"baz\")"
   ]
  },
  {
   "cell_type": "code",
   "execution_count": 9,
   "metadata": {},
   "outputs": [],
   "source": [
    "from dataclasses import dataclass\n",
    "\n",
    "@dataclass\n",
    "class Product:\n",
    "    weight: int = None\n",
    "    price: float = None\n",
    "\n",
    "apple = Product()\n",
    "apple.price = 10\n",
    "\n",
    "#@dataclass 데코레이션 -> 파이썬 3.7기준 사용가능\n",
    "#초기함수 지원, 출력할 때도 읽기 쉬운 포맷으로 출력해줌"
   ]
  },
  {
   "cell_type": "code",
   "execution_count": 10,
   "metadata": {},
   "outputs": [
    {
     "name": "stdout",
     "output_type": "stream",
     "text": [
      "12\n"
     ]
    }
   ],
   "source": [
    "#클래스(p.64~65)\n",
    "\n",
    "from dataclasses import dataclass\n",
    "\n",
    "@dataclass\n",
    "class Rectangle:\n",
    "    width: int\n",
    "    height: int\n",
    "\n",
    "    def area(self):\n",
    "        return self.width * self.height\n",
    "\n",
    "rect = Rectangle(3,4)\n",
    "print(rect.area())"
   ]
  },
  {
   "cell_type": "code",
   "execution_count": null,
   "metadata": {},
   "outputs": [],
   "source": [
    "#인덴트(p.76~77)\n",
    "#공백 4칸 원칙\n",
    "\n",
    "# 첫 번째 줄에 파라미터 있다면 파라미터가 시작되는 부분에 작성\n",
    "foo = long_function_name(var_one, var_two,\n",
    "                         var_three, var_four)\n",
    "\n",
    "# 첫 번째줄레 파라미터 없다면 공백 4칸 인덴트를 한 번 더 추가\n",
    "def long_function_name(\n",
    "        var_one, var_two, var_three,\n",
    "        var_four):\n",
    "    print(var_one)\n",
    "\n",
    "# 여러줄로 나눠쓸 경우 다음 행과 구분되도록 인덴트를 추가\n",
    "foo = long_function_name(\n",
    "    var_one, var_two,\n",
    "    var_three, var_four)"
   ]
  },
  {
   "cell_type": "code",
   "execution_count": null,
   "metadata": {},
   "outputs": [],
   "source": [
    "#타입힌트(p.79)\n",
    "\n",
    ">>>> a: str = 1\n",
    ">>>> type(a)\n",
    "<class 'int'>\n",
    "\n",
    "#코드를 정리할 때 타입을 모두 지정해서 보기좋게 제출하면 좋은 점수 받을 수 있음\n",
    "\n",
    "$pip install mypy\n",
    "#타입 힌트에 오류가 없는지 자동으로 확인 할 수 있음"
   ]
  },
  {
   "cell_type": "code",
   "execution_count": null,
   "metadata": {},
   "outputs": [],
   "source": [
    "#리스트 컴프리헨션(p.80~81)"
   ]
  },
  {
   "cell_type": "code",
   "execution_count": null,
   "metadata": {},
   "outputs": [],
   "source": []
  },
  {
   "cell_type": "code",
   "execution_count": null,
   "metadata": {},
   "outputs": [],
   "source": []
  },
  {
   "cell_type": "code",
   "execution_count": null,
   "metadata": {},
   "outputs": [],
   "source": []
  },
  {
   "cell_type": "code",
   "execution_count": null,
   "metadata": {},
   "outputs": [],
   "source": []
  }
 ],
 "metadata": {
  "kernelspec": {
   "display_name": "Python 3",
   "language": "python",
   "name": "python3"
  },
  "language_info": {
   "codemirror_mode": {
    "name": "ipython",
    "version": 3
   },
   "file_extension": ".py",
   "mimetype": "text/x-python",
   "name": "python",
   "nbconvert_exporter": "python",
   "pygments_lexer": "ipython3",
   "version": "3.8.5"
  }
 },
 "nbformat": 4,
 "nbformat_minor": 4
}
