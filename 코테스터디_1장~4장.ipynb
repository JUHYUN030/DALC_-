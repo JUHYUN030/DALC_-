{
  "nbformat": 4,
  "nbformat_minor": 0,
  "metadata": {
    "colab": {
      "name": "코테스터디_1장~4장.ipynb",
      "provenance": [],
      "collapsed_sections": [],
      "authorship_tag": "ABX9TyOEutGAsASTGqModCOMkDH+",
      "include_colab_link": true
    },
    "kernelspec": {
      "name": "python3",
      "display_name": "Python 3"
    }
  },
  "cells": [
    {
      "cell_type": "markdown",
      "metadata": {
        "id": "view-in-github",
        "colab_type": "text"
      },
      "source": [
        "<a href=\"https://colab.research.google.com/github/JUHYUN030/DALC_CODING-TEST/blob/main/%EC%BD%94%ED%85%8C%EC%8A%A4%ED%84%B0%EB%94%94_1%EC%9E%A5~4%EC%9E%A5.ipynb\" target=\"_parent\"><img src=\"https://colab.research.google.com/assets/colab-badge.svg\" alt=\"Open In Colab\"/></a>"
      ]
    },
    {
      "cell_type": "markdown",
      "metadata": {
        "id": "Jiws2deFWA4u"
      },
      "source": [
        "#수도코드(Pseudocode) 예제(p.53)"
      ]
    },
    {
      "cell_type": "code",
      "metadata": {
        "id": "qWmdSZ_RRbVt"
      },
      "source": [
        "fizzbuzz()\r\n",
        "for i = 1 to 100\r\n",
        "    print_number = True\r\n",
        "\r\n",
        "    if i is 3으로 나울 수 있다면\r\n",
        "        print \"Fizz\"\r\n",
        "        print_number = False\r\n",
        "\r\n",
        "    if i is 5로 나눌 수 있다면\r\n",
        "        print \"Buzz\"\r\n",
        "        print_number = False\r\n",
        "\r\n",
        "    if print_number = True\r\n",
        "        print 빈줄"
      ],
      "execution_count": null,
      "outputs": []
    },
    {
      "cell_type": "markdown",
      "metadata": {
        "id": "0NkBiRPdV8LG"
      },
      "source": [
        "#1부터 10까지의 합을 구하는 간단한 루프 구조(p.56)"
      ]
    },
    {
      "cell_type": "code",
      "metadata": {
        "colab": {
          "base_uri": "https://localhost:8080/"
        },
        "id": "aeuA5gQ0SUOg",
        "outputId": "fc8d1fc6-bf82-4ee7-d8b8-2df3a2752b7c"
      },
      "source": [
        "#예시 #1 \r\n",
        "#변수명이 예약어와 같기 때문에 sum2,sum3,sum4로 지정\r\n",
        "sum2 = 0\r\n",
        "for i in range(1,10 + 1):\r\n",
        "  sum2 += i\r\n",
        "print(sum2)"
      ],
      "execution_count": 4,
      "outputs": [
        {
          "output_type": "stream",
          "text": [
            "55\n"
          ],
          "name": "stdout"
        }
      ]
    },
    {
      "cell_type": "code",
      "metadata": {
        "colab": {
          "base_uri": "https://localhost:8080/"
        },
        "id": "HtK2MM-TVz2e",
        "outputId": "8f7342cd-9b96-4a4a-d90a-8babc61974c7"
      },
      "source": [
        "#예시 #2\r\n",
        "sum3 = sum(i for i in range(1, 10 + 1))\r\n",
        "print(sum3)\r\n"
      ],
      "execution_count": 1,
      "outputs": [
        {
          "output_type": "stream",
          "text": [
            "55\n"
          ],
          "name": "stdout"
        }
      ]
    },
    {
      "cell_type": "code",
      "metadata": {
        "colab": {
          "base_uri": "https://localhost:8080/"
        },
        "id": "4uHsC3M-V0IG",
        "outputId": "9c960095-fef0-4330-cc32-e4a0d8ee9ec9"
      },
      "source": [
        "#예시 #3\r\n",
        "sum4 = sum(range(1,10+1))\r\n",
        "print(sum4)"
      ],
      "execution_count": 2,
      "outputs": [
        {
          "output_type": "stream",
          "text": [
            "55\n"
          ],
          "name": "stdout"
        }
      ]
    },
    {
      "cell_type": "markdown",
      "metadata": {
        "id": "z9NHh-vhWG3m"
      },
      "source": [
        "#제네릭 프로그래밍(p.58)"
      ]
    },
    {
      "cell_type": "code",
      "metadata": {
        "colab": {
          "base_uri": "https://localhost:8080/"
        },
        "id": "0OtoEzDJT4dY",
        "outputId": "aaf37290-b5e1-43a5-fc7f-e076bd700673"
      },
      "source": [
        "def are_equal(a,b):\r\n",
        "  return a == b\r\n",
        "\r\n",
        "are_equal(10,10.0)"
      ],
      "execution_count": 4,
      "outputs": [
        {
          "output_type": "execute_result",
          "data": {
            "text/plain": [
              "True"
            ]
          },
          "metadata": {
            "tags": []
          },
          "execution_count": 4
        }
      ]
    },
    {
      "cell_type": "code",
      "metadata": {
        "colab": {
          "base_uri": "https://localhost:8080/"
        },
        "id": "Ky5NJHaQ6m3T",
        "outputId": "92b591a9-3f27-4d84-ceab-d92d850384a0"
      },
      "source": [
        "from typing import TypeVar\r\n",
        "\r\n",
        "T = TypeVar('T')\r\n",
        "U = TypeVar('U')\r\n",
        "\r\n",
        "def are_equal(a: T, b: U) -> bool:\r\n",
        "   return a == b\r\n",
        "\r\n",
        "are_equal(10,10.0)"
      ],
      "execution_count": 7,
      "outputs": [
        {
          "output_type": "execute_result",
          "data": {
            "text/plain": [
              "True"
            ]
          },
          "metadata": {
            "tags": []
          },
          "execution_count": 7
        }
      ]
    },
    {
      "cell_type": "markdown",
      "metadata": {
        "id": "rsUUbMx37bP4"
      },
      "source": [
        "#배열반복(p.60)*이탤릭체 텍스트*"
      ]
    },
    {
      "cell_type": "code",
      "metadata": {
        "colab": {
          "base_uri": "https://localhost:8080/"
        },
        "id": "ete2Z7T17X-t",
        "outputId": "20e3ca43-72c4-43c3-9bdc-1ed753c460bf"
      },
      "source": [
        "foo = ['A', 'B', 'C']\r\n",
        "for f in foo:\r\n",
        "   print(f)"
      ],
      "execution_count": 8,
      "outputs": [
        {
          "output_type": "stream",
          "text": [
            "A\n",
            "B\n",
            "C\n"
          ],
          "name": "stdout"
        }
      ]
    },
    {
      "cell_type": "markdown",
      "metadata": {
        "id": "7GqFuIeZ7zqN"
      },
      "source": [
        "#구조체(p.61~62)"
      ]
    },
    {
      "cell_type": "code",
      "metadata": {
        "id": "0V-B3cBX7_O7"
      },
      "source": [
        "from collections import namedtuple\r\n",
        "MyStruct = namedtuple(\"MyStruct\", \"field1 field2 field3\")\r\n",
        "m = MyStruct(\"foo\", \"bar\", \"baz\")"
      ],
      "execution_count": 11,
      "outputs": []
    },
    {
      "cell_type": "code",
      "metadata": {
        "id": "m1dF0DIl8msS"
      },
      "source": [
        "from dataclasses import dataclass\r\n",
        "\r\n",
        "@dataclass\r\n",
        "class Product:\r\n",
        "    weight: int = None\r\n",
        "    price: float = None\r\n",
        "\r\n",
        "apple = Product()\r\n",
        "apple.price = 10\r\n",
        "\r\n",
        "#@dataclass 데코레이션 -> 파이썬 3.7기준 사용가능\r\n",
        "#초기함수 지원, 출력할 때도 읽기 쉬운 포맷으로 출력해줌"
      ],
      "execution_count": 17,
      "outputs": []
    },
    {
      "cell_type": "markdown",
      "metadata": {
        "id": "06RDemc296JF"
      },
      "source": [
        "#클래스(p.64~65)"
      ]
    },
    {
      "cell_type": "code",
      "metadata": {
        "colab": {
          "base_uri": "https://localhost:8080/"
        },
        "id": "B0XCBuwh-DbT",
        "outputId": "298fb6bd-019b-42d8-fce3-449b579dc2cc"
      },
      "source": [
        "from dataclasses import dataclass\r\n",
        "\r\n",
        "@dataclass\r\n",
        "class Rectangle:\r\n",
        "    width: int\r\n",
        "    height: int\r\n",
        "\r\n",
        "    def area(self):\r\n",
        "        return self.width * self.height\r\n",
        "\r\n",
        "rect = Rectangle(3,4)\r\n",
        "print(rect.area())"
      ],
      "execution_count": 25,
      "outputs": [
        {
          "output_type": "stream",
          "text": [
            "12\n"
          ],
          "name": "stdout"
        }
      ]
    },
    {
      "cell_type": "markdown",
      "metadata": {
        "id": "drOP87icCCGx"
      },
      "source": [
        "#인덴트(p.76~77)"
      ]
    },
    {
      "cell_type": "code",
      "metadata": {
        "id": "7wH_XhQbJs0q"
      },
      "source": [
        "#공백 4칸 원칙\r\n",
        "\r\n",
        "foo = long_function_name(var_one, var_two,\r\n",
        "                         var_three, var_four)"
      ],
      "execution_count": null,
      "outputs": []
    },
    {
      "cell_type": "code",
      "metadata": {
        "id": "sIXCKF2zGd1w"
      },
      "source": [
        "def long_function_name(\r\n",
        "        var_one, var_two, var_three, \r\n",
        "        var_four):\r\n",
        "    print(var_one)"
      ],
      "execution_count": 42,
      "outputs": []
    },
    {
      "cell_type": "code",
      "metadata": {
        "id": "Fijf9RNWJwQi"
      },
      "source": [
        "foo = long_function_name(\r\n",
        "    var_one, var_two,\r\n",
        "    var_three, var_four)"
      ],
      "execution_count": null,
      "outputs": []
    },
    {
      "cell_type": "markdown",
      "metadata": {
        "id": "BuAAa9AKIJ_X"
      },
      "source": [
        "#타입힌트(p.79)"
      ]
    },
    {
      "cell_type": "code",
      "metadata": {
        "id": "rqn4hMhaJoXS"
      },
      "source": [
        ">>>> a: str = 1\r\n",
        ">>>> type(a)\r\n",
        "<class 'int'>\r\n",
        "\r\n",
        "#코드를 정리할 때 타입을 모두 지정해서 보기좋게 제출하면 좋은 점수 받을 수 있음"
      ],
      "execution_count": null,
      "outputs": []
    },
    {
      "cell_type": "code",
      "metadata": {
        "id": "L6DCIWxzKRNd"
      },
      "source": [
        "$pip install mypy\r\n",
        "#타입 힌트에 오류가 없는지 자동으로 확인 할 수 있음"
      ],
      "execution_count": null,
      "outputs": []
    },
    {
      "cell_type": "markdown",
      "metadata": {
        "id": "JvmG-vvCJ__5"
      },
      "source": [
        "#리스트 컴프리헨션(p.80~81)"
      ]
    },
    {
      "cell_type": "code",
      "metadata": {
        "colab": {
          "base_uri": "https://localhost:8080/"
        },
        "id": "KMcjWSfASNkC",
        "outputId": "4b5e1981-0ab2-4b4c-9483-fd5d5d8e886e"
      },
      "source": [
        "list(map(lambda x : x + 10, [1, 2, 3]))"
      ],
      "execution_count": 47,
      "outputs": [
        {
          "output_type": "execute_result",
          "data": {
            "text/plain": [
              "[11, 12, 13]"
            ]
          },
          "metadata": {
            "tags": []
          },
          "execution_count": 47
        }
      ]
    },
    {
      "cell_type": "code",
      "metadata": {
        "colab": {
          "base_uri": "https://localhost:8080/"
        },
        "id": "AK8TTpyWStdc",
        "outputId": "d16dd2f4-9a61-4574-af9d-c4bc4aa53f63"
      },
      "source": [
        "[n * 2 for n in range(1, 10 + 1) if n % 2 == 1]"
      ],
      "execution_count": 48,
      "outputs": [
        {
          "output_type": "execute_result",
          "data": {
            "text/plain": [
              "[2, 6, 10, 14, 18]"
            ]
          },
          "metadata": {
            "tags": []
          },
          "execution_count": 48
        }
      ]
    },
    {
      "cell_type": "code",
      "metadata": {
        "colab": {
          "base_uri": "https://localhost:8080/"
        },
        "id": "hAuQEPceTimK",
        "outputId": "cbbb0a39-a12a-4575-e6d0-4d2ebf1d6166"
      },
      "source": [
        "a = []\r\n",
        "for n in range(1, 10 + 1):\r\n",
        "    if n % 2 == 1:\r\n",
        "        a.append(n * 2)\r\n",
        "\r\n",
        "a"
      ],
      "execution_count": 50,
      "outputs": [
        {
          "output_type": "execute_result",
          "data": {
            "text/plain": [
              "[2, 6, 10, 14, 18]"
            ]
          },
          "metadata": {
            "tags": []
          },
          "execution_count": 50
        }
      ]
    },
    {
      "cell_type": "code",
      "metadata": {
        "id": "4FHN-jUXVO-z"
      },
      "source": [
        "a = {}\r\n",
        "for key, value in original.items():\r\n",
        "    a[key] = value\r\n",
        "\r\n",
        "\r\n",
        "a = {key: value for key, value in original.items()}\r\n",
        "\r\n",
        "#리스트 컴프핸션이라고 리스트만 가능한 것은 아니다. 딕셔너리 등도 가능함."
      ],
      "execution_count": null,
      "outputs": []
    },
    {
      "cell_type": "markdown",
      "metadata": {
        "id": "O1m5XYkxVxF2"
      },
      "source": [
        "#제너레이터(p.82~83)"
      ]
    },
    {
      "cell_type": "code",
      "metadata": {
        "colab": {
          "base_uri": "https://localhost:8080/"
        },
        "id": "zFhmczb2VvpO",
        "outputId": "dc4a462e-76d6-4fc8-e49c-646a9714155c"
      },
      "source": [
        "def get_natural_number():\r\n",
        "    n = 0\r\n",
        "    while True:\r\n",
        "        n += 1\r\n",
        "        yield n\r\n",
        "\r\n",
        "get_natural_number()\r\n",
        "\r\n",
        "#기존함수는return구문을 맞닥뜨리면 값을 리턴하고 모든 함수의 동작을 종료함\r\n",
        "#yield구문은 제너레이터가 여기까지 실행중이던 값을 내보내는 의미로 \r\n",
        "#중간값을 리턴한 다음 함수는 종료되지 않고 맨 끝에 도달할때까지 실행됨\r\n",
        "#while True구문은 종료 조건 없음"
      ],
      "execution_count": 52,
      "outputs": [
        {
          "output_type": "execute_result",
          "data": {
            "text/plain": [
              "<generator object get_natural_number at 0x7f1dcdc3f7d0>"
            ]
          },
          "metadata": {
            "tags": []
          },
          "execution_count": 52
        }
      ]
    },
    {
      "cell_type": "code",
      "metadata": {
        "colab": {
          "base_uri": "https://localhost:8080/"
        },
        "id": "C95_Qr6kXftf",
        "outputId": "3fdd2532-310c-41da-9461-7956a055738f"
      },
      "source": [
        "g = get_natural_number()\r\n",
        "for _ in range(0,100):\r\n",
        "    print(next(g))\r\n",
        "\r\n",
        "#100번 동안 next()를 수행하면 100개의 값을 생성함"
      ],
      "execution_count": 53,
      "outputs": [
        {
          "output_type": "stream",
          "text": [
            "1\n",
            "2\n",
            "3\n",
            "4\n",
            "5\n",
            "6\n",
            "7\n",
            "8\n",
            "9\n",
            "10\n",
            "11\n",
            "12\n",
            "13\n",
            "14\n",
            "15\n",
            "16\n",
            "17\n",
            "18\n",
            "19\n",
            "20\n",
            "21\n",
            "22\n",
            "23\n",
            "24\n",
            "25\n",
            "26\n",
            "27\n",
            "28\n",
            "29\n",
            "30\n",
            "31\n",
            "32\n",
            "33\n",
            "34\n",
            "35\n",
            "36\n",
            "37\n",
            "38\n",
            "39\n",
            "40\n",
            "41\n",
            "42\n",
            "43\n",
            "44\n",
            "45\n",
            "46\n",
            "47\n",
            "48\n",
            "49\n",
            "50\n",
            "51\n",
            "52\n",
            "53\n",
            "54\n",
            "55\n",
            "56\n",
            "57\n",
            "58\n",
            "59\n",
            "60\n",
            "61\n",
            "62\n",
            "63\n",
            "64\n",
            "65\n",
            "66\n",
            "67\n",
            "68\n",
            "69\n",
            "70\n",
            "71\n",
            "72\n",
            "73\n",
            "74\n",
            "75\n",
            "76\n",
            "77\n",
            "78\n",
            "79\n",
            "80\n",
            "81\n",
            "82\n",
            "83\n",
            "84\n",
            "85\n",
            "86\n",
            "87\n",
            "88\n",
            "89\n",
            "90\n",
            "91\n",
            "92\n",
            "93\n",
            "94\n",
            "95\n",
            "96\n",
            "97\n",
            "98\n",
            "99\n",
            "100\n"
          ],
          "name": "stdout"
        }
      ]
    },
    {
      "cell_type": "code",
      "metadata": {
        "colab": {
          "base_uri": "https://localhost:8080/"
        },
        "id": "Rd2TCeboYI8U",
        "outputId": "2264353d-02cc-4321-e2a9-cec58b03ab37"
      },
      "source": [
        "def generator():\r\n",
        "    yield 1\r\n",
        "    yield 'string'\r\n",
        "    yield True\r\n",
        "g = generator()\r\n",
        "g"
      ],
      "execution_count": 54,
      "outputs": [
        {
          "output_type": "execute_result",
          "data": {
            "text/plain": [
              "<generator object generator at 0x7f1dcdc3fad0>"
            ]
          },
          "metadata": {
            "tags": []
          },
          "execution_count": 54
        }
      ]
    },
    {
      "cell_type": "code",
      "metadata": {
        "colab": {
          "base_uri": "https://localhost:8080/"
        },
        "id": "Qsw89LHvYf5O",
        "outputId": "2d64d03a-5870-4bee-f8d1-625503ad9665"
      },
      "source": [
        "next(g)"
      ],
      "execution_count": 55,
      "outputs": [
        {
          "output_type": "execute_result",
          "data": {
            "text/plain": [
              "1"
            ]
          },
          "metadata": {
            "tags": []
          },
          "execution_count": 55
        }
      ]
    },
    {
      "cell_type": "code",
      "metadata": {
        "colab": {
          "base_uri": "https://localhost:8080/",
          "height": 35
        },
        "id": "M9JOlgKgYlB_",
        "outputId": "68244268-d92e-4cda-de11-a1970cd15507"
      },
      "source": [
        "next(g)"
      ],
      "execution_count": 56,
      "outputs": [
        {
          "output_type": "execute_result",
          "data": {
            "application/vnd.google.colaboratory.intrinsic+json": {
              "type": "string"
            },
            "text/plain": [
              "'string'"
            ]
          },
          "metadata": {
            "tags": []
          },
          "execution_count": 56
        }
      ]
    },
    {
      "cell_type": "code",
      "metadata": {
        "colab": {
          "base_uri": "https://localhost:8080/"
        },
        "id": "QUR0Gr6DYmop",
        "outputId": "0c7d6a22-2b1b-4c80-af71-cce54f15dd45"
      },
      "source": [
        "next(g)"
      ],
      "execution_count": 57,
      "outputs": [
        {
          "output_type": "execute_result",
          "data": {
            "text/plain": [
              "True"
            ]
          },
          "metadata": {
            "tags": []
          },
          "execution_count": 57
        }
      ]
    },
    {
      "cell_type": "markdown",
      "metadata": {
        "id": "WzATS_qyYoA3"
      },
      "source": [
        "#range(p.83~84)"
      ]
    },
    {
      "cell_type": "code",
      "metadata": {
        "colab": {
          "base_uri": "https://localhost:8080/"
        },
        "id": "FAFW5bvHYvF3",
        "outputId": "c87fe05f-56c8-4846-a5de-e2a00a72688e"
      },
      "source": [
        "list(range(5))"
      ],
      "execution_count": 78,
      "outputs": [
        {
          "output_type": "execute_result",
          "data": {
            "text/plain": [
              "[0, 1, 2, 3, 4]"
            ]
          },
          "metadata": {
            "tags": []
          },
          "execution_count": 78
        }
      ]
    },
    {
      "cell_type": "code",
      "metadata": {
        "colab": {
          "base_uri": "https://localhost:8080/"
        },
        "id": "bOcFL2XSYzo7",
        "outputId": "4430a1ab-4a9d-4aca-cba0-457dc034b464"
      },
      "source": [
        "range(0,5)"
      ],
      "execution_count": 79,
      "outputs": [
        {
          "output_type": "execute_result",
          "data": {
            "text/plain": [
              "range(0, 5)"
            ]
          },
          "metadata": {
            "tags": []
          },
          "execution_count": 79
        }
      ]
    },
    {
      "cell_type": "code",
      "metadata": {
        "colab": {
          "base_uri": "https://localhost:8080/"
        },
        "id": "aCEcniPuY6aU",
        "outputId": "9fe491b9-8858-49b7-975c-bb9d05df89e9"
      },
      "source": [
        "type(range(5))"
      ],
      "execution_count": 80,
      "outputs": [
        {
          "output_type": "execute_result",
          "data": {
            "text/plain": [
              "range"
            ]
          },
          "metadata": {
            "tags": []
          },
          "execution_count": 80
        }
      ]
    },
    {
      "cell_type": "code",
      "metadata": {
        "colab": {
          "base_uri": "https://localhost:8080/"
        },
        "id": "EghpxpXiZBBP",
        "outputId": "6bb66236-0d39-4786-fb55-66bc9081922d"
      },
      "source": [
        "for i in range(5):\r\n",
        "    print(i, end= '')"
      ],
      "execution_count": 81,
      "outputs": [
        {
          "output_type": "stream",
          "text": [
            "01234"
          ],
          "name": "stdout"
        }
      ]
    },
    {
      "cell_type": "code",
      "metadata": {
        "id": "WddLta51Z3TC"
      },
      "source": [
        "a = [n for n in range(1000000)] #이미 생성된 값이 담겨있음\r\n",
        "b = range(1000000) #생성해야 한다는 조건만 존재함"
      ],
      "execution_count": 82,
      "outputs": []
    },
    {
      "cell_type": "code",
      "metadata": {
        "colab": {
          "base_uri": "https://localhost:8080/"
        },
        "id": "xyyehsvaZ3pQ",
        "outputId": "7704621d-9785-4ee1-b798-828147bffcb3"
      },
      "source": [
        "len(a)"
      ],
      "execution_count": 83,
      "outputs": [
        {
          "output_type": "execute_result",
          "data": {
            "text/plain": [
              "1000000"
            ]
          },
          "metadata": {
            "tags": []
          },
          "execution_count": 83
        }
      ]
    },
    {
      "cell_type": "code",
      "metadata": {
        "colab": {
          "base_uri": "https://localhost:8080/"
        },
        "id": "MpskqLiwZ3rt",
        "outputId": "9ce0c7c3-5902-46b2-e1c2-37b889569abc"
      },
      "source": [
        "len(b)"
      ],
      "execution_count": 84,
      "outputs": [
        {
          "output_type": "execute_result",
          "data": {
            "text/plain": [
              "1000000"
            ]
          },
          "metadata": {
            "tags": []
          },
          "execution_count": 84
        }
      ]
    },
    {
      "cell_type": "code",
      "metadata": {
        "colab": {
          "base_uri": "https://localhost:8080/"
        },
        "id": "ZTaoJy6oZ3vU",
        "outputId": "7709465f-2c2c-45b2-ae57-ea4b9cfd999d"
      },
      "source": [
        "len(a) == len(b)"
      ],
      "execution_count": 85,
      "outputs": [
        {
          "output_type": "execute_result",
          "data": {
            "text/plain": [
              "True"
            ]
          },
          "metadata": {
            "tags": []
          },
          "execution_count": 85
        }
      ]
    },
    {
      "cell_type": "code",
      "metadata": {
        "colab": {
          "base_uri": "https://localhost:8080/"
        },
        "id": "jU6CAGQgZ3xo",
        "outputId": "57a4c8df-5dcf-44fc-9ac3-c99baf4bfe0a"
      },
      "source": [
        "b"
      ],
      "execution_count": 86,
      "outputs": [
        {
          "output_type": "execute_result",
          "data": {
            "text/plain": [
              "range(0, 1000000)"
            ]
          },
          "metadata": {
            "tags": []
          },
          "execution_count": 86
        }
      ]
    },
    {
      "cell_type": "code",
      "metadata": {
        "colab": {
          "base_uri": "https://localhost:8080/"
        },
        "id": "1wUOAu4sadvS",
        "outputId": "cc94afbf-0428-44b2-cbf8-71d008821959"
      },
      "source": [
        "type(b)"
      ],
      "execution_count": 87,
      "outputs": [
        {
          "output_type": "execute_result",
          "data": {
            "text/plain": [
              "range"
            ]
          },
          "metadata": {
            "tags": []
          },
          "execution_count": 87
        }
      ]
    },
    {
      "cell_type": "code",
      "metadata": {
        "id": "vRlXd0enau9e"
      },
      "source": [
        "sys.getsizeof(a)"
      ],
      "execution_count": null,
      "outputs": []
    },
    {
      "cell_type": "code",
      "metadata": {
        "id": "7ipSikpBavDV"
      },
      "source": [
        "sys.getsizeof(b)"
      ],
      "execution_count": null,
      "outputs": []
    },
    {
      "cell_type": "code",
      "metadata": {
        "colab": {
          "base_uri": "https://localhost:8080/"
        },
        "id": "r8sqqaiBcA8i",
        "outputId": "188fb48d-7c75-4855-e15b-fcf77ef1819d"
      },
      "source": [
        "b[999]"
      ],
      "execution_count": 90,
      "outputs": [
        {
          "output_type": "execute_result",
          "data": {
            "text/plain": [
              "999"
            ]
          },
          "metadata": {
            "tags": []
          },
          "execution_count": 90
        }
      ]
    },
    {
      "cell_type": "markdown",
      "metadata": {
        "id": "yuvxycWyd0KX"
      },
      "source": [
        "#enumerate(p.85)"
      ]
    },
    {
      "cell_type": "code",
      "metadata": {
        "colab": {
          "base_uri": "https://localhost:8080/"
        },
        "id": "_kiW7SUJd6b1",
        "outputId": "357342f4-7922-4da8-a4ae-05d1abef9b70"
      },
      "source": [
        "a = [1,2,3,2,45,2,5]\r\n",
        "a"
      ],
      "execution_count": 91,
      "outputs": [
        {
          "output_type": "execute_result",
          "data": {
            "text/plain": [
              "[1, 2, 3, 2, 45, 2, 5]"
            ]
          },
          "metadata": {
            "tags": []
          },
          "execution_count": 91
        }
      ]
    },
    {
      "cell_type": "code",
      "metadata": {
        "colab": {
          "base_uri": "https://localhost:8080/"
        },
        "id": "sLNtNHoKd6jw",
        "outputId": "2cba1a4e-fbed-4a25-ef8f-6721f3bdc75c"
      },
      "source": [
        "enumerate(a)\r\n",
        "#순서가 있는 자료형(list, set, tuple 등)을 인덱스를 포함한 enumerate 객체로 리턴함"
      ],
      "execution_count": 92,
      "outputs": [
        {
          "output_type": "execute_result",
          "data": {
            "text/plain": [
              "<enumerate at 0x7f1dcdc59410>"
            ]
          },
          "metadata": {
            "tags": []
          },
          "execution_count": 92
        }
      ]
    },
    {
      "cell_type": "code",
      "metadata": {
        "colab": {
          "base_uri": "https://localhost:8080/"
        },
        "id": "vAlSMV7Wd6tO",
        "outputId": "5d5210f6-a13b-4a04-c6e0-38f592a4e5af"
      },
      "source": [
        "list(enumerate(a))"
      ],
      "execution_count": 93,
      "outputs": [
        {
          "output_type": "execute_result",
          "data": {
            "text/plain": [
              "[(0, 1), (1, 2), (2, 3), (3, 2), (4, 45), (5, 2), (6, 5)]"
            ]
          },
          "metadata": {
            "tags": []
          },
          "execution_count": 93
        }
      ]
    },
    {
      "cell_type": "code",
      "metadata": {
        "colab": {
          "base_uri": "https://localhost:8080/"
        },
        "id": "McdOdXiod6zl",
        "outputId": "09c5de49-3459-46b1-d123-a47c0b1ef21a"
      },
      "source": [
        "for i in range(len(a)):\r\n",
        "    print(i, a[i])"
      ],
      "execution_count": 95,
      "outputs": [
        {
          "output_type": "stream",
          "text": [
            "0 1\n",
            "1 2\n",
            "2 3\n",
            "3 2\n",
            "4 45\n",
            "5 2\n",
            "6 5\n"
          ],
          "name": "stdout"
        }
      ]
    },
    {
      "cell_type": "code",
      "metadata": {
        "colab": {
          "base_uri": "https://localhost:8080/"
        },
        "id": "GjWXBmmTfIJW",
        "outputId": "628b97bf-e279-460e-f8c8-e3beb92e7489"
      },
      "source": [
        "i = 0\r\n",
        "for v in a:\r\n",
        "    print(i, v)\r\n",
        "    i += 1"
      ],
      "execution_count": 96,
      "outputs": [
        {
          "output_type": "stream",
          "text": [
            "0 1\n",
            "1 2\n",
            "2 3\n",
            "3 2\n",
            "4 45\n",
            "5 2\n",
            "6 5\n"
          ],
          "name": "stdout"
        }
      ]
    },
    {
      "cell_type": "code",
      "metadata": {
        "colab": {
          "base_uri": "https://localhost:8080/"
        },
        "id": "nU6041Ajfey7",
        "outputId": "a86d5439-1613-43e1-a1b7-65f38a5deca7"
      },
      "source": [
        "for i, v in enumerate(a):\r\n",
        "    print(i, v)"
      ],
      "execution_count": 98,
      "outputs": [
        {
          "output_type": "stream",
          "text": [
            "0 1\n",
            "1 2\n",
            "2 3\n",
            "3 2\n",
            "4 45\n",
            "5 2\n",
            "6 5\n"
          ],
          "name": "stdout"
        }
      ]
    },
    {
      "cell_type": "markdown",
      "metadata": {
        "id": "TZkfTFM_fwPX"
      },
      "source": [
        "#//나눗셈 연산자(p.86~87)"
      ]
    },
    {
      "cell_type": "code",
      "metadata": {
        "colab": {
          "base_uri": "https://localhost:8080/"
        },
        "id": "VO7KNKQlftX8",
        "outputId": "11ee3c29-2c9f-4fc9-fcad-25989cbe62ac"
      },
      "source": [
        "5/3"
      ],
      "execution_count": 99,
      "outputs": [
        {
          "output_type": "execute_result",
          "data": {
            "text/plain": [
              "1.6666666666666667"
            ]
          },
          "metadata": {
            "tags": []
          },
          "execution_count": 99
        }
      ]
    },
    {
      "cell_type": "code",
      "metadata": {
        "colab": {
          "base_uri": "https://localhost:8080/"
        },
        "id": "nbgs2SaPf77I",
        "outputId": "4d4518f8-5562-43b6-d0a6-65e939b2ef54"
      },
      "source": [
        "type(5/3)"
      ],
      "execution_count": 100,
      "outputs": [
        {
          "output_type": "execute_result",
          "data": {
            "text/plain": [
              "float"
            ]
          },
          "metadata": {
            "tags": []
          },
          "execution_count": 100
        }
      ]
    },
    {
      "cell_type": "code",
      "metadata": {
        "colab": {
          "base_uri": "https://localhost:8080/"
        },
        "id": "zW3IXlDXf7_p",
        "outputId": "b85674ee-c3d0-4324-b4f4-a0c4ca3f0e08"
      },
      "source": [
        "5//3\r\n",
        "#//나눗셈 연산자는 int(a/b)와 동일함"
      ],
      "execution_count": 102,
      "outputs": [
        {
          "output_type": "execute_result",
          "data": {
            "text/plain": [
              "1"
            ]
          },
          "metadata": {
            "tags": []
          },
          "execution_count": 102
        }
      ]
    },
    {
      "cell_type": "code",
      "metadata": {
        "colab": {
          "base_uri": "https://localhost:8080/"
        },
        "id": "9mOvN7zZf8Rc",
        "outputId": "f6d6a806-d673-48d0-b0c0-f69e03003f68"
      },
      "source": [
        "type(5//3)"
      ],
      "execution_count": 103,
      "outputs": [
        {
          "output_type": "execute_result",
          "data": {
            "text/plain": [
              "int"
            ]
          },
          "metadata": {
            "tags": []
          },
          "execution_count": 103
        }
      ]
    },
    {
      "cell_type": "code",
      "metadata": {
        "colab": {
          "base_uri": "https://localhost:8080/"
        },
        "id": "PI9Loiy9gTcI",
        "outputId": "77497115-2a65-4934-ba0f-61d330c8d348"
      },
      "source": [
        "int(5/3)"
      ],
      "execution_count": 104,
      "outputs": [
        {
          "output_type": "execute_result",
          "data": {
            "text/plain": [
              "1"
            ]
          },
          "metadata": {
            "tags": []
          },
          "execution_count": 104
        }
      ]
    },
    {
      "cell_type": "code",
      "metadata": {
        "colab": {
          "base_uri": "https://localhost:8080/"
        },
        "id": "K0cHy0cwgTig",
        "outputId": "bbee3474-fa9a-432c-9b5d-04d72b4007a3"
      },
      "source": [
        "type(int(5/3))"
      ],
      "execution_count": 105,
      "outputs": [
        {
          "output_type": "execute_result",
          "data": {
            "text/plain": [
              "int"
            ]
          },
          "metadata": {
            "tags": []
          },
          "execution_count": 105
        }
      ]
    },
    {
      "cell_type": "code",
      "metadata": {
        "colab": {
          "base_uri": "https://localhost:8080/"
        },
        "id": "P69HRmXsgTln",
        "outputId": "d8486a7c-e792-4e61-d11b-35d0b86875f9"
      },
      "source": [
        "5%3\r\n",
        "#나머지 구하기"
      ],
      "execution_count": 106,
      "outputs": [
        {
          "output_type": "execute_result",
          "data": {
            "text/plain": [
              "2"
            ]
          },
          "metadata": {
            "tags": []
          },
          "execution_count": 106
        }
      ]
    },
    {
      "cell_type": "code",
      "metadata": {
        "colab": {
          "base_uri": "https://localhost:8080/"
        },
        "id": "Ge_ZuMDsgovM",
        "outputId": "b0161205-d759-4345-d6a3-cd90836d1dde"
      },
      "source": [
        "divmod(5,3)\r\n",
        "#몫과 나머지 한번에 구할 때"
      ],
      "execution_count": 107,
      "outputs": [
        {
          "output_type": "execute_result",
          "data": {
            "text/plain": [
              "(1, 2)"
            ]
          },
          "metadata": {
            "tags": []
          },
          "execution_count": 107
        }
      ]
    },
    {
      "cell_type": "markdown",
      "metadata": {
        "id": "jYFqRYKEgyTz"
      },
      "source": [
        "#print(p.87~88)"
      ]
    },
    {
      "cell_type": "code",
      "metadata": {
        "colab": {
          "base_uri": "https://localhost:8080/"
        },
        "id": "8Q--wZfwg4S9",
        "outputId": "6ce72da1-ae1a-4b30-ca10-8b974c2ad6fa"
      },
      "source": [
        "print('A1', 'B2')"
      ],
      "execution_count": 108,
      "outputs": [
        {
          "output_type": "stream",
          "text": [
            "A1 B2\n"
          ],
          "name": "stdout"
        }
      ]
    },
    {
      "cell_type": "code",
      "metadata": {
        "colab": {
          "base_uri": "https://localhost:8080/"
        },
        "id": "G9tYj5w3g-wx",
        "outputId": "189522d5-0926-4563-e50f-c6a084f106a6"
      },
      "source": [
        "print('A1', 'B2', sep = ',')"
      ],
      "execution_count": 109,
      "outputs": [
        {
          "output_type": "stream",
          "text": [
            "A1,B2\n"
          ],
          "name": "stdout"
        }
      ]
    },
    {
      "cell_type": "code",
      "metadata": {
        "colab": {
          "base_uri": "https://localhost:8080/"
        },
        "id": "lrBNd1iMg-0H",
        "outputId": "f70e6a6c-d691-4fad-9ba8-a31272e37a9e"
      },
      "source": [
        "print('aa', end = ' ')\r\n",
        "print('bb')"
      ],
      "execution_count": 114,
      "outputs": [
        {
          "output_type": "stream",
          "text": [
            "aa bb\n"
          ],
          "name": "stdout"
        }
      ]
    },
    {
      "cell_type": "code",
      "metadata": {
        "colab": {
          "base_uri": "https://localhost:8080/"
        },
        "id": "EspJS3Trg-7E",
        "outputId": "7d118a15-147b-41e4-a3ec-e27a1e896e22"
      },
      "source": [
        "a = ['A', 'B']\r\n",
        "print(' '.join(a))\r\n",
        "#리스트를 출력할 때는 join()으로 묶어서 처리함"
      ],
      "execution_count": 117,
      "outputs": [
        {
          "output_type": "stream",
          "text": [
            "A B\n"
          ],
          "name": "stdout"
        }
      ]
    },
    {
      "cell_type": "code",
      "metadata": {
        "colab": {
          "base_uri": "https://localhost:8080/"
        },
        "id": "DIIZ7WzWg_HE",
        "outputId": "72b9c394-8302-4183-aebc-ee4420168f75"
      },
      "source": [
        "idx = 1\r\n",
        "fruit = \"Apple\"\r\n",
        "print('{0}: {1}'.format(idx + 1, fruit))"
      ],
      "execution_count": 120,
      "outputs": [
        {
          "output_type": "stream",
          "text": [
            "2: Apple\n"
          ],
          "name": "stdout"
        }
      ]
    },
    {
      "cell_type": "code",
      "metadata": {
        "colab": {
          "base_uri": "https://localhost:8080/"
        },
        "id": "YVIb_xJGiUxS",
        "outputId": "bf0f86fc-5642-4240-cb60-1a49977359b8"
      },
      "source": [
        "print(f'{idx + 1}: {fruit}')"
      ],
      "execution_count": 121,
      "outputs": [
        {
          "output_type": "stream",
          "text": [
            "2: Apple\n"
          ],
          "name": "stdout"
        }
      ]
    },
    {
      "cell_type": "markdown",
      "metadata": {
        "id": "Dyi2rIaIi6R9"
      },
      "source": [
        "#pass(p.89)"
      ]
    },
    {
      "cell_type": "code",
      "metadata": {
        "colab": {
          "base_uri": "https://localhost:8080/",
          "height": 134
        },
        "id": "FVET7doZi3dP",
        "outputId": "0a8312db-13af-485b-c928-775ada7849bd"
      },
      "source": [
        "class MyClass(object):\r\n",
        "    def method_a(self):\r\n",
        "\r\n",
        "    def method_b(self):\r\n",
        "        print(\"Method B\")\r\n",
        "\r\n",
        "c = MyClass()\r\n",
        "\r\n",
        "#인덴트 오류 발생\r\n",
        "#method_a()가 아무런 처리를 하지 않았기 때문에 method_b()에서 오류 발생함"
      ],
      "execution_count": 122,
      "outputs": [
        {
          "output_type": "error",
          "ename": "IndentationError",
          "evalue": "ignored",
          "traceback": [
            "\u001b[0;36m  File \u001b[0;32m\"<ipython-input-122-3dc6be95ef7a>\"\u001b[0;36m, line \u001b[0;32m4\u001b[0m\n\u001b[0;31m    def method_b(self):\u001b[0m\n\u001b[0m      ^\u001b[0m\n\u001b[0;31mIndentationError\u001b[0m\u001b[0;31m:\u001b[0m expected an indented block\n"
          ]
        }
      ]
    },
    {
      "cell_type": "code",
      "metadata": {
        "id": "w--0MVl8j96I"
      },
      "source": [
        "class MyClass(object):\r\n",
        "    def method_a(self):\r\n",
        "        pass\r\n",
        "\r\n",
        "    def method_b(self):\r\n",
        "        print(\"Method B\")\r\n",
        "\r\n",
        "c = MyClass()\r\n",
        "\r\n",
        "#pass는 널 연산으로 아무것도 하지 않는 기능"
      ],
      "execution_count": 123,
      "outputs": []
    },
    {
      "cell_type": "markdown",
      "metadata": {
        "id": "Gm-Tu513kSH6"
      },
      "source": [
        "#locals(p.90)"
      ]
    },
    {
      "cell_type": "code",
      "metadata": {
        "colab": {
          "base_uri": "https://localhost:8080/"
        },
        "id": "2qrFq-a5kRZ7",
        "outputId": "a438d3c1-6d53-4b12-9092-d1935d10f73b"
      },
      "source": [
        "import pprint\r\n",
        "pprint.pprint(locals())\r\n",
        "\r\n",
        "#pprint로 출력하게 되면 보기 좋게 줄바꿈 처리를 해주기 때문에 가독성이 높음\r\n",
        "#클래스 메소드 내부의 모든 로컬 변수를 출력해주기 때문에 디버깅에 많은 도움이 됨"
      ],
      "execution_count": 125,
      "outputs": [
        {
          "output_type": "stream",
          "text": [
            "{'In': ['',\n",
            "        '#예시 #2\\nsum3 = sum(i for i in range(1, 10 + 1))\\nprint(sum3)',\n",
            "        '#예시 #3\\nsum4 = sum(range(1,10+1))\\nprint(sum4)',\n",
            "        'def are_equal(a,b):\\n  return a == b\\n\\nare_equal(10,100)',\n",
            "        'def are_equal(a,b):\\n  return a == b\\n\\nare_equal(10,10.0)',\n",
            "        'from typing import TypeVar',\n",
            "        \"from typing import TypeVar\\n\\nT = TypeVar('T')\\nU = TypeVar('U')\",\n",
            "        'from typing import TypeVar\\n'\n",
            "        '\\n'\n",
            "        \"T = TypeVar('T')\\n\"\n",
            "        \"U = TypeVar('U')\\n\"\n",
            "        '\\n'\n",
            "        'def are_equal(a: T, b: U) -> bool:\\n'\n",
            "        '   return a == b\\n'\n",
            "        '\\n'\n",
            "        'are_equal(10,10.0)',\n",
            "        \"foo = ['A', 'B', 'C']\\nfor f in foo:\\n   print(f)\",\n",
            "        'from collections import namedtuple',\n",
            "        'from collections import namedtuple\\n'\n",
            "        'MyStruct = namedtuple(\"MyStruct\", \"field1 field2 field3\")',\n",
            "        'from collections import namedtuple\\n'\n",
            "        'MyStruct = namedtuple(\"MyStruct\", \"field1 field2 field3\")\\n'\n",
            "        'm = MyStruct(\"foo\", \"bar\", \"baz\")',\n",
            "        'from dataclass import dataclass',\n",
            "        'from dataclasses import dataclass',\n",
            "        'from dataclasses import dataclass\\n\\n@dataclass',\n",
            "        'from dataclasses import dataclass\\n'\n",
            "        '\\n'\n",
            "        '@dataclass\\n'\n",
            "        'class Product:\\n'\n",
            "        '    weight: int = None\\n'\n",
            "        '    price: float = None',\n",
            "        'from dataclasses import dataclass\\n'\n",
            "        '\\n'\n",
            "        '@dataclass\\n'\n",
            "        'class Product:\\n'\n",
            "        '    weight: int = None\\n'\n",
            "        '    price: float = None\\n'\n",
            "        '\\n'\n",
            "        'apple = Product()\\n'\n",
            "        'apple.price = 10',\n",
            "        'from dataclasses import dataclass\\n'\n",
            "        '\\n'\n",
            "        '@dataclass\\n'\n",
            "        'class Product:\\n'\n",
            "        '    weight: int = None\\n'\n",
            "        '    price: float = None\\n'\n",
            "        '\\n'\n",
            "        'apple = Product()\\n'\n",
            "        'apple.price = 10\\n'\n",
            "        '\\n'\n",
            "        '#@dataclass 데코레이션 -> 파이썬 3.7기준 사용가능\\n'\n",
            "        '#초기함수 지원, 출력할 때도 읽기 쉬운 포맷으로 출력해줌',\n",
            "        'from dataclasses import dataclass',\n",
            "        'from dataclasses import dataclass\\n'\n",
            "        '\\n'\n",
            "        '@dataclassclass \\n'\n",
            "        'class Rectangle:\\n'\n",
            "        '    width: int\\n'\n",
            "        '    height:int',\n",
            "        'from dataclasses import dataclass\\n'\n",
            "        '\\n'\n",
            "        '@dataclass\\n'\n",
            "        'class Rectangle:\\n'\n",
            "        '    width: int\\n'\n",
            "        '    height:int',\n",
            "        'from dataclasses import dataclass\\n'\n",
            "        '\\n'\n",
            "        '@dataclass\\n'\n",
            "        'class Rectangle:\\n'\n",
            "        '    width: int\\n'\n",
            "        '    height:int\\n'\n",
            "        '\\n'\n",
            "        'def area(self):\\n'\n",
            "        '    return self.width * self.height\\n'\n",
            "        '\\n'\n",
            "        'rect = Rectangle(3,4)\\n'\n",
            "        'print(rect.area())',\n",
            "        'from dataclasses import dataclass\\n'\n",
            "        '\\n'\n",
            "        '@dataclass\\n'\n",
            "        'class Rectangle:\\n'\n",
            "        '    width: int\\n'\n",
            "        '    height:int\\n'\n",
            "        '\\n'\n",
            "        'def area(self):\\n'\n",
            "        '    return self.width * self.height\\n'\n",
            "        '\\n'\n",
            "        'rect = Rectangle(3,4)\\n'\n",
            "        'print(rect.area())',\n",
            "        'from dataclasses import dataclass\\n'\n",
            "        '\\n'\n",
            "        '@dataclass\\n'\n",
            "        'class Rectangle:\\n'\n",
            "        '    width: int\\n'\n",
            "        '    height:int\\n'\n",
            "        '\\n'\n",
            "        'def area(self):\\n'\n",
            "        '    return self.width * self.height\\n'\n",
            "        '\\n'\n",
            "        'rect = Rectangle(3,4)\\n'\n",
            "        'print(rect.area(self))',\n",
            "        'from dataclasses import dataclass\\n'\n",
            "        '\\n'\n",
            "        '@dataclass\\n'\n",
            "        'class Rectangle:\\n'\n",
            "        '    width: int\\n'\n",
            "        '    height:int\\n'\n",
            "        '\\n'\n",
            "        'def area(self):\\n'\n",
            "        '    return self.width * self.height\\n'\n",
            "        '\\n'\n",
            "        'rect = Rectangle(3,4)\\n'\n",
            "        'print(rect.area())',\n",
            "        'from dataclasses import dataclass\\n'\n",
            "        '\\n'\n",
            "        '@dataclass\\n'\n",
            "        'class Rectangle:\\n'\n",
            "        '    width: int\\n'\n",
            "        '    height: int\\n'\n",
            "        '\\n'\n",
            "        '    def area(self):\\n'\n",
            "        '        return self.width * self.height\\n'\n",
            "        '\\n'\n",
            "        'rect = Rectangle(3,4)\\n'\n",
            "        'print(rect.area())',\n",
            "        '#공백 4칸 원칙\\n'\n",
            "        'foo = long_function_name(var_one, var_two,\\n'\n",
            "        '                         var_three, var_four)\\n'\n",
            "        '\\n'\n",
            "        'def long_function_name(\\n'\n",
            "        '        var_one, var_two, var_three, \\n'\n",
            "        '        var_four):\\n'\n",
            "        '    print(var_one)',\n",
            "        '#공백 4칸 원칙\\n'\n",
            "        'foo = long_function_name(var_one, var_two,\\n'\n",
            "        '                         var_three, var_four)\\n'\n",
            "        '\\n'\n",
            "        'def long_function_name(\\n'\n",
            "        '        var_one, var_two, var_three, \\n'\n",
            "        '        var_four):\\n'\n",
            "        '    print(var_one)',\n",
            "        '#공백 4칸 원칙\\n'\n",
            "        'foo = long_function_name(var_one, var_two,\\n'\n",
            "        '                         var_three, var_four)',\n",
            "        '#공백 4칸 원칙\\n'\n",
            "        'foo = long_function_name(var_one, var_two,\\n'\n",
            "        '                         var_three, var_four)\\n'\n",
            "        'def long_function_name(\\n'\n",
            "        '        var_one, var_two, var_three, \\n'\n",
            "        '        var_four):\\n'\n",
            "        '    print(var_one)',\n",
            "        '#공백 4칸 원칙\\n'\n",
            "        '\\n'\n",
            "        'foo = long_function_name(var_one, var_two,\\n'\n",
            "        '                         var_three, var_four)\\n'\n",
            "        'def long_function_name(\\n'\n",
            "        '        var_one, var_two, var_three, \\n'\n",
            "        '        var_four):\\n'\n",
            "        '    print(var_one)',\n",
            "        '#공백 4칸 원칙\\n'\n",
            "        '\\n'\n",
            "        'foo = long_function_name(var_one, var_two, var_three, var_four)\\n'\n",
            "        'def long_function_name(\\n'\n",
            "        '        var_one, var_two, var_three, \\n'\n",
            "        '        var_four):\\n'\n",
            "        '    print(var_one)',\n",
            "        '#공백 4칸 원칙\\n'\n",
            "        '\\n'\n",
            "        'def long_function_name(\\n'\n",
            "        '        var_one, var_two, var_three, \\n'\n",
            "        '        var_four):\\n'\n",
            "        '    print(var_one)\\n'\n",
            "        '\\n'\n",
            "        '\\n'\n",
            "        'foo = long_function_name(var_one, var_two, \\n'\n",
            "        '                         var_three, var_four)',\n",
            "        '#공백 4칸 원칙\\n'\n",
            "        '\\n'\n",
            "        'foo = long_function_name(\\n'\n",
            "        '    var_one, var_two, \\n'\n",
            "        '    var_three, var_four)\\n'\n",
            "        '\\n'\n",
            "        'def long_function_name(\\n'\n",
            "        '        var_one, var_two, var_three, \\n'\n",
            "        '        var_four):\\n'\n",
            "        '    print(var_one)',\n",
            "        '#공백 4칸 원칙\\n'\n",
            "        '\\n'\n",
            "        'foo = long_function_name(var_one, var_two, \\n'\n",
            "        '                         var_three, var_four)\\n'\n",
            "        '\\n'\n",
            "        'def long_function_name(\\n'\n",
            "        '        var_one, var_two, var_three, \\n'\n",
            "        '        var_four):\\n'\n",
            "        '    print(var_one)',\n",
            "        '#공백 4칸 원칙\\n'\n",
            "        '\\n'\n",
            "        'foo = long_function_name(var_one, var_two, \\n'\n",
            "        '                         var_three, var_four)\\n'\n",
            "        '\\n'\n",
            "        'def long_function_name(\\n'\n",
            "        '        var_one, var_two, var_three, \\n'\n",
            "        '        var_four):\\n'\n",
            "        '    print(var_one)',\n",
            "        '#공백 4칸 원칙\\n'\n",
            "        '\\n'\n",
            "        'foo = long_function_name(var_one, var_two,\\n'\n",
            "        '                         var_three, var_four)\\n'\n",
            "        '\\n'\n",
            "        'def long_function_name(\\n'\n",
            "        '        var_one, var_two, var_three, \\n'\n",
            "        '        var_four):\\n'\n",
            "        '    print(var_one)',\n",
            "        '#공백 4칸 원칙\\n'\n",
            "        '\\n'\n",
            "        'foo = long_function_name(var_one, var_two,\\n'\n",
            "        '                         var_three, var_four)\\n'\n",
            "        '\\n'\n",
            "        'def long_function_name(\\n'\n",
            "        '        var_one, var_two, var_three, \\n'\n",
            "        '        var_four):\\n'\n",
            "        '    print(var_one)',\n",
            "        'foo = long_function_name(var_one, var_two,\\n'\n",
            "        '                         var_three, var_four)',\n",
            "        'foo = long_function_name(var_one, var_two,\\n'\n",
            "        '                         var_three, var_four)\\n'\n",
            "        '\\n'\n",
            "        'def long_function_name(\\n'\n",
            "        '        var_one, var_two, var_three,\\n'\n",
            "        '        var_four):',\n",
            "        'foo = long_function_name(var_one, var_two,\\n'\n",
            "        '                         var_three, var_four)\\n'\n",
            "        '\\n'\n",
            "        'def long_function_name(\\n'\n",
            "        '        var_one, var_two, var_three,\\n'\n",
            "        '        var_four):\\n'\n",
            "        '    print(var_one)',\n",
            "        '#공백 4칸 원칙\\n'\n",
            "        '\\n'\n",
            "        'foo = long_function_name(var_one, var_two,\\n'\n",
            "        '                         var_three, var_four)',\n",
            "        'def long_function_name(\\n'\n",
            "        '        var_one, var_two, var_three, \\n'\n",
            "        '        var_four):\\n'\n",
            "        '    print(var_one)',\n",
            "        'foo = long_function_name(\\n'\n",
            "        '    var_one, var_two,\\n'\n",
            "        '    var_three, var_four)',\n",
            "        \">>>> a: str = 1\\n>>>> type(a)\\n<class 'int'>\",\n",
            "        '$pip install mypy',\n",
            "        '>>>list(map(lambda x : x + 10, [1, 2, 3]))',\n",
            "        'list(map(lambda x : x + 10, [1, 2, 3]))',\n",
            "        '[n * 2 for n in range(1, 10 + 1) if n % 2 == 1]',\n",
            "        'a = []\\n'\n",
            "        'for n in range(1, 10 + 1):\\n'\n",
            "        '    if n % 2 == 1:\\n'\n",
            "        '        a.append(n * 2)',\n",
            "        'a = []\\n'\n",
            "        'for n in range(1, 10 + 1):\\n'\n",
            "        '    if n % 2 == 1:\\n'\n",
            "        '        a.append(n * 2)\\n'\n",
            "        '\\n'\n",
            "        'a',\n",
            "        'a = {}\\nfor key, value in original.items():\\n    a[key] = value',\n",
            "        'def get_natural_number():\\n'\n",
            "        '    n = 0\\n'\n",
            "        '    while True:\\n'\n",
            "        '        n += 1\\n'\n",
            "        '        yield n\\n'\n",
            "        '\\n'\n",
            "        'get_natural_number()',\n",
            "        'g = get_natural_number()\\nfor _ in range(0,100):\\n    print(next(g))',\n",
            "        'def generator():\\n'\n",
            "        '    yield 1\\n'\n",
            "        \"    yield 'string'\\n\"\n",
            "        '    yield True\\n'\n",
            "        'g = generator()\\n'\n",
            "        'g',\n",
            "        'next(g)',\n",
            "        'next(g)',\n",
            "        'next(g)',\n",
            "        'list(range(5))',\n",
            "        'range(0,5)',\n",
            "        'type(range(5))',\n",
            "        \"for i in range(5):\\n    print(i, end= '')\",\n",
            "        'len(a)',\n",
            "        'a = [n for n in range(1000000)]',\n",
            "        'len(a)',\n",
            "        'len(b)',\n",
            "        'a = [n for n in range(1000000)]\\nb = range(1000000)',\n",
            "        'len(b)',\n",
            "        'len(a == len(b))',\n",
            "        'len(a) == len(b)',\n",
            "        'b',\n",
            "        'type(b)',\n",
            "        'sys.getsizeof(a)',\n",
            "        'sys.getsizeof()',\n",
            "        'print(sys.getsizeof(a))',\n",
            "        'sys.getsizeof(a)',\n",
            "        'sys.getsizeof(b)',\n",
            "        'b[999]',\n",
            "        'list(range(5))',\n",
            "        'range(0,5)',\n",
            "        'type(range(5))',\n",
            "        \"for i in range(5):\\n    print(i, end= '')\",\n",
            "        'a = [n for n in range(1000000)] #이미 생성된 값이 담겨있음\\n'\n",
            "        'b = range(1000000) #생성해야 한다는 조건만 존재함',\n",
            "        'len(a)',\n",
            "        'len(b)',\n",
            "        'len(a) == len(b)',\n",
            "        'b',\n",
            "        'type(b)',\n",
            "        'sys.getsizeof(a)',\n",
            "        'sys.getsizeof(b)',\n",
            "        'b[999]',\n",
            "        'a = [1,2,3,2,45,2,5]\\na',\n",
            "        'enumerate(a)',\n",
            "        'list(enumerate(a))',\n",
            "        'for in in range(len(a)):\\n    print(i, a[i])',\n",
            "        'for i in range(len(a)):\\n    print(i, a[i])',\n",
            "        'i = 0\\nfor v in a:\\n    print(i, v)\\n    i += 1',\n",
            "        'for i, v iin enumerate(a):\\n    print(i, v)',\n",
            "        'for i, v in enumerate(a):\\n    print(i, v)',\n",
            "        '5/3',\n",
            "        'type(5/3)',\n",
            "        '5//33',\n",
            "        '5//3',\n",
            "        'type(5//3)',\n",
            "        'int(5/3)',\n",
            "        'type(int(5/3))',\n",
            "        '5%3',\n",
            "        'divmod(5,3)\\n#몫과 나머지 한번에 구할 때',\n",
            "        \"print('A1', 'B2')\",\n",
            "        \"print('A1', 'B2', sep = ',')\",\n",
            "        \"print('aa', end = '')\",\n",
            "        \"print('aa', end = '')\\nprint('bb')\",\n",
            "        \"print('aa', end = ',')\\nprint('bb')\",\n",
            "        \"print('aa', end = '')\\nprint('bb')\",\n",
            "        \"print('aa', end = ' ')\\nprint('bb')\",\n",
            "        \"a = ['A', 'B']\\nprint('', join(a))\",\n",
            "        \"a = ['A', 'B']\\nprint(' ', join(a))\",\n",
            "        \"a = ['A', 'B']\\nprint(' '.join(a))\",\n",
            "        'idx = 1\\nfruit = \"Apple\"',\n",
            "        'idx = 1\\nfruit = \"Apple\"\\nprint(\\'{0}: {1}.format(idx + 1, fruit\\')',\n",
            "        'idx = 1\\nfruit = \"Apple\"\\nprint(\\'{0}: {1}\\'.format(idx + 1, fruit))',\n",
            "        \"print(f'{idx + 1}: {fruit}')\",\n",
            "        'class MyClass(object):\\n'\n",
            "        '    def method_a(self):\\n'\n",
            "        '\\n'\n",
            "        '    def method_b(self):\\n'\n",
            "        '        print(\"Method B\")\\n'\n",
            "        '\\n'\n",
            "        'c = MyClass()',\n",
            "        'class MyClass(object):\\n'\n",
            "        '    def method_a(self):\\n'\n",
            "        '        pass\\n'\n",
            "        '\\n'\n",
            "        '    def method_b(self):\\n'\n",
            "        '        print(\"Method B\")\\n'\n",
            "        '\\n'\n",
            "        'c = MyClass()',\n",
            "        'import pprint',\n",
            "        'import pprint\\npprint.pprint(locals())'],\n",
            " 'MyClass': <class '__main__.MyClass'>,\n",
            " 'MyStruct': <class '__main__.MyStruct'>,\n",
            " 'Out': {3: False,\n",
            "         4: True,\n",
            "         7: True,\n",
            "         47: [11, 12, 13],\n",
            "         48: [2, 6, 10, 14, 18],\n",
            "         50: [2, 6, 10, 14, 18],\n",
            "         52: <generator object get_natural_number at 0x7f1dcdc3f7d0>,\n",
            "         54: <generator object generator at 0x7f1dcdc3fad0>,\n",
            "         55: 1,\n",
            "         56: 'string',\n",
            "         57: True,\n",
            "         58: [0, 1, 2, 3, 4],\n",
            "         59: range(0, 5),\n",
            "         60: <class 'range'>,\n",
            "         62: 0,\n",
            "         64: 1000000,\n",
            "         67: 1000000,\n",
            "         69: True,\n",
            "         70: range(0, 1000000),\n",
            "         71: <class 'range'>,\n",
            "         77: 999,\n",
            "         78: [0, 1, 2, 3, 4],\n",
            "         79: range(0, 5),\n",
            "         80: <class 'range'>,\n",
            "         83: 1000000,\n",
            "         84: 1000000,\n",
            "         85: True,\n",
            "         86: range(0, 1000000),\n",
            "         87: <class 'range'>,\n",
            "         90: 999,\n",
            "         91: [1, 2, 3, 2, 45, 2, 5],\n",
            "         92: <enumerate object at 0x7f1dcdc59410>,\n",
            "         93: [(0, 1), (1, 2), (2, 3), (3, 2), (4, 45), (5, 2), (6, 5)],\n",
            "         99: 1.6666666666666667,\n",
            "         100: <class 'float'>,\n",
            "         101: 0,\n",
            "         102: 1,\n",
            "         103: <class 'int'>,\n",
            "         104: 1,\n",
            "         105: <class 'int'>,\n",
            "         106: 2,\n",
            "         107: (1, 2)},\n",
            " 'Product': <class '__main__.Product'>,\n",
            " 'Rectangle': <class '__main__.Rectangle'>,\n",
            " 'T': ~T,\n",
            " 'TypeVar': <class 'typing.TypeVar'>,\n",
            " 'U': ~U,\n",
            " '_': (1, 2),\n",
            " '_100': <class 'float'>,\n",
            " '_101': 0,\n",
            " '_102': 1,\n",
            " '_103': <class 'int'>,\n",
            " '_104': 1,\n",
            " '_105': <class 'int'>,\n",
            " '_106': 2,\n",
            " '_107': (1, 2),\n",
            " '_3': False,\n",
            " '_4': True,\n",
            " '_47': [11, 12, 13],\n",
            " '_48': [2, 6, 10, 14, 18],\n",
            " '_50': [2, 6, 10, 14, 18],\n",
            " '_52': <generator object get_natural_number at 0x7f1dcdc3f7d0>,\n",
            " '_54': <generator object generator at 0x7f1dcdc3fad0>,\n",
            " '_55': 1,\n",
            " '_56': 'string',\n",
            " '_57': True,\n",
            " '_58': [0, 1, 2, 3, 4],\n",
            " '_59': range(0, 5),\n",
            " '_60': <class 'range'>,\n",
            " '_62': 0,\n",
            " '_64': 1000000,\n",
            " '_67': 1000000,\n",
            " '_69': True,\n",
            " '_7': True,\n",
            " '_70': range(0, 1000000),\n",
            " '_71': <class 'range'>,\n",
            " '_77': 999,\n",
            " '_78': [0, 1, 2, 3, 4],\n",
            " '_79': range(0, 5),\n",
            " '_80': <class 'range'>,\n",
            " '_83': 1000000,\n",
            " '_84': 1000000,\n",
            " '_85': True,\n",
            " '_86': range(0, 1000000),\n",
            " '_87': <class 'range'>,\n",
            " '_90': 999,\n",
            " '_91': [1, 2, 3, 2, 45, 2, 5],\n",
            " '_92': <enumerate object at 0x7f1dcdc59410>,\n",
            " '_93': [(0, 1), (1, 2), (2, 3), (3, 2), (4, 45), (5, 2), (6, 5)],\n",
            " '_99': 1.6666666666666667,\n",
            " '__': 2,\n",
            " '___': <class 'int'>,\n",
            " '__builtin__': <module 'builtins' (built-in)>,\n",
            " '__builtins__': <module 'builtins' (built-in)>,\n",
            " '__doc__': 'Automatically created module for IPython interactive environment',\n",
            " '__loader__': None,\n",
            " '__name__': '__main__',\n",
            " '__package__': None,\n",
            " '__spec__': None,\n",
            " '_dh': ['/content'],\n",
            " '_i': 'import pprint',\n",
            " '_i1': '#예시 #2\\nsum3 = sum(i for i in range(1, 10 + 1))\\nprint(sum3)',\n",
            " '_i10': 'from collections import namedtuple\\n'\n",
            "         'MyStruct = namedtuple(\"MyStruct\", \"field1 field2 field3\")',\n",
            " '_i100': 'type(5/3)',\n",
            " '_i101': '5//33',\n",
            " '_i102': '5//3',\n",
            " '_i103': 'type(5//3)',\n",
            " '_i104': 'int(5/3)',\n",
            " '_i105': 'type(int(5/3))',\n",
            " '_i106': '5%3',\n",
            " '_i107': 'divmod(5,3)\\n#몫과 나머지 한번에 구할 때',\n",
            " '_i108': \"print('A1', 'B2')\",\n",
            " '_i109': \"print('A1', 'B2', sep = ',')\",\n",
            " '_i11': 'from collections import namedtuple\\n'\n",
            "         'MyStruct = namedtuple(\"MyStruct\", \"field1 field2 field3\")\\n'\n",
            "         'm = MyStruct(\"foo\", \"bar\", \"baz\")',\n",
            " '_i110': \"print('aa', end = '')\",\n",
            " '_i111': \"print('aa', end = '')\\nprint('bb')\",\n",
            " '_i112': \"print('aa', end = ',')\\nprint('bb')\",\n",
            " '_i113': \"print('aa', end = '')\\nprint('bb')\",\n",
            " '_i114': \"print('aa', end = ' ')\\nprint('bb')\",\n",
            " '_i115': \"a = ['A', 'B']\\nprint('', join(a))\",\n",
            " '_i116': \"a = ['A', 'B']\\nprint(' ', join(a))\",\n",
            " '_i117': \"a = ['A', 'B']\\nprint(' '.join(a))\",\n",
            " '_i118': 'idx = 1\\nfruit = \"Apple\"',\n",
            " '_i119': 'idx = 1\\nfruit = \"Apple\"\\nprint(\\'{0}: {1}.format(idx + 1, fruit\\')',\n",
            " '_i12': 'from dataclass import dataclass',\n",
            " '_i120': 'idx = 1\\n'\n",
            "          'fruit = \"Apple\"\\n'\n",
            "          \"print('{0}: {1}'.format(idx + 1, fruit))\",\n",
            " '_i121': \"print(f'{idx + 1}: {fruit}')\",\n",
            " '_i122': 'class MyClass(object):\\n'\n",
            "          '    def method_a(self):\\n'\n",
            "          '\\n'\n",
            "          '    def method_b(self):\\n'\n",
            "          '        print(\"Method B\")\\n'\n",
            "          '\\n'\n",
            "          'c = MyClass()',\n",
            " '_i123': 'class MyClass(object):\\n'\n",
            "          '    def method_a(self):\\n'\n",
            "          '        pass\\n'\n",
            "          '\\n'\n",
            "          '    def method_b(self):\\n'\n",
            "          '        print(\"Method B\")\\n'\n",
            "          '\\n'\n",
            "          'c = MyClass()',\n",
            " '_i124': 'import pprint',\n",
            " '_i125': 'import pprint\\npprint.pprint(locals())',\n",
            " '_i13': 'from dataclasses import dataclass',\n",
            " '_i14': 'from dataclasses import dataclass\\n\\n@dataclass',\n",
            " '_i15': 'from dataclasses import dataclass\\n'\n",
            "         '\\n'\n",
            "         '@dataclass\\n'\n",
            "         'class Product:\\n'\n",
            "         '    weight: int = None\\n'\n",
            "         '    price: float = None',\n",
            " '_i16': 'from dataclasses import dataclass\\n'\n",
            "         '\\n'\n",
            "         '@dataclass\\n'\n",
            "         'class Product:\\n'\n",
            "         '    weight: int = None\\n'\n",
            "         '    price: float = None\\n'\n",
            "         '\\n'\n",
            "         'apple = Product()\\n'\n",
            "         'apple.price = 10',\n",
            " '_i17': 'from dataclasses import dataclass\\n'\n",
            "         '\\n'\n",
            "         '@dataclass\\n'\n",
            "         'class Product:\\n'\n",
            "         '    weight: int = None\\n'\n",
            "         '    price: float = None\\n'\n",
            "         '\\n'\n",
            "         'apple = Product()\\n'\n",
            "         'apple.price = 10\\n'\n",
            "         '\\n'\n",
            "         '#@dataclass 데코레이션 -> 파이썬 3.7기준 사용가능\\n'\n",
            "         '#초기함수 지원, 출력할 때도 읽기 쉬운 포맷으로 출력해줌',\n",
            " '_i18': 'from dataclasses import dataclass',\n",
            " '_i19': 'from dataclasses import dataclass\\n'\n",
            "         '\\n'\n",
            "         '@dataclassclass \\n'\n",
            "         'class Rectangle:\\n'\n",
            "         '    width: int\\n'\n",
            "         '    height:int',\n",
            " '_i2': '#예시 #3\\nsum4 = sum(range(1,10+1))\\nprint(sum4)',\n",
            " '_i20': 'from dataclasses import dataclass\\n'\n",
            "         '\\n'\n",
            "         '@dataclass\\n'\n",
            "         'class Rectangle:\\n'\n",
            "         '    width: int\\n'\n",
            "         '    height:int',\n",
            " '_i21': 'from dataclasses import dataclass\\n'\n",
            "         '\\n'\n",
            "         '@dataclass\\n'\n",
            "         'class Rectangle:\\n'\n",
            "         '    width: int\\n'\n",
            "         '    height:int\\n'\n",
            "         '\\n'\n",
            "         'def area(self):\\n'\n",
            "         '    return self.width * self.height\\n'\n",
            "         '\\n'\n",
            "         'rect = Rectangle(3,4)\\n'\n",
            "         'print(rect.area())',\n",
            " '_i22': 'from dataclasses import dataclass\\n'\n",
            "         '\\n'\n",
            "         '@dataclass\\n'\n",
            "         'class Rectangle:\\n'\n",
            "         '    width: int\\n'\n",
            "         '    height:int\\n'\n",
            "         '\\n'\n",
            "         'def area(self):\\n'\n",
            "         '    return self.width * self.height\\n'\n",
            "         '\\n'\n",
            "         'rect = Rectangle(3,4)\\n'\n",
            "         'print(rect.area())',\n",
            " '_i23': 'from dataclasses import dataclass\\n'\n",
            "         '\\n'\n",
            "         '@dataclass\\n'\n",
            "         'class Rectangle:\\n'\n",
            "         '    width: int\\n'\n",
            "         '    height:int\\n'\n",
            "         '\\n'\n",
            "         'def area(self):\\n'\n",
            "         '    return self.width * self.height\\n'\n",
            "         '\\n'\n",
            "         'rect = Rectangle(3,4)\\n'\n",
            "         'print(rect.area(self))',\n",
            " '_i24': 'from dataclasses import dataclass\\n'\n",
            "         '\\n'\n",
            "         '@dataclass\\n'\n",
            "         'class Rectangle:\\n'\n",
            "         '    width: int\\n'\n",
            "         '    height:int\\n'\n",
            "         '\\n'\n",
            "         'def area(self):\\n'\n",
            "         '    return self.width * self.height\\n'\n",
            "         '\\n'\n",
            "         'rect = Rectangle(3,4)\\n'\n",
            "         'print(rect.area())',\n",
            " '_i25': 'from dataclasses import dataclass\\n'\n",
            "         '\\n'\n",
            "         '@dataclass\\n'\n",
            "         'class Rectangle:\\n'\n",
            "         '    width: int\\n'\n",
            "         '    height: int\\n'\n",
            "         '\\n'\n",
            "         '    def area(self):\\n'\n",
            "         '        return self.width * self.height\\n'\n",
            "         '\\n'\n",
            "         'rect = Rectangle(3,4)\\n'\n",
            "         'print(rect.area())',\n",
            " '_i26': '#공백 4칸 원칙\\n'\n",
            "         'foo = long_function_name(var_one, var_two,\\n'\n",
            "         '                         var_three, var_four)\\n'\n",
            "         '\\n'\n",
            "         'def long_function_name(\\n'\n",
            "         '        var_one, var_two, var_three, \\n'\n",
            "         '        var_four):\\n'\n",
            "         '    print(var_one)',\n",
            " '_i27': '#공백 4칸 원칙\\n'\n",
            "         'foo = long_function_name(var_one, var_two,\\n'\n",
            "         '                         var_three, var_four)\\n'\n",
            "         '\\n'\n",
            "         'def long_function_name(\\n'\n",
            "         '        var_one, var_two, var_three, \\n'\n",
            "         '        var_four):\\n'\n",
            "         '    print(var_one)',\n",
            " '_i28': '#공백 4칸 원칙\\n'\n",
            "         'foo = long_function_name(var_one, var_two,\\n'\n",
            "         '                         var_three, var_four)',\n",
            " '_i29': '#공백 4칸 원칙\\n'\n",
            "         'foo = long_function_name(var_one, var_two,\\n'\n",
            "         '                         var_three, var_four)\\n'\n",
            "         'def long_function_name(\\n'\n",
            "         '        var_one, var_two, var_three, \\n'\n",
            "         '        var_four):\\n'\n",
            "         '    print(var_one)',\n",
            " '_i3': 'def are_equal(a,b):\\n  return a == b\\n\\nare_equal(10,100)',\n",
            " '_i30': '#공백 4칸 원칙\\n'\n",
            "         '\\n'\n",
            "         'foo = long_function_name(var_one, var_two,\\n'\n",
            "         '                         var_three, var_four)\\n'\n",
            "         'def long_function_name(\\n'\n",
            "         '        var_one, var_two, var_three, \\n'\n",
            "         '        var_four):\\n'\n",
            "         '    print(var_one)',\n",
            " '_i31': '#공백 4칸 원칙\\n'\n",
            "         '\\n'\n",
            "         'foo = long_function_name(var_one, var_two, var_three, var_four)\\n'\n",
            "         'def long_function_name(\\n'\n",
            "         '        var_one, var_two, var_three, \\n'\n",
            "         '        var_four):\\n'\n",
            "         '    print(var_one)',\n",
            " '_i32': '#공백 4칸 원칙\\n'\n",
            "         '\\n'\n",
            "         'def long_function_name(\\n'\n",
            "         '        var_one, var_two, var_three, \\n'\n",
            "         '        var_four):\\n'\n",
            "         '    print(var_one)\\n'\n",
            "         '\\n'\n",
            "         '\\n'\n",
            "         'foo = long_function_name(var_one, var_two, \\n'\n",
            "         '                         var_three, var_four)',\n",
            " '_i33': '#공백 4칸 원칙\\n'\n",
            "         '\\n'\n",
            "         'foo = long_function_name(\\n'\n",
            "         '    var_one, var_two, \\n'\n",
            "         '    var_three, var_four)\\n'\n",
            "         '\\n'\n",
            "         'def long_function_name(\\n'\n",
            "         '        var_one, var_two, var_three, \\n'\n",
            "         '        var_four):\\n'\n",
            "         '    print(var_one)',\n",
            " '_i34': '#공백 4칸 원칙\\n'\n",
            "         '\\n'\n",
            "         'foo = long_function_name(var_one, var_two, \\n'\n",
            "         '                         var_three, var_four)\\n'\n",
            "         '\\n'\n",
            "         'def long_function_name(\\n'\n",
            "         '        var_one, var_two, var_three, \\n'\n",
            "         '        var_four):\\n'\n",
            "         '    print(var_one)',\n",
            " '_i35': '#공백 4칸 원칙\\n'\n",
            "         '\\n'\n",
            "         'foo = long_function_name(var_one, var_two, \\n'\n",
            "         '                         var_three, var_four)\\n'\n",
            "         '\\n'\n",
            "         'def long_function_name(\\n'\n",
            "         '        var_one, var_two, var_three, \\n'\n",
            "         '        var_four):\\n'\n",
            "         '    print(var_one)',\n",
            " '_i36': '#공백 4칸 원칙\\n'\n",
            "         '\\n'\n",
            "         'foo = long_function_name(var_one, var_two,\\n'\n",
            "         '                         var_three, var_four)\\n'\n",
            "         '\\n'\n",
            "         'def long_function_name(\\n'\n",
            "         '        var_one, var_two, var_three, \\n'\n",
            "         '        var_four):\\n'\n",
            "         '    print(var_one)',\n",
            " '_i37': '#공백 4칸 원칙\\n'\n",
            "         '\\n'\n",
            "         'foo = long_function_name(var_one, var_two,\\n'\n",
            "         '                         var_three, var_four)\\n'\n",
            "         '\\n'\n",
            "         'def long_function_name(\\n'\n",
            "         '        var_one, var_two, var_three, \\n'\n",
            "         '        var_four):\\n'\n",
            "         '    print(var_one)',\n",
            " '_i38': 'foo = long_function_name(var_one, var_two,\\n'\n",
            "         '                         var_three, var_four)',\n",
            " '_i39': 'foo = long_function_name(var_one, var_two,\\n'\n",
            "         '                         var_three, var_four)\\n'\n",
            "         '\\n'\n",
            "         'def long_function_name(\\n'\n",
            "         '        var_one, var_two, var_three,\\n'\n",
            "         '        var_four):',\n",
            " '_i4': 'def are_equal(a,b):\\n  return a == b\\n\\nare_equal(10,10.0)',\n",
            " '_i40': 'foo = long_function_name(var_one, var_two,\\n'\n",
            "         '                         var_three, var_four)\\n'\n",
            "         '\\n'\n",
            "         'def long_function_name(\\n'\n",
            "         '        var_one, var_two, var_three,\\n'\n",
            "         '        var_four):\\n'\n",
            "         '    print(var_one)',\n",
            " '_i41': '#공백 4칸 원칙\\n'\n",
            "         '\\n'\n",
            "         'foo = long_function_name(var_one, var_two,\\n'\n",
            "         '                         var_three, var_four)',\n",
            " '_i42': 'def long_function_name(\\n'\n",
            "         '        var_one, var_two, var_three, \\n'\n",
            "         '        var_four):\\n'\n",
            "         '    print(var_one)',\n",
            " '_i43': 'foo = long_function_name(\\n'\n",
            "         '    var_one, var_two,\\n'\n",
            "         '    var_three, var_four)',\n",
            " '_i44': \">>>> a: str = 1\\n>>>> type(a)\\n<class 'int'>\",\n",
            " '_i45': '$pip install mypy',\n",
            " '_i46': '>>>list(map(lambda x : x + 10, [1, 2, 3]))',\n",
            " '_i47': 'list(map(lambda x : x + 10, [1, 2, 3]))',\n",
            " '_i48': '[n * 2 for n in range(1, 10 + 1) if n % 2 == 1]',\n",
            " '_i49': 'a = []\\n'\n",
            "         'for n in range(1, 10 + 1):\\n'\n",
            "         '    if n % 2 == 1:\\n'\n",
            "         '        a.append(n * 2)',\n",
            " '_i5': 'from typing import TypeVar',\n",
            " '_i50': 'a = []\\n'\n",
            "         'for n in range(1, 10 + 1):\\n'\n",
            "         '    if n % 2 == 1:\\n'\n",
            "         '        a.append(n * 2)\\n'\n",
            "         '\\n'\n",
            "         'a',\n",
            " '_i51': 'a = {}\\nfor key, value in original.items():\\n    a[key] = value',\n",
            " '_i52': 'def get_natural_number():\\n'\n",
            "         '    n = 0\\n'\n",
            "         '    while True:\\n'\n",
            "         '        n += 1\\n'\n",
            "         '        yield n\\n'\n",
            "         '\\n'\n",
            "         'get_natural_number()',\n",
            " '_i53': 'g = get_natural_number()\\nfor _ in range(0,100):\\n    print(next(g))',\n",
            " '_i54': 'def generator():\\n'\n",
            "         '    yield 1\\n'\n",
            "         \"    yield 'string'\\n\"\n",
            "         '    yield True\\n'\n",
            "         'g = generator()\\n'\n",
            "         'g',\n",
            " '_i55': 'next(g)',\n",
            " '_i56': 'next(g)',\n",
            " '_i57': 'next(g)',\n",
            " '_i58': 'list(range(5))',\n",
            " '_i59': 'range(0,5)',\n",
            " '_i6': \"from typing import TypeVar\\n\\nT = TypeVar('T')\\nU = TypeVar('U')\",\n",
            " '_i60': 'type(range(5))',\n",
            " '_i61': \"for i in range(5):\\n    print(i, end= '')\",\n",
            " '_i62': 'len(a)',\n",
            " '_i63': 'a = [n for n in range(1000000)]',\n",
            " '_i64': 'len(a)',\n",
            " '_i65': 'len(b)',\n",
            " '_i66': 'a = [n for n in range(1000000)]\\nb = range(1000000)',\n",
            " '_i67': 'len(b)',\n",
            " '_i68': 'len(a == len(b))',\n",
            " '_i69': 'len(a) == len(b)',\n",
            " '_i7': 'from typing import TypeVar\\n'\n",
            "        '\\n'\n",
            "        \"T = TypeVar('T')\\n\"\n",
            "        \"U = TypeVar('U')\\n\"\n",
            "        '\\n'\n",
            "        'def are_equal(a: T, b: U) -> bool:\\n'\n",
            "        '   return a == b\\n'\n",
            "        '\\n'\n",
            "        'are_equal(10,10.0)',\n",
            " '_i70': 'b',\n",
            " '_i71': 'type(b)',\n",
            " '_i72': 'sys.getsizeof(a)',\n",
            " '_i73': 'sys.getsizeof()',\n",
            " '_i74': 'print(sys.getsizeof(a))',\n",
            " '_i75': 'sys.getsizeof(a)',\n",
            " '_i76': 'sys.getsizeof(b)',\n",
            " '_i77': 'b[999]',\n",
            " '_i78': 'list(range(5))',\n",
            " '_i79': 'range(0,5)',\n",
            " '_i8': \"foo = ['A', 'B', 'C']\\nfor f in foo:\\n   print(f)\",\n",
            " '_i80': 'type(range(5))',\n",
            " '_i81': \"for i in range(5):\\n    print(i, end= '')\",\n",
            " '_i82': 'a = [n for n in range(1000000)] #이미 생성된 값이 담겨있음\\n'\n",
            "         'b = range(1000000) #생성해야 한다는 조건만 존재함',\n",
            " '_i83': 'len(a)',\n",
            " '_i84': 'len(b)',\n",
            " '_i85': 'len(a) == len(b)',\n",
            " '_i86': 'b',\n",
            " '_i87': 'type(b)',\n",
            " '_i88': 'sys.getsizeof(a)',\n",
            " '_i89': 'sys.getsizeof(b)',\n",
            " '_i9': 'from collections import namedtuple',\n",
            " '_i90': 'b[999]',\n",
            " '_i91': 'a = [1,2,3,2,45,2,5]\\na',\n",
            " '_i92': 'enumerate(a)',\n",
            " '_i93': 'list(enumerate(a))',\n",
            " '_i94': 'for in in range(len(a)):\\n    print(i, a[i])',\n",
            " '_i95': 'for i in range(len(a)):\\n    print(i, a[i])',\n",
            " '_i96': 'i = 0\\nfor v in a:\\n    print(i, v)\\n    i += 1',\n",
            " '_i97': 'for i, v iin enumerate(a):\\n    print(i, v)',\n",
            " '_i98': 'for i, v in enumerate(a):\\n    print(i, v)',\n",
            " '_i99': '5/3',\n",
            " '_ih': ['',\n",
            "         '#예시 #2\\nsum3 = sum(i for i in range(1, 10 + 1))\\nprint(sum3)',\n",
            "         '#예시 #3\\nsum4 = sum(range(1,10+1))\\nprint(sum4)',\n",
            "         'def are_equal(a,b):\\n  return a == b\\n\\nare_equal(10,100)',\n",
            "         'def are_equal(a,b):\\n  return a == b\\n\\nare_equal(10,10.0)',\n",
            "         'from typing import TypeVar',\n",
            "         \"from typing import TypeVar\\n\\nT = TypeVar('T')\\nU = TypeVar('U')\",\n",
            "         'from typing import TypeVar\\n'\n",
            "         '\\n'\n",
            "         \"T = TypeVar('T')\\n\"\n",
            "         \"U = TypeVar('U')\\n\"\n",
            "         '\\n'\n",
            "         'def are_equal(a: T, b: U) -> bool:\\n'\n",
            "         '   return a == b\\n'\n",
            "         '\\n'\n",
            "         'are_equal(10,10.0)',\n",
            "         \"foo = ['A', 'B', 'C']\\nfor f in foo:\\n   print(f)\",\n",
            "         'from collections import namedtuple',\n",
            "         'from collections import namedtuple\\n'\n",
            "         'MyStruct = namedtuple(\"MyStruct\", \"field1 field2 field3\")',\n",
            "         'from collections import namedtuple\\n'\n",
            "         'MyStruct = namedtuple(\"MyStruct\", \"field1 field2 field3\")\\n'\n",
            "         'm = MyStruct(\"foo\", \"bar\", \"baz\")',\n",
            "         'from dataclass import dataclass',\n",
            "         'from dataclasses import dataclass',\n",
            "         'from dataclasses import dataclass\\n\\n@dataclass',\n",
            "         'from dataclasses import dataclass\\n'\n",
            "         '\\n'\n",
            "         '@dataclass\\n'\n",
            "         'class Product:\\n'\n",
            "         '    weight: int = None\\n'\n",
            "         '    price: float = None',\n",
            "         'from dataclasses import dataclass\\n'\n",
            "         '\\n'\n",
            "         '@dataclass\\n'\n",
            "         'class Product:\\n'\n",
            "         '    weight: int = None\\n'\n",
            "         '    price: float = None\\n'\n",
            "         '\\n'\n",
            "         'apple = Product()\\n'\n",
            "         'apple.price = 10',\n",
            "         'from dataclasses import dataclass\\n'\n",
            "         '\\n'\n",
            "         '@dataclass\\n'\n",
            "         'class Product:\\n'\n",
            "         '    weight: int = None\\n'\n",
            "         '    price: float = None\\n'\n",
            "         '\\n'\n",
            "         'apple = Product()\\n'\n",
            "         'apple.price = 10\\n'\n",
            "         '\\n'\n",
            "         '#@dataclass 데코레이션 -> 파이썬 3.7기준 사용가능\\n'\n",
            "         '#초기함수 지원, 출력할 때도 읽기 쉬운 포맷으로 출력해줌',\n",
            "         'from dataclasses import dataclass',\n",
            "         'from dataclasses import dataclass\\n'\n",
            "         '\\n'\n",
            "         '@dataclassclass \\n'\n",
            "         'class Rectangle:\\n'\n",
            "         '    width: int\\n'\n",
            "         '    height:int',\n",
            "         'from dataclasses import dataclass\\n'\n",
            "         '\\n'\n",
            "         '@dataclass\\n'\n",
            "         'class Rectangle:\\n'\n",
            "         '    width: int\\n'\n",
            "         '    height:int',\n",
            "         'from dataclasses import dataclass\\n'\n",
            "         '\\n'\n",
            "         '@dataclass\\n'\n",
            "         'class Rectangle:\\n'\n",
            "         '    width: int\\n'\n",
            "         '    height:int\\n'\n",
            "         '\\n'\n",
            "         'def area(self):\\n'\n",
            "         '    return self.width * self.height\\n'\n",
            "         '\\n'\n",
            "         'rect = Rectangle(3,4)\\n'\n",
            "         'print(rect.area())',\n",
            "         'from dataclasses import dataclass\\n'\n",
            "         '\\n'\n",
            "         '@dataclass\\n'\n",
            "         'class Rectangle:\\n'\n",
            "         '    width: int\\n'\n",
            "         '    height:int\\n'\n",
            "         '\\n'\n",
            "         'def area(self):\\n'\n",
            "         '    return self.width * self.height\\n'\n",
            "         '\\n'\n",
            "         'rect = Rectangle(3,4)\\n'\n",
            "         'print(rect.area())',\n",
            "         'from dataclasses import dataclass\\n'\n",
            "         '\\n'\n",
            "         '@dataclass\\n'\n",
            "         'class Rectangle:\\n'\n",
            "         '    width: int\\n'\n",
            "         '    height:int\\n'\n",
            "         '\\n'\n",
            "         'def area(self):\\n'\n",
            "         '    return self.width * self.height\\n'\n",
            "         '\\n'\n",
            "         'rect = Rectangle(3,4)\\n'\n",
            "         'print(rect.area(self))',\n",
            "         'from dataclasses import dataclass\\n'\n",
            "         '\\n'\n",
            "         '@dataclass\\n'\n",
            "         'class Rectangle:\\n'\n",
            "         '    width: int\\n'\n",
            "         '    height:int\\n'\n",
            "         '\\n'\n",
            "         'def area(self):\\n'\n",
            "         '    return self.width * self.height\\n'\n",
            "         '\\n'\n",
            "         'rect = Rectangle(3,4)\\n'\n",
            "         'print(rect.area())',\n",
            "         'from dataclasses import dataclass\\n'\n",
            "         '\\n'\n",
            "         '@dataclass\\n'\n",
            "         'class Rectangle:\\n'\n",
            "         '    width: int\\n'\n",
            "         '    height: int\\n'\n",
            "         '\\n'\n",
            "         '    def area(self):\\n'\n",
            "         '        return self.width * self.height\\n'\n",
            "         '\\n'\n",
            "         'rect = Rectangle(3,4)\\n'\n",
            "         'print(rect.area())',\n",
            "         '#공백 4칸 원칙\\n'\n",
            "         'foo = long_function_name(var_one, var_two,\\n'\n",
            "         '                         var_three, var_four)\\n'\n",
            "         '\\n'\n",
            "         'def long_function_name(\\n'\n",
            "         '        var_one, var_two, var_three, \\n'\n",
            "         '        var_four):\\n'\n",
            "         '    print(var_one)',\n",
            "         '#공백 4칸 원칙\\n'\n",
            "         'foo = long_function_name(var_one, var_two,\\n'\n",
            "         '                         var_three, var_four)\\n'\n",
            "         '\\n'\n",
            "         'def long_function_name(\\n'\n",
            "         '        var_one, var_two, var_three, \\n'\n",
            "         '        var_four):\\n'\n",
            "         '    print(var_one)',\n",
            "         '#공백 4칸 원칙\\n'\n",
            "         'foo = long_function_name(var_one, var_two,\\n'\n",
            "         '                         var_three, var_four)',\n",
            "         '#공백 4칸 원칙\\n'\n",
            "         'foo = long_function_name(var_one, var_two,\\n'\n",
            "         '                         var_three, var_four)\\n'\n",
            "         'def long_function_name(\\n'\n",
            "         '        var_one, var_two, var_three, \\n'\n",
            "         '        var_four):\\n'\n",
            "         '    print(var_one)',\n",
            "         '#공백 4칸 원칙\\n'\n",
            "         '\\n'\n",
            "         'foo = long_function_name(var_one, var_two,\\n'\n",
            "         '                         var_three, var_four)\\n'\n",
            "         'def long_function_name(\\n'\n",
            "         '        var_one, var_two, var_three, \\n'\n",
            "         '        var_four):\\n'\n",
            "         '    print(var_one)',\n",
            "         '#공백 4칸 원칙\\n'\n",
            "         '\\n'\n",
            "         'foo = long_function_name(var_one, var_two, var_three, var_four)\\n'\n",
            "         'def long_function_name(\\n'\n",
            "         '        var_one, var_two, var_three, \\n'\n",
            "         '        var_four):\\n'\n",
            "         '    print(var_one)',\n",
            "         '#공백 4칸 원칙\\n'\n",
            "         '\\n'\n",
            "         'def long_function_name(\\n'\n",
            "         '        var_one, var_two, var_three, \\n'\n",
            "         '        var_four):\\n'\n",
            "         '    print(var_one)\\n'\n",
            "         '\\n'\n",
            "         '\\n'\n",
            "         'foo = long_function_name(var_one, var_two, \\n'\n",
            "         '                         var_three, var_four)',\n",
            "         '#공백 4칸 원칙\\n'\n",
            "         '\\n'\n",
            "         'foo = long_function_name(\\n'\n",
            "         '    var_one, var_two, \\n'\n",
            "         '    var_three, var_four)\\n'\n",
            "         '\\n'\n",
            "         'def long_function_name(\\n'\n",
            "         '        var_one, var_two, var_three, \\n'\n",
            "         '        var_four):\\n'\n",
            "         '    print(var_one)',\n",
            "         '#공백 4칸 원칙\\n'\n",
            "         '\\n'\n",
            "         'foo = long_function_name(var_one, var_two, \\n'\n",
            "         '                         var_three, var_four)\\n'\n",
            "         '\\n'\n",
            "         'def long_function_name(\\n'\n",
            "         '        var_one, var_two, var_three, \\n'\n",
            "         '        var_four):\\n'\n",
            "         '    print(var_one)',\n",
            "         '#공백 4칸 원칙\\n'\n",
            "         '\\n'\n",
            "         'foo = long_function_name(var_one, var_two, \\n'\n",
            "         '                         var_three, var_four)\\n'\n",
            "         '\\n'\n",
            "         'def long_function_name(\\n'\n",
            "         '        var_one, var_two, var_three, \\n'\n",
            "         '        var_four):\\n'\n",
            "         '    print(var_one)',\n",
            "         '#공백 4칸 원칙\\n'\n",
            "         '\\n'\n",
            "         'foo = long_function_name(var_one, var_two,\\n'\n",
            "         '                         var_three, var_four)\\n'\n",
            "         '\\n'\n",
            "         'def long_function_name(\\n'\n",
            "         '        var_one, var_two, var_three, \\n'\n",
            "         '        var_four):\\n'\n",
            "         '    print(var_one)',\n",
            "         '#공백 4칸 원칙\\n'\n",
            "         '\\n'\n",
            "         'foo = long_function_name(var_one, var_two,\\n'\n",
            "         '                         var_three, var_four)\\n'\n",
            "         '\\n'\n",
            "         'def long_function_name(\\n'\n",
            "         '        var_one, var_two, var_three, \\n'\n",
            "         '        var_four):\\n'\n",
            "         '    print(var_one)',\n",
            "         'foo = long_function_name(var_one, var_two,\\n'\n",
            "         '                         var_three, var_four)',\n",
            "         'foo = long_function_name(var_one, var_two,\\n'\n",
            "         '                         var_three, var_four)\\n'\n",
            "         '\\n'\n",
            "         'def long_function_name(\\n'\n",
            "         '        var_one, var_two, var_three,\\n'\n",
            "         '        var_four):',\n",
            "         'foo = long_function_name(var_one, var_two,\\n'\n",
            "         '                         var_three, var_four)\\n'\n",
            "         '\\n'\n",
            "         'def long_function_name(\\n'\n",
            "         '        var_one, var_two, var_three,\\n'\n",
            "         '        var_four):\\n'\n",
            "         '    print(var_one)',\n",
            "         '#공백 4칸 원칙\\n'\n",
            "         '\\n'\n",
            "         'foo = long_function_name(var_one, var_two,\\n'\n",
            "         '                         var_three, var_four)',\n",
            "         'def long_function_name(\\n'\n",
            "         '        var_one, var_two, var_three, \\n'\n",
            "         '        var_four):\\n'\n",
            "         '    print(var_one)',\n",
            "         'foo = long_function_name(\\n'\n",
            "         '    var_one, var_two,\\n'\n",
            "         '    var_three, var_four)',\n",
            "         \">>>> a: str = 1\\n>>>> type(a)\\n<class 'int'>\",\n",
            "         '$pip install mypy',\n",
            "         '>>>list(map(lambda x : x + 10, [1, 2, 3]))',\n",
            "         'list(map(lambda x : x + 10, [1, 2, 3]))',\n",
            "         '[n * 2 for n in range(1, 10 + 1) if n % 2 == 1]',\n",
            "         'a = []\\n'\n",
            "         'for n in range(1, 10 + 1):\\n'\n",
            "         '    if n % 2 == 1:\\n'\n",
            "         '        a.append(n * 2)',\n",
            "         'a = []\\n'\n",
            "         'for n in range(1, 10 + 1):\\n'\n",
            "         '    if n % 2 == 1:\\n'\n",
            "         '        a.append(n * 2)\\n'\n",
            "         '\\n'\n",
            "         'a',\n",
            "         'a = {}\\nfor key, value in original.items():\\n    a[key] = value',\n",
            "         'def get_natural_number():\\n'\n",
            "         '    n = 0\\n'\n",
            "         '    while True:\\n'\n",
            "         '        n += 1\\n'\n",
            "         '        yield n\\n'\n",
            "         '\\n'\n",
            "         'get_natural_number()',\n",
            "         'g = get_natural_number()\\nfor _ in range(0,100):\\n    print(next(g))',\n",
            "         'def generator():\\n'\n",
            "         '    yield 1\\n'\n",
            "         \"    yield 'string'\\n\"\n",
            "         '    yield True\\n'\n",
            "         'g = generator()\\n'\n",
            "         'g',\n",
            "         'next(g)',\n",
            "         'next(g)',\n",
            "         'next(g)',\n",
            "         'list(range(5))',\n",
            "         'range(0,5)',\n",
            "         'type(range(5))',\n",
            "         \"for i in range(5):\\n    print(i, end= '')\",\n",
            "         'len(a)',\n",
            "         'a = [n for n in range(1000000)]',\n",
            "         'len(a)',\n",
            "         'len(b)',\n",
            "         'a = [n for n in range(1000000)]\\nb = range(1000000)',\n",
            "         'len(b)',\n",
            "         'len(a == len(b))',\n",
            "         'len(a) == len(b)',\n",
            "         'b',\n",
            "         'type(b)',\n",
            "         'sys.getsizeof(a)',\n",
            "         'sys.getsizeof()',\n",
            "         'print(sys.getsizeof(a))',\n",
            "         'sys.getsizeof(a)',\n",
            "         'sys.getsizeof(b)',\n",
            "         'b[999]',\n",
            "         'list(range(5))',\n",
            "         'range(0,5)',\n",
            "         'type(range(5))',\n",
            "         \"for i in range(5):\\n    print(i, end= '')\",\n",
            "         'a = [n for n in range(1000000)] #이미 생성된 값이 담겨있음\\n'\n",
            "         'b = range(1000000) #생성해야 한다는 조건만 존재함',\n",
            "         'len(a)',\n",
            "         'len(b)',\n",
            "         'len(a) == len(b)',\n",
            "         'b',\n",
            "         'type(b)',\n",
            "         'sys.getsizeof(a)',\n",
            "         'sys.getsizeof(b)',\n",
            "         'b[999]',\n",
            "         'a = [1,2,3,2,45,2,5]\\na',\n",
            "         'enumerate(a)',\n",
            "         'list(enumerate(a))',\n",
            "         'for in in range(len(a)):\\n    print(i, a[i])',\n",
            "         'for i in range(len(a)):\\n    print(i, a[i])',\n",
            "         'i = 0\\nfor v in a:\\n    print(i, v)\\n    i += 1',\n",
            "         'for i, v iin enumerate(a):\\n    print(i, v)',\n",
            "         'for i, v in enumerate(a):\\n    print(i, v)',\n",
            "         '5/3',\n",
            "         'type(5/3)',\n",
            "         '5//33',\n",
            "         '5//3',\n",
            "         'type(5//3)',\n",
            "         'int(5/3)',\n",
            "         'type(int(5/3))',\n",
            "         '5%3',\n",
            "         'divmod(5,3)\\n#몫과 나머지 한번에 구할 때',\n",
            "         \"print('A1', 'B2')\",\n",
            "         \"print('A1', 'B2', sep = ',')\",\n",
            "         \"print('aa', end = '')\",\n",
            "         \"print('aa', end = '')\\nprint('bb')\",\n",
            "         \"print('aa', end = ',')\\nprint('bb')\",\n",
            "         \"print('aa', end = '')\\nprint('bb')\",\n",
            "         \"print('aa', end = ' ')\\nprint('bb')\",\n",
            "         \"a = ['A', 'B']\\nprint('', join(a))\",\n",
            "         \"a = ['A', 'B']\\nprint(' ', join(a))\",\n",
            "         \"a = ['A', 'B']\\nprint(' '.join(a))\",\n",
            "         'idx = 1\\nfruit = \"Apple\"',\n",
            "         'idx = 1\\nfruit = \"Apple\"\\nprint(\\'{0}: {1}.format(idx + 1, fruit\\')',\n",
            "         'idx = 1\\nfruit = \"Apple\"\\nprint(\\'{0}: {1}\\'.format(idx + 1, fruit))',\n",
            "         \"print(f'{idx + 1}: {fruit}')\",\n",
            "         'class MyClass(object):\\n'\n",
            "         '    def method_a(self):\\n'\n",
            "         '\\n'\n",
            "         '    def method_b(self):\\n'\n",
            "         '        print(\"Method B\")\\n'\n",
            "         '\\n'\n",
            "         'c = MyClass()',\n",
            "         'class MyClass(object):\\n'\n",
            "         '    def method_a(self):\\n'\n",
            "         '        pass\\n'\n",
            "         '\\n'\n",
            "         '    def method_b(self):\\n'\n",
            "         '        print(\"Method B\")\\n'\n",
            "         '\\n'\n",
            "         'c = MyClass()',\n",
            "         'import pprint',\n",
            "         'import pprint\\npprint.pprint(locals())'],\n",
            " '_ii': 'class MyClass(object):\\n'\n",
            "        '    def method_a(self):\\n'\n",
            "        '        pass\\n'\n",
            "        '\\n'\n",
            "        '    def method_b(self):\\n'\n",
            "        '        print(\"Method B\")\\n'\n",
            "        '\\n'\n",
            "        'c = MyClass()',\n",
            " '_iii': 'class MyClass(object):\\n'\n",
            "         '    def method_a(self):\\n'\n",
            "         '\\n'\n",
            "         '    def method_b(self):\\n'\n",
            "         '        print(\"Method B\")\\n'\n",
            "         '\\n'\n",
            "         'c = MyClass()',\n",
            " '_oh': {3: False,\n",
            "         4: True,\n",
            "         7: True,\n",
            "         47: [11, 12, 13],\n",
            "         48: [2, 6, 10, 14, 18],\n",
            "         50: [2, 6, 10, 14, 18],\n",
            "         52: <generator object get_natural_number at 0x7f1dcdc3f7d0>,\n",
            "         54: <generator object generator at 0x7f1dcdc3fad0>,\n",
            "         55: 1,\n",
            "         56: 'string',\n",
            "         57: True,\n",
            "         58: [0, 1, 2, 3, 4],\n",
            "         59: range(0, 5),\n",
            "         60: <class 'range'>,\n",
            "         62: 0,\n",
            "         64: 1000000,\n",
            "         67: 1000000,\n",
            "         69: True,\n",
            "         70: range(0, 1000000),\n",
            "         71: <class 'range'>,\n",
            "         77: 999,\n",
            "         78: [0, 1, 2, 3, 4],\n",
            "         79: range(0, 5),\n",
            "         80: <class 'range'>,\n",
            "         83: 1000000,\n",
            "         84: 1000000,\n",
            "         85: True,\n",
            "         86: range(0, 1000000),\n",
            "         87: <class 'range'>,\n",
            "         90: 999,\n",
            "         91: [1, 2, 3, 2, 45, 2, 5],\n",
            "         92: <enumerate object at 0x7f1dcdc59410>,\n",
            "         93: [(0, 1), (1, 2), (2, 3), (3, 2), (4, 45), (5, 2), (6, 5)],\n",
            "         99: 1.6666666666666667,\n",
            "         100: <class 'float'>,\n",
            "         101: 0,\n",
            "         102: 1,\n",
            "         103: <class 'int'>,\n",
            "         104: 1,\n",
            "         105: <class 'int'>,\n",
            "         106: 2,\n",
            "         107: (1, 2)},\n",
            " '_sh': <module 'IPython.core.shadowns' from '/usr/local/lib/python3.7/dist-packages/IPython/core/shadowns.py'>,\n",
            " 'a': ['A', 'B'],\n",
            " 'apple': Product(weight=None, price=10),\n",
            " 'are_equal': <function are_equal at 0x7f1dcdcd8c20>,\n",
            " 'area': <function area at 0x7f1dcdbff9e0>,\n",
            " 'b': range(0, 1000000),\n",
            " 'c': <__main__.MyClass object at 0x7f1dcdbce6d0>,\n",
            " 'dataclass': <function dataclass at 0x7f1dcdc11440>,\n",
            " 'exit': <IPython.core.autocall.ZMQExitAutocall object at 0x7f1dd54002d0>,\n",
            " 'f': 'C',\n",
            " 'foo': ['A', 'B', 'C'],\n",
            " 'fruit': 'Apple',\n",
            " 'g': <generator object generator at 0x7f1dcdc3fad0>,\n",
            " 'generator': <function generator at 0x7f1dcdb57440>,\n",
            " 'get_ipython': <bound method InteractiveShell.get_ipython of <google.colab._shell.Shell object at 0x7f1dd7c58f10>>,\n",
            " 'get_natural_number': <function get_natural_number at 0x7f1dcdb45f80>,\n",
            " 'i': 6,\n",
            " 'idx': 1,\n",
            " 'long_function_name': <function long_function_name at 0x7f1dcdbe8d40>,\n",
            " 'm': MyStruct(field1='foo', field2='bar', field3='baz'),\n",
            " 'n': 10,\n",
            " 'namedtuple': <function namedtuple at 0x7f1df3871290>,\n",
            " 'pprint': <module 'pprint' from '/usr/lib/python3.7/pprint.py'>,\n",
            " 'quit': <IPython.core.autocall.ZMQExitAutocall object at 0x7f1dd54002d0>,\n",
            " 'rect': Rectangle(width=3, height=4),\n",
            " 'sum3': 55,\n",
            " 'sum4': 55,\n",
            " 'v': 5}\n"
          ],
          "name": "stdout"
        }
      ]
    },
    {
      "cell_type": "markdown",
      "metadata": {
        "id": "doHHAt77ljTc"
      },
      "source": [
        "#변수명과 주석(p.92~93)"
      ]
    },
    {
      "cell_type": "code",
      "metadata": {
        "id": "TedOTwjplpO4"
      },
      "source": [
        "def numMatchingSubseq(self, S:str, words: List[str]) -> int:\r\n",
        "    a = 0\r\n",
        "\r\n",
        "    for b in words:\r\n",
        "        c = 0\r\n",
        "        for i in range(len(b)):\r\n",
        "            d = S[c:].find(b[i])\r\n",
        "            if d < 0:\r\n",
        "                a -= 1\r\n",
        "                break\r\n",
        "            else:\r\n",
        "                c += d + 1\r\n",
        "        a += 1\r\n",
        "    return a"
      ],
      "execution_count": null,
      "outputs": []
    },
    {
      "cell_type": "code",
      "metadata": {
        "id": "BAITyNqMZk_H"
      },
      "source": [
        "def numMatchingSubseq(self, S: str, words: List[str]) -> int:\r\n",
        "    matched_count = 0\r\n",
        "\r\n",
        "    for word in words:\r\n",
        "       #Find matching position for each character.\r\n",
        "       found_pos = S[pos:].find(word[i])\r\n",
        "       if found_pos < 0:\r\n",
        "           matched_count -= 1\r\n",
        "           break\r\n",
        "       else: #If found, take step position forward.\r\n",
        "           pos += found_pos + 1\r\n",
        "    matched_count += 1\r\n",
        "\r\n",
        "return matched_count\r\n",
        "#간단한 주석을 부여하는 편이 훨씬 가독성이 높음\r\n",
        "#변수명도 각각의 의미있고 스네이크 케이스로 작성이 좋음"
      ],
      "execution_count": null,
      "outputs": []
    },
    {
      "cell_type": "markdown",
      "metadata": {
        "id": "f6y_jZIw86_m"
      },
      "source": [
        "#리스트 컴프리헨션(p.94~95)"
      ]
    },
    {
      "cell_type": "code",
      "metadata": {
        "id": "TGe3Am2frYdn"
      },
      "source": [
        "str1s = [str1s[i:i + 2].lower() for i in range(len(str1) - 1) if re.findall('[a-z]{2}', str1[i:i+2].lower())]\r\n",
        "#가독성 떨어짐"
      ],
      "execution_count": null,
      "outputs": []
    },
    {
      "cell_type": "code",
      "metadata": {
        "id": "7HY9tdJUrYgo"
      },
      "source": [
        "str1s = [\r\n",
        "         str1s[i:i + 2].lower() for i in range(len(str1) - 1) \r\n",
        "         if re.findall('[a-z]{2}', str1[i:i+2].lower())\r\n",
        "         ]\r\n",
        "#표현식이 2개 넘지 않게 하여 복잡도 줄였지만 여전히 가독성은 떨어짐"
      ],
      "execution_count": null,
      "outputs": []
    },
    {
      "cell_type": "code",
      "metadata": {
        "id": "CJzen59KrYjA"
      },
      "source": [
        "str1s = []\r\n",
        "for i in range(len(str1) - 1):\r\n",
        "    if re.findall('[a-z]{2}', str1[i:i+2].lower()):\r\n",
        "        str1s.append(str1[i:i+2].lower())\r\n",
        "#코드를 읽는 방향이 위에서 아래까지 차례대로 정방향이기 때문에 이해하기 쉬움"
      ],
      "execution_count": null,
      "outputs": []
    },
    {
      "cell_type": "code",
      "metadata": {
        "id": "dJOF9nnwrYmG"
      },
      "source": [
        "return [(x,y,z)\r\n",
        "        for x in range(5)\r\n",
        "        for y in range(5)\r\n",
        "        if x != y\r\n",
        "        for z in rnage(5)\r\n",
        "        if y != z]\r\n",
        "\r\n",
        "#여러 표현식으로 여러 줄에 걸쳐 표현하면 가독성이 떨어짐"
      ],
      "execution_count": null,
      "outputs": []
    },
    {
      "cell_type": "markdown",
      "metadata": {
        "id": "Jt39Ny3T_xrc"
      },
      "source": [
        "#구글 파이썬 스타일 가이드(p.95~96)"
      ]
    },
    {
      "cell_type": "code",
      "metadata": {
        "id": "WXIf-uvz_wQi"
      },
      "source": [
        "No: def foo(a, b=[]):\r\n",
        "No: def foo(a, b: Mappong = {}):\r\n",
        "#가변 객체를 사용하지 않아야함\r\n",
        "#기본값으로 [], {} 사용을을 지양해야함"
      ],
      "execution_count": null,
      "outputs": []
    },
    {
      "cell_type": "code",
      "metadata": {
        "id": "q7wpDGJeB4OG"
      },
      "source": [
        "Yes: def foo(a, b=None):\r\n",
        "         if b is None:\r\n",
        "             b = []\r\n",
        "Yes: def foo(a, b: Optional[Sequence] = None):\r\n",
        "         if b is None:\r\n",
        "             b = []\r\n",
        "#불변의 객체를 사용\r\n",
        "#None을 명시적으로 할당하는 것도 좋은 방법"
      ],
      "execution_count": null,
      "outputs": []
    },
    {
      "cell_type": "code",
      "metadata": {
        "id": "VlYaDSgsB4Qx"
      },
      "source": [
        "Yes: if not user:\r\n",
        "         print('no user')\r\n",
        "#True, False를 판별할 때 암시적인 방법을 사용하는 편이 간결하고 가독성 있음\r\n",
        "\r\n",
        "     if foo == 0:\r\n",
        "         self.handle_zero()\r\n",
        "#비교대상이 되는 정수값을 직접 비교하는 편이 덜 위험함\r\n",
        "#연산 결과가 0인 것을 정수로 처리하지 않고 암시적 거짓 여부로 판별하는 것은 위험함\r\n",
        "\r\n",
        "     if i % 10 == 0:\r\n",
        "         self.handle_multiple_of_ten()\r\n",
        "#명시적으로 값을 비교하는 편이 좋음\r\n",
        "\r\n",
        "No: if len(user) == 0:\r\n",
        "        print('no user')\r\n",
        "\r\n",
        "    if foo is not None and not foo:\r\n",
        "        self.handle_zero()\r\n",
        "\r\n",
        "    if not i % 10:\r\n",
        "        self.handle_multiple_of_ten()"
      ],
      "execution_count": null,
      "outputs": []
    },
    {
      "cell_type": "markdown",
      "metadata": {
        "id": "MECTkVcMFMJU"
      },
      "source": [
        "#빅오(p.102)"
      ]
    },
    {
      "cell_type": "code",
      "metadata": {
        "colab": {
          "base_uri": "https://localhost:8080/"
        },
        "id": "mti8Hht5B4UY",
        "outputId": "5020f981-6627-4bb0-e9ab-114b023e6663"
      },
      "source": [
        "for n in range(1,15 + 1):\r\n",
        "    print(n, n**2, 2**n)"
      ],
      "execution_count": 4,
      "outputs": [
        {
          "output_type": "stream",
          "text": [
            "1 1 2\n",
            "2 4 4\n",
            "3 9 8\n",
            "4 16 16\n",
            "5 25 32\n",
            "6 36 64\n",
            "7 49 128\n",
            "8 64 256\n",
            "9 81 512\n",
            "10 100 1024\n",
            "11 121 2048\n",
            "12 144 4096\n",
            "13 169 8192\n",
            "14 196 16384\n",
            "15 225 32768\n"
          ],
          "name": "stdout"
        }
      ]
    },
    {
      "cell_type": "markdown",
      "metadata": {
        "id": "8EJEPlhPGjtg"
      },
      "source": [
        "#집합(p.110~111)"
      ]
    },
    {
      "cell_type": "code",
      "metadata": {
        "colab": {
          "base_uri": "https://localhost:8080/"
        },
        "id": "-yHv2uqOB4Yu",
        "outputId": "18673fc3-95d5-4683-945a-a0b9d9390675"
      },
      "source": [
        "a = set()\r\n",
        "a"
      ],
      "execution_count": 5,
      "outputs": [
        {
          "output_type": "execute_result",
          "data": {
            "text/plain": [
              "set()"
            ]
          },
          "metadata": {
            "tags": []
          },
          "execution_count": 5
        }
      ]
    },
    {
      "cell_type": "code",
      "metadata": {
        "colab": {
          "base_uri": "https://localhost:8080/"
        },
        "id": "Ms-KgI3cB4bK",
        "outputId": "8511ecb1-7cea-4f05-ce53-3aeec8fccda1"
      },
      "source": [
        "type(a)"
      ],
      "execution_count": 6,
      "outputs": [
        {
          "output_type": "execute_result",
          "data": {
            "text/plain": [
              "set"
            ]
          },
          "metadata": {
            "tags": []
          },
          "execution_count": 6
        }
      ]
    },
    {
      "cell_type": "code",
      "metadata": {
        "colab": {
          "base_uri": "https://localhost:8080/"
        },
        "id": "HP-nv8DXHjd7",
        "outputId": "045b796e-c390-402b-face-fde6fb408c0d"
      },
      "source": [
        "a = {'a', 'b', 'c'}\r\n",
        "type(a)"
      ],
      "execution_count": 7,
      "outputs": [
        {
          "output_type": "execute_result",
          "data": {
            "text/plain": [
              "set"
            ]
          },
          "metadata": {
            "tags": []
          },
          "execution_count": 7
        }
      ]
    },
    {
      "cell_type": "code",
      "metadata": {
        "colab": {
          "base_uri": "https://localhost:8080/"
        },
        "id": "Mvx7hOkJHjg2",
        "outputId": "afc1f9aa-7a89-45f3-8b40-3fea28bee902"
      },
      "source": [
        "a = {'a':'A', 'b':'B', 'c':'C'}\r\n",
        "type(a)"
      ],
      "execution_count": 8,
      "outputs": [
        {
          "output_type": "execute_result",
          "data": {
            "text/plain": [
              "dict"
            ]
          },
          "metadata": {
            "tags": []
          },
          "execution_count": 8
        }
      ]
    },
    {
      "cell_type": "code",
      "metadata": {
        "colab": {
          "base_uri": "https://localhost:8080/"
        },
        "id": "dD_UwH4aHjjv",
        "outputId": "a25f0e74-082b-4338-bb64-24c87914886a"
      },
      "source": [
        "a = {3,2,3,5}\r\n",
        "a"
      ],
      "execution_count": 9,
      "outputs": [
        {
          "output_type": "execute_result",
          "data": {
            "text/plain": [
              "{2, 3, 5}"
            ]
          },
          "metadata": {
            "tags": []
          },
          "execution_count": 9
        }
      ]
    },
    {
      "cell_type": "markdown",
      "metadata": {
        "id": "_by5quzFIH5A"
      },
      "source": [
        "#시퀀스(p.111)"
      ]
    },
    {
      "cell_type": "code",
      "metadata": {
        "colab": {
          "base_uri": "https://localhost:8080/"
        },
        "id": "2JtQK7toIG1_",
        "outputId": "1aeedf84-ffc1-4387-ec9d-761c10e9a103"
      },
      "source": [
        "a = 'abc'\r\n",
        "a = 'def'\r\n",
        "type(a)"
      ],
      "execution_count": 10,
      "outputs": [
        {
          "output_type": "execute_result",
          "data": {
            "text/plain": [
              "str"
            ]
          },
          "metadata": {
            "tags": []
          },
          "execution_count": 10
        }
      ]
    },
    {
      "cell_type": "code",
      "metadata": {
        "colab": {
          "base_uri": "https://localhost:8080/"
        },
        "id": "PaRzxSfpIG4z",
        "outputId": "c58bcbcb-d916-40f7-80f1-9d7d4d038604"
      },
      "source": [
        "a = 'abc'\r\n",
        "id('abc')"
      ],
      "execution_count": 11,
      "outputs": [
        {
          "output_type": "execute_result",
          "data": {
            "text/plain": [
              "140067083115632"
            ]
          },
          "metadata": {
            "tags": []
          },
          "execution_count": 11
        }
      ]
    },
    {
      "cell_type": "code",
      "metadata": {
        "colab": {
          "base_uri": "https://localhost:8080/"
        },
        "id": "UDEnV_ZlIG7x",
        "outputId": "b9ce3f64-8b9c-4f75-a909-2c1a620389d6"
      },
      "source": [
        "a = 'abc'\r\n",
        "id('abc')"
      ],
      "execution_count": 12,
      "outputs": [
        {
          "output_type": "execute_result",
          "data": {
            "text/plain": [
              "140067083115632"
            ]
          },
          "metadata": {
            "tags": []
          },
          "execution_count": 12
        }
      ]
    },
    {
      "cell_type": "code",
      "metadata": {
        "colab": {
          "base_uri": "https://localhost:8080/"
        },
        "id": "TZFW2G6VIG_X",
        "outputId": "ecf3379c-76f8-473d-8fe1-c10486300edb"
      },
      "source": [
        "id(a)"
      ],
      "execution_count": 13,
      "outputs": [
        {
          "output_type": "execute_result",
          "data": {
            "text/plain": [
              "140067083115632"
            ]
          },
          "metadata": {
            "tags": []
          },
          "execution_count": 13
        }
      ]
    },
    {
      "cell_type": "code",
      "metadata": {
        "colab": {
          "base_uri": "https://localhost:8080/"
        },
        "id": "GcHxdzOcIyhK",
        "outputId": "268c94b5-12f1-4d70-a04b-2090b423a2df"
      },
      "source": [
        "a = 'def'\r\n",
        "id('def')"
      ],
      "execution_count": 14,
      "outputs": [
        {
          "output_type": "execute_result",
          "data": {
            "text/plain": [
              "140067082260272"
            ]
          },
          "metadata": {
            "tags": []
          },
          "execution_count": 14
        }
      ]
    },
    {
      "cell_type": "code",
      "metadata": {
        "colab": {
          "base_uri": "https://localhost:8080/"
        },
        "id": "aWSPaN7gIymK",
        "outputId": "7a378673-eddb-46ba-91e8-0cba70a70d95"
      },
      "source": [
        "id(a)"
      ],
      "execution_count": 15,
      "outputs": [
        {
          "output_type": "execute_result",
          "data": {
            "text/plain": [
              "140067082260272"
            ]
          },
          "metadata": {
            "tags": []
          },
          "execution_count": 15
        }
      ]
    },
    {
      "cell_type": "code",
      "metadata": {
        "colab": {
          "base_uri": "https://localhost:8080/",
          "height": 169
        },
        "id": "bKrA7I1DIyvM",
        "outputId": "98257348-3ade-4f73-ba14-255e3b47768e"
      },
      "source": [
        "a[1] = 'd'\r\n",
        "#str은 변경할 수 없으며 불변임"
      ],
      "execution_count": 16,
      "outputs": [
        {
          "output_type": "error",
          "ename": "TypeError",
          "evalue": "ignored",
          "traceback": [
            "\u001b[0;31m---------------------------------------------------------------------------\u001b[0m",
            "\u001b[0;31mTypeError\u001b[0m                                 Traceback (most recent call last)",
            "\u001b[0;32m<ipython-input-16-8d872f916c18>\u001b[0m in \u001b[0;36m<module>\u001b[0;34m()\u001b[0m\n\u001b[0;32m----> 1\u001b[0;31m \u001b[0ma\u001b[0m\u001b[0;34m[\u001b[0m\u001b[0;36m1\u001b[0m\u001b[0;34m]\u001b[0m \u001b[0;34m=\u001b[0m \u001b[0;34m'd'\u001b[0m\u001b[0;34m\u001b[0m\u001b[0;34m\u001b[0m\u001b[0m\n\u001b[0m",
            "\u001b[0;31mTypeError\u001b[0m: 'str' object does not support item assignment"
          ]
        }
      ]
    },
    {
      "cell_type": "markdown",
      "metadata": {
        "id": "_TLOvd-QJdzd"
      },
      "source": [
        "#불변 객체(p.116)"
      ]
    },
    {
      "cell_type": "code",
      "metadata": {
        "colab": {
          "base_uri": "https://localhost:8080/"
        },
        "id": "gPOPB6Q3JQYj",
        "outputId": "6dc3a933-72be-431c-f537-4deb59a2d852"
      },
      "source": [
        "10\r\n",
        "a = 10\r\n",
        "b = a\r\n",
        "id(10), id(a), id(b)"
      ],
      "execution_count": 17,
      "outputs": [
        {
          "output_type": "execute_result",
          "data": {
            "text/plain": [
              "(94273784630048, 94273784630048, 94273784630048)"
            ]
          },
          "metadata": {
            "tags": []
          },
          "execution_count": 17
        }
      ]
    },
    {
      "cell_type": "markdown",
      "metadata": {
        "id": "U_SCyw5HKBOa"
      },
      "source": [
        "#가변 객체(p.116~117)"
      ]
    },
    {
      "cell_type": "code",
      "metadata": {
        "colab": {
          "base_uri": "https://localhost:8080/"
        },
        "id": "XyGfcHa4KF7I",
        "outputId": "de41985a-b922-4520-c792-032806556101"
      },
      "source": [
        "a = [1, 2, 3, 4, 5]\r\n",
        "b = a\r\n",
        "b"
      ],
      "execution_count": 18,
      "outputs": [
        {
          "output_type": "execute_result",
          "data": {
            "text/plain": [
              "[1, 2, 3, 4, 5]"
            ]
          },
          "metadata": {
            "tags": []
          },
          "execution_count": 18
        }
      ]
    },
    {
      "cell_type": "code",
      "metadata": {
        "colab": {
          "base_uri": "https://localhost:8080/"
        },
        "id": "au1OTmJVKMm7",
        "outputId": "f84dd6e9-f561-41e9-ba40-7136136cf09a"
      },
      "source": [
        "a[2] = 4\r\n",
        "a"
      ],
      "execution_count": 21,
      "outputs": [
        {
          "output_type": "execute_result",
          "data": {
            "text/plain": [
              "[1, 2, 4, 4, 5]"
            ]
          },
          "metadata": {
            "tags": []
          },
          "execution_count": 21
        }
      ]
    },
    {
      "cell_type": "code",
      "metadata": {
        "colab": {
          "base_uri": "https://localhost:8080/"
        },
        "id": "LEtrxpvJKMqd",
        "outputId": "d2b27998-022e-41ed-8b5a-de490ed10964"
      },
      "source": [
        "b"
      ],
      "execution_count": 22,
      "outputs": [
        {
          "output_type": "execute_result",
          "data": {
            "text/plain": [
              "[1, 2, 4, 4, 5]"
            ]
          },
          "metadata": {
            "tags": []
          },
          "execution_count": 22
        }
      ]
    },
    {
      "cell_type": "markdown",
      "metadata": {
        "id": "bLOC836KKqPR"
      },
      "source": [
        "#is와 ==(p.118)"
      ]
    },
    {
      "cell_type": "code",
      "metadata": {
        "id": "O48Qont7Kptg"
      },
      "source": [
        "if a is None:\r\n",
        "    pass"
      ],
      "execution_count": 28,
      "outputs": []
    },
    {
      "cell_type": "code",
      "metadata": {
        "colab": {
          "base_uri": "https://localhost:8080/"
        },
        "id": "vYq8G6NKLl6e",
        "outputId": "f4bf2178-abef-4d1e-ad0b-724fa65375a5"
      },
      "source": [
        "a = [1, 2, 3]\r\n",
        "a == a\r\n"
      ],
      "execution_count": 29,
      "outputs": [
        {
          "output_type": "execute_result",
          "data": {
            "text/plain": [
              "True"
            ]
          },
          "metadata": {
            "tags": []
          },
          "execution_count": 29
        }
      ]
    },
    {
      "cell_type": "code",
      "metadata": {
        "colab": {
          "base_uri": "https://localhost:8080/"
        },
        "id": "M9iexNOOLl_l",
        "outputId": "64cce6ce-b419-4fb9-f1c7-6be0ae68c23c"
      },
      "source": [
        " a == list(a)"
      ],
      "execution_count": 30,
      "outputs": [
        {
          "output_type": "execute_result",
          "data": {
            "text/plain": [
              "True"
            ]
          },
          "metadata": {
            "tags": []
          },
          "execution_count": 30
        }
      ]
    },
    {
      "cell_type": "code",
      "metadata": {
        "colab": {
          "base_uri": "https://localhost:8080/"
        },
        "id": "2p9Ng5aALmDf",
        "outputId": "c8a85ec0-31e6-44bb-edd8-d9c2a1b15fc6"
      },
      "source": [
        "a is a"
      ],
      "execution_count": 31,
      "outputs": [
        {
          "output_type": "execute_result",
          "data": {
            "text/plain": [
              "True"
            ]
          },
          "metadata": {
            "tags": []
          },
          "execution_count": 31
        }
      ]
    },
    {
      "cell_type": "code",
      "metadata": {
        "colab": {
          "base_uri": "https://localhost:8080/"
        },
        "id": "bc3r4Lh0LtCi",
        "outputId": "6f92d6c9-d9ec-4181-d1a8-63f1f0d44a04"
      },
      "source": [
        "a is list(a)\r\n",
        "#별도의 객체로 복사가 되고 다른 ID를 갖게 됨"
      ],
      "execution_count": 32,
      "outputs": [
        {
          "output_type": "execute_result",
          "data": {
            "text/plain": [
              "False"
            ]
          },
          "metadata": {
            "tags": []
          },
          "execution_count": 32
        }
      ]
    },
    {
      "cell_type": "code",
      "metadata": {
        "id": "x8WpN214L9NG"
      },
      "source": [
        "a = [1,2,3]\r\n",
        "a == copy.deepcopy(a)\r\n",
        "#True"
      ],
      "execution_count": null,
      "outputs": []
    },
    {
      "cell_type": "code",
      "metadata": {
        "id": "-ECFLypLMS7N"
      },
      "source": [
        "a is copy.deepcopy(a)\r\n",
        "#False\r\n",
        "\r\n",
        "#copy.deepcopy로 복사한 결과 또한 값은 값음\r\n",
        "#ID가 다르기 때문에 False"
      ],
      "execution_count": null,
      "outputs": []
    }
  ]
}