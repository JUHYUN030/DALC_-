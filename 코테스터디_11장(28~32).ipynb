{
  "nbformat": 4,
  "nbformat_minor": 0,
  "metadata": {
    "colab": {
      "name": "코테스터디_11장(28~32).ipynb",
      "provenance": [],
      "collapsed_sections": [],
      "authorship_tag": "ABX9TyNEMHGQ1F/ZdtR+Y0hMybaQ",
      "include_colab_link": true
    },
    "kernelspec": {
      "name": "python3",
      "display_name": "Python 3"
    },
    "language_info": {
      "name": "python"
    }
  },
  "cells": [
    {
      "cell_type": "markdown",
      "metadata": {
        "id": "view-in-github",
        "colab_type": "text"
      },
      "source": [
        "<a href=\"https://colab.research.google.com/github/JUHYUN030/DALC_CODING-TEST/blob/main/%EC%BD%94%ED%85%8C%EC%8A%A4%ED%84%B0%EB%94%94_11%EC%9E%A5(28~32).ipynb\" target=\"_parent\"><img src=\"https://colab.research.google.com/assets/colab-badge.svg\" alt=\"Open In Colab\"/></a>"
      ]
    },
    {
      "cell_type": "markdown",
      "metadata": {
        "id": "xGQQ7RAWn78M"
      },
      "source": [
        "# 해시맵 디자인(p.291)\n",
        "다음의 기능을 제공하는 해시맵을 디자인해라"
      ]
    },
    {
      "cell_type": "markdown",
      "metadata": {
        "id": "wDEWLMtho5Ay"
      },
      "source": [
        "put(key, value) : 키, 값을 해시맵에 삽입한다. 만약 이미 존재하는 키라면 업데이트한다.  \n",
        "get(key) : 키에 해당하는 값을 조회한다. 만약 키가 존재하지 않는다면 -1을 리턴한다.  \n",
        "remove(key) : 키에 해당하는 키, 값을 해시맵에서 삭제한다."
      ]
    },
    {
      "cell_type": "markdown",
      "metadata": {
        "id": "Yb7urI2gptz3"
      },
      "source": [
        "**예시**"
      ]
    },
    {
      "cell_type": "code",
      "metadata": {
        "id": "DFiMkzmJgSm1"
      },
      "source": [
        "MyHashMap hashMap = new MyHashMap();\n",
        "hashMap.put(1, 1);          \n",
        "hashMap.put(2, 2);         \n",
        "hashMap.get(1);            // 1을 리턴한다\n",
        "hashMap.get(3);            // -1을 리턴한다(키가 존재하지 않음)\n",
        "hashMap.put(2, 1);          // 값을 업데이트한다\n",
        "hashMap.get(2);            // 1을 리턴한다\n",
        "hashMap.remove(2);          // 키 2에 해당하는 키, 값을 삭제한다\n",
        "hashMap.get(2);            // -1을 리턴한다(키가 삭제되어 존재하지 않음)"
      ],
      "execution_count": null,
      "outputs": []
    },
    {
      "cell_type": "code",
      "metadata": {
        "id": "hK05qjdrp2G4"
      },
      "source": [
        "class MyHashMap:\n",
        "    # 초기화\n",
        "    def __init__(self):\n",
        "        self.size = 1000\n",
        "        self.table = collections.defaultdict(ListNode)\n",
        "\n",
        "    # 삽입\n",
        "    def put(self, key, value):\n",
        "        index = key % self.size\n",
        "        # 인덱스에 노드가 없다면 삽입 후 종료\n",
        "        if self.table[index].value is None:\n",
        "            self.table[index] = ListNode(key, value)\n",
        "            return\n",
        "\n",
        "        # 인덱스에 노드가 존재하는 경우 연결 리스트 처리\n",
        "        p = self.table[index]\n",
        "        while p:\n",
        "            if p.key == key:\n",
        "                p.value = value\n",
        "                return\n",
        "            if p.next is None:\n",
        "                break\n",
        "            p = p.next\n",
        "        p.next = ListNode(key, value)\n",
        "\n",
        "    # 조회\n",
        "    def get(self, key):\n",
        "        index = key % self.size\n",
        "        if self.table[index].value is None:\n",
        "            return -1\n",
        "\n",
        "        # 노드가 존재할 때 일치하는 키 탐색\n",
        "        p = self.table[index]\n",
        "        while p:\n",
        "            if p.key == key:\n",
        "                return p.value\n",
        "            p = p.next\n",
        "        return -1\n",
        "\n",
        "    # 삭제\n",
        "    def remove(self, key):\n",
        "        index = key % self.size\n",
        "        if self.table[index].value is None:\n",
        "            return\n",
        "\n",
        "        # 인덱스의 첫 번째 노드일 때 삭제 처리\n",
        "        p = self.table[index]\n",
        "        if p.key == key:\n",
        "            self.table[index] = ListNode() if p.next is None else p.next\n",
        "            return\n",
        "\n",
        "        # 연결 리스트 노드 삭제\n",
        "        prev = p\n",
        "        while p:\n",
        "            if p.key == key:\n",
        "                prev.next = p.next\n",
        "                return\n",
        "            prev, p = p, p.next"
      ],
      "execution_count": 3,
      "outputs": []
    },
    {
      "cell_type": "markdown",
      "metadata": {
        "id": "xbO9rvTu7F8x"
      },
      "source": [
        "# 보석과 돌(p.298)\n",
        "J는 보석이며, S는 갖고 있는 돌이다. S에는 보석이 몇개나 있을까?  \n",
        "대소문자는 구분한다."
      ]
    },
    {
      "cell_type": "markdown",
      "metadata": {
        "id": "4haQQilq7Yx7"
      },
      "source": [
        "**예시**  \n",
        "입력 J = \"aA\" , S = \"aAAbbbb\"  \n",
        "출력 3"
      ]
    },
    {
      "cell_type": "code",
      "metadata": {
        "id": "4IvCmJSm7EhT"
      },
      "source": [
        "def numJewelsInStones(self, jewels, stones):\n",
        "    freqs = collections.defaultdict(int)\n",
        "    result = 0\n",
        "    \n",
        "    # 돌(s)의 빈도수 계산\n",
        "    for char in stones:\n",
        "        freqs[char] += 1\n",
        "\n",
        "    for char in jewels:  # !\n",
        "        result += freqs[char]\n",
        "\n",
        "    return result"
      ],
      "execution_count": 4,
      "outputs": []
    },
    {
      "cell_type": "markdown",
      "metadata": {
        "id": "4XR34oAcHQbQ"
      },
      "source": [
        "# 중복 문자 없는 가장 긴 부분 문자열\n",
        "중복 문자가 없는 가장 긴 부분 문자열의 길이를 리턴하라"
      ]
    },
    {
      "cell_type": "markdown",
      "metadata": {
        "id": "U_CGpK9yHyjY"
      },
      "source": [
        "**예시1**  \n",
        "입력: \"abcabcbb\"  \n",
        "출력: 3  \n",
        "\n",
        "**예시2**  \n",
        "입력: \"bbbbb\"  \n",
        "출력: 1"
      ]
    },
    {
      "cell_type": "code",
      "metadata": {
        "id": "0OxSq-kbHyyj"
      },
      "source": [
        "class Solution:\n",
        "    def lengthOfLongestSubstring(self, s: str) -> int:\n",
        "        used = {}\n",
        "        max_length = start = 0\n",
        "        \n",
        "        for index, char in enumerate(s):\n",
        "            #이미 등장했던 문자라면 'start' 위치 갱신\n",
        "            if char in used and start <= used[char]:\n",
        "                start = used[char] + 1\n",
        "            \n",
        "            else: #최대 부분 문자열 길이 갱신\n",
        "                max_length = max(max_length, index - start + 1)\n",
        "                \n",
        "            #현재 문자의 위치 삽입\n",
        "            used[char] = index\n",
        "            \n",
        "        return max_length"
      ],
      "execution_count": 6,
      "outputs": []
    }
  ]
}